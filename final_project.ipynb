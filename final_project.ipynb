{
  "cells": [
    {
      "cell_type": "markdown",
      "metadata": {
        "id": "fJ1psriJqy1X"
      },
      "source": [
        "## Frame the Problem and Look at the Big Picture"
      ]
    },
    {
      "cell_type": "markdown",
      "metadata": {
        "id": "ezik-bzfqy1a"
      },
      "source": [
        "### The problem and how it will be solved:\n",
        "\n",
        "The objective of this project is to accurately predict a student's grade performance based on a range of factors about the student. Creating such a model will increase the functionality of the recruiting and advising teams, as it will improve their ability to help students succeed.  An increase in graduation rates and improvement in test scores overall could not only lead to better funding for this school, but also a better reputation, which means higher enrollment numbers.  \n"
      ]
    },
    {
      "cell_type": "markdown",
      "metadata": {
        "id": "GKskKrLN7gEE"
      },
      "source": [
        "### How to Frame the Problem:\n",
        "\n",
        "I will go about building this model through the use of supervised learning.  This type of model classification means that I will use labeled data to train my algorithm to more accurately predict an outcome. For example, think about a kindergarten teacher teaching her students about animals.  She shows them pictures of dogs and cats and tells them which one is which.  Now, after some practice, the students will likely be able to identify a dog vs a cat when looking at different pictures not previously shown.  That is a very simplified version of what I will be doing with the data in order to predict a student's performance at the school.\n",
        "I will also be using offline learning for this model, which means I am training this model over a full set of data, in contrast to just observing one data point at a time.\n",
        "The specific machine learning task I will be using is regression. Regression predicts a number, whereas the other option, classification, predicts categories. I believe the regression task will be optimal because I want to be able to predict the G3 term grades of a student.\n"
      ]
    },
    {
      "cell_type": "markdown",
      "metadata": {
        "id": "gaQFZRrY_9LX"
      },
      "source": [
        "## Get the Data\n",
        "### Correctly Import Data"
      ]
    },
    {
      "cell_type": "code",
      "execution_count": 2,
      "metadata": {
        "colab": {
          "base_uri": "https://localhost:8080/",
          "height": 76
        },
        "id": "K9raJ1fiqy1a",
        "outputId": "147310ae-c20a-4982-a31e-a12625cff730"
      },
      "outputs": [],
      "source": [
        "# standard imports\n",
        "import sklearn\n",
        "import pandas as pd\n",
        "import numpy as np\n",
        "import seaborn as sns\n",
        "\n",
        "# set a random seed of 42\n",
        "np.random.seed(42)\n",
        "\n",
        "# import data to a dataframe\n",
        "\n",
        "data = pd.read_csv('student-mat.csv')\n"
      ]
    },
    {
      "cell_type": "markdown",
      "metadata": {
        "id": "xNW2EX8wqy1d"
      },
      "source": [
        "### Check size and type of data\n"
      ]
    },
    {
      "cell_type": "markdown",
      "metadata": {
        "id": "iQdpMHzbDI_p"
      },
      "source": [
        "### Available features and their data descriptions:"
      ]
    },
    {
      "cell_type": "markdown",
      "metadata": {
        "id": "dDFP65DcBnFc"
      },
      "source": [
        "1. school - student's school (binary: \"GP\" - Gabriel Pereira or \"MS\" - Mousinho da Silveira)\n",
        "2. sex - student's sex (binary: \"F\" - female or \"M\" - male)\n",
        "3. age - student's age (numeric: from 15 to 22)\n",
        "4. address - student's home address type (binary: \"U\" - urban or \"R\" - rural)\n",
        "5. famsize - family size (binary: \"LE3\" - less or equal to 3 or \"GT3\" - greater than 3)\n",
        "6. Pstatus - parent's cohabitation status (binary: \"T\" - living together or \"A\" - apart)\n",
        "7. Medu - mother's education (numeric: 0 - none, 1 - primary education (4th grade), 2 – 5th\n",
        "to 9th grade, 3 – secondary education or 4 – higher education)\n",
        "8. Fedu - father's education (numeric: 0 - none, 1 - primary education (4th grade), 2 – 5th\n",
        "to 9th grade, 3 – secondary education or 4 – higher education)\n",
        "9. Mjob - mother's job (nominal: \"teacher\", \"health\" care related, civil \"services\" (e.g.\n",
        "administrative or police), \"at_home\" or \"other\")\n",
        "10. Fjob - father's job (nominal: \"teacher\", \"health\" care related, civil \"services\" (e.g.\n",
        "administrative or police), \"at_home\" or \"other\")\n",
        "11. reason - reason to choose this school (nominal: close to \"home\", school \"reputation\",\n",
        "\"course\" preference or \"other\")\n",
        "12. guardian - student's guardian (nominal: \"mother\", \"father\" or \"other\")\n",
        "13. traveltime - home to school travel time (numeric: 1 - <15 min., 2 - 15 to 30 min., 3 - 30\n",
        "min. to 1 hour, or 4 - >1 hour)\n",
        "14. studytime - weekly study time (numeric: 1 - <2 hours, 2 - 2 to 5 hours, 3 - 5 to 10 hours,\n",
        "or 4 - >10 hours)\n",
        "15. failures - number of past class failures (numeric: n if 1<=n<3, else 4)\n",
        "16. schoolsup - extra educational support (binary: yes or no)\n",
        "17. famsup - family educational support (binary: yes or no)\n",
        "18. paid - extra paid classes within the course subject (Math or Portuguese) (binary: yes or\n",
        "no)\n",
        "19. activities - extra-curricular activities (binary: yes or no)\n",
        "20. nursery - attended nursery school (binary: yes or no)\n",
        "21. higher - wants to take higher education (binary: yes or no)\n",
        "22. internet - Internet access at home (binary: yes or no)\n",
        "23. romantic - with a romantic relationship (binary: yes or no)\n",
        "24. famrel - quality of family relationships (numeric: from 1 - very bad to 5 - excellent)\n",
        "25. freetime - free time after school (numeric: from 1 - very low to 5 - very high)\n",
        "26. goout - going out with friends (numeric: from 1 - very low to 5 - very high)\n",
        "27. Dalc - workday alcohol consumption (numeric: from 1 - very low to 5 - very high)\n",
        "28. Walc - weekend alcohol consumption (numeric: from 1 - very low to 5 - very high)\n",
        "29. health - current health status (numeric: from 1 - very bad to 5 - very good)\n",
        "30. absences_G1 - number of school absences for G1 term (numeric)\n",
        "31. absences_G2 - number of school absences for G2 term (numeric)\n",
        "32. absences_G3 - number of school absences for G3 term (numeric)   \n",
        "these grades are related with the course math subject:\n",
        "33. G1 - first term grade (numeric: from 0 to 20)\n",
        "34. G2 - second term grade (numeric: from 0 to 20)\n",
        "35. G3 - final grade (numeric: from 0 to 20, ← this is your output target)"
      ]
    },
    {
      "cell_type": "code",
      "execution_count": 3,
      "metadata": {
        "colab": {
          "base_uri": "https://localhost:8080/"
        },
        "id": "Garq5KxOqy1d",
        "outputId": "facc7d1c-c9bc-4ed9-f243-9cab981b746e"
      },
      "outputs": [
        {
          "name": "stdout",
          "output_type": "stream",
          "text": [
            "<class 'pandas.core.frame.DataFrame'>\n",
            "RangeIndex: 395 entries, 0 to 394\n",
            "Data columns (total 35 columns):\n",
            " #   Column       Non-Null Count  Dtype  \n",
            "---  ------       --------------  -----  \n",
            " 0   school       395 non-null    object \n",
            " 1   sex          395 non-null    object \n",
            " 2   age          383 non-null    float64\n",
            " 3   address      395 non-null    object \n",
            " 4   famsize      395 non-null    object \n",
            " 5   Pstatus      395 non-null    object \n",
            " 6   Medu         395 non-null    int64  \n",
            " 7   Fedu         395 non-null    int64  \n",
            " 8   Mjob         395 non-null    object \n",
            " 9   Fjob         395 non-null    object \n",
            " 10  reason       395 non-null    object \n",
            " 11  guardian     395 non-null    object \n",
            " 12  traveltime   395 non-null    int64  \n",
            " 13  studytime    395 non-null    int64  \n",
            " 14  failures     395 non-null    int64  \n",
            " 15  schoolsup    395 non-null    object \n",
            " 16  famsup       395 non-null    object \n",
            " 17  paid         395 non-null    object \n",
            " 18  activities   395 non-null    object \n",
            " 19  nursery      395 non-null    object \n",
            " 20  higher       395 non-null    object \n",
            " 21  internet     395 non-null    object \n",
            " 22  romantic     395 non-null    object \n",
            " 23  famrel       395 non-null    int64  \n",
            " 24  freetime     395 non-null    int64  \n",
            " 25  goout        395 non-null    int64  \n",
            " 26  Dalc         395 non-null    int64  \n",
            " 27  Walc         395 non-null    int64  \n",
            " 28  health       395 non-null    int64  \n",
            " 29  absences_G1  381 non-null    float64\n",
            " 30  absences_G2  381 non-null    float64\n",
            " 31  absences_G3  381 non-null    float64\n",
            " 32  G1           395 non-null    int64  \n",
            " 33  G2           395 non-null    int64  \n",
            " 34  G3           395 non-null    int64  \n",
            "dtypes: float64(4), int64(14), object(17)\n",
            "memory usage: 108.1+ KB\n"
          ]
        }
      ],
      "source": [
        "data.info()"
      ]
    },
    {
      "cell_type": "code",
      "execution_count": 4,
      "metadata": {
        "colab": {
          "base_uri": "https://localhost:8080/",
          "height": 256
        },
        "id": "-A3iLCVZqy1e",
        "outputId": "2a07efc5-da19-4d40-d7a9-50dd3e1fb817"
      },
      "outputs": [
        {
          "data": {
            "text/html": [
              "<div>\n",
              "<style scoped>\n",
              "    .dataframe tbody tr th:only-of-type {\n",
              "        vertical-align: middle;\n",
              "    }\n",
              "\n",
              "    .dataframe tbody tr th {\n",
              "        vertical-align: top;\n",
              "    }\n",
              "\n",
              "    .dataframe thead th {\n",
              "        text-align: right;\n",
              "    }\n",
              "</style>\n",
              "<table border=\"1\" class=\"dataframe\">\n",
              "  <thead>\n",
              "    <tr style=\"text-align: right;\">\n",
              "      <th></th>\n",
              "      <th>school</th>\n",
              "      <th>sex</th>\n",
              "      <th>age</th>\n",
              "      <th>address</th>\n",
              "      <th>famsize</th>\n",
              "      <th>Pstatus</th>\n",
              "      <th>Medu</th>\n",
              "      <th>Fedu</th>\n",
              "      <th>Mjob</th>\n",
              "      <th>Fjob</th>\n",
              "      <th>...</th>\n",
              "      <th>goout</th>\n",
              "      <th>Dalc</th>\n",
              "      <th>Walc</th>\n",
              "      <th>health</th>\n",
              "      <th>absences_G1</th>\n",
              "      <th>absences_G2</th>\n",
              "      <th>absences_G3</th>\n",
              "      <th>G1</th>\n",
              "      <th>G2</th>\n",
              "      <th>G3</th>\n",
              "    </tr>\n",
              "  </thead>\n",
              "  <tbody>\n",
              "    <tr>\n",
              "      <th>0</th>\n",
              "      <td>GP</td>\n",
              "      <td>F</td>\n",
              "      <td>18.0</td>\n",
              "      <td>U</td>\n",
              "      <td>GT3</td>\n",
              "      <td>A</td>\n",
              "      <td>4</td>\n",
              "      <td>4</td>\n",
              "      <td>at_home</td>\n",
              "      <td>teacher</td>\n",
              "      <td>...</td>\n",
              "      <td>4</td>\n",
              "      <td>1</td>\n",
              "      <td>1</td>\n",
              "      <td>3</td>\n",
              "      <td>1.0</td>\n",
              "      <td>1.0</td>\n",
              "      <td>4.0</td>\n",
              "      <td>5</td>\n",
              "      <td>6</td>\n",
              "      <td>6</td>\n",
              "    </tr>\n",
              "    <tr>\n",
              "      <th>1</th>\n",
              "      <td>GP</td>\n",
              "      <td>F</td>\n",
              "      <td>17.0</td>\n",
              "      <td>U</td>\n",
              "      <td>GT3</td>\n",
              "      <td>T</td>\n",
              "      <td>1</td>\n",
              "      <td>1</td>\n",
              "      <td>at_home</td>\n",
              "      <td>other</td>\n",
              "      <td>...</td>\n",
              "      <td>3</td>\n",
              "      <td>1</td>\n",
              "      <td>1</td>\n",
              "      <td>3</td>\n",
              "      <td>NaN</td>\n",
              "      <td>NaN</td>\n",
              "      <td>NaN</td>\n",
              "      <td>5</td>\n",
              "      <td>5</td>\n",
              "      <td>6</td>\n",
              "    </tr>\n",
              "    <tr>\n",
              "      <th>2</th>\n",
              "      <td>GP</td>\n",
              "      <td>F</td>\n",
              "      <td>15.0</td>\n",
              "      <td>U</td>\n",
              "      <td>LE3</td>\n",
              "      <td>T</td>\n",
              "      <td>1</td>\n",
              "      <td>1</td>\n",
              "      <td>at_home</td>\n",
              "      <td>other</td>\n",
              "      <td>...</td>\n",
              "      <td>2</td>\n",
              "      <td>2</td>\n",
              "      <td>3</td>\n",
              "      <td>3</td>\n",
              "      <td>1.0</td>\n",
              "      <td>1.0</td>\n",
              "      <td>8.0</td>\n",
              "      <td>7</td>\n",
              "      <td>8</td>\n",
              "      <td>10</td>\n",
              "    </tr>\n",
              "    <tr>\n",
              "      <th>3</th>\n",
              "      <td>GP</td>\n",
              "      <td>F</td>\n",
              "      <td>15.0</td>\n",
              "      <td>U</td>\n",
              "      <td>GT3</td>\n",
              "      <td>T</td>\n",
              "      <td>4</td>\n",
              "      <td>2</td>\n",
              "      <td>health</td>\n",
              "      <td>services</td>\n",
              "      <td>...</td>\n",
              "      <td>2</td>\n",
              "      <td>1</td>\n",
              "      <td>1</td>\n",
              "      <td>5</td>\n",
              "      <td>0.0</td>\n",
              "      <td>0.0</td>\n",
              "      <td>2.0</td>\n",
              "      <td>15</td>\n",
              "      <td>14</td>\n",
              "      <td>15</td>\n",
              "    </tr>\n",
              "    <tr>\n",
              "      <th>4</th>\n",
              "      <td>GP</td>\n",
              "      <td>F</td>\n",
              "      <td>NaN</td>\n",
              "      <td>U</td>\n",
              "      <td>GT3</td>\n",
              "      <td>T</td>\n",
              "      <td>3</td>\n",
              "      <td>3</td>\n",
              "      <td>other</td>\n",
              "      <td>other</td>\n",
              "      <td>...</td>\n",
              "      <td>2</td>\n",
              "      <td>1</td>\n",
              "      <td>2</td>\n",
              "      <td>5</td>\n",
              "      <td>0.0</td>\n",
              "      <td>0.0</td>\n",
              "      <td>4.0</td>\n",
              "      <td>6</td>\n",
              "      <td>10</td>\n",
              "      <td>10</td>\n",
              "    </tr>\n",
              "  </tbody>\n",
              "</table>\n",
              "<p>5 rows × 35 columns</p>\n",
              "</div>"
            ],
            "text/plain": [
              "  school sex   age address famsize Pstatus  Medu  Fedu     Mjob      Fjob  \\\n",
              "0     GP   F  18.0       U     GT3       A     4     4  at_home   teacher   \n",
              "1     GP   F  17.0       U     GT3       T     1     1  at_home     other   \n",
              "2     GP   F  15.0       U     LE3       T     1     1  at_home     other   \n",
              "3     GP   F  15.0       U     GT3       T     4     2   health  services   \n",
              "4     GP   F   NaN       U     GT3       T     3     3    other     other   \n",
              "\n",
              "   ... goout Dalc  Walc  health  absences_G1 absences_G2 absences_G3  G1  G2  \\\n",
              "0  ...     4    1     1       3          1.0         1.0         4.0   5   6   \n",
              "1  ...     3    1     1       3          NaN         NaN         NaN   5   5   \n",
              "2  ...     2    2     3       3          1.0         1.0         8.0   7   8   \n",
              "3  ...     2    1     1       5          0.0         0.0         2.0  15  14   \n",
              "4  ...     2    1     2       5          0.0         0.0         4.0   6  10   \n",
              "\n",
              "   G3  \n",
              "0   6  \n",
              "1   6  \n",
              "2  10  \n",
              "3  15  \n",
              "4  10  \n",
              "\n",
              "[5 rows x 35 columns]"
            ]
          },
          "execution_count": 4,
          "metadata": {},
          "output_type": "execute_result"
        }
      ],
      "source": [
        "data.head()"
      ]
    },
    {
      "cell_type": "code",
      "execution_count": 5,
      "metadata": {
        "colab": {
          "base_uri": "https://localhost:8080/",
          "height": 320
        },
        "id": "T4YWRtTBDkHq",
        "outputId": "5bd40abe-5df8-4370-ff6e-8f57cf976a1d"
      },
      "outputs": [
        {
          "data": {
            "text/html": [
              "<div>\n",
              "<style scoped>\n",
              "    .dataframe tbody tr th:only-of-type {\n",
              "        vertical-align: middle;\n",
              "    }\n",
              "\n",
              "    .dataframe tbody tr th {\n",
              "        vertical-align: top;\n",
              "    }\n",
              "\n",
              "    .dataframe thead th {\n",
              "        text-align: right;\n",
              "    }\n",
              "</style>\n",
              "<table border=\"1\" class=\"dataframe\">\n",
              "  <thead>\n",
              "    <tr style=\"text-align: right;\">\n",
              "      <th></th>\n",
              "      <th>age</th>\n",
              "      <th>Medu</th>\n",
              "      <th>Fedu</th>\n",
              "      <th>traveltime</th>\n",
              "      <th>studytime</th>\n",
              "      <th>failures</th>\n",
              "      <th>famrel</th>\n",
              "      <th>freetime</th>\n",
              "      <th>goout</th>\n",
              "      <th>Dalc</th>\n",
              "      <th>Walc</th>\n",
              "      <th>health</th>\n",
              "      <th>absences_G1</th>\n",
              "      <th>absences_G2</th>\n",
              "      <th>absences_G3</th>\n",
              "      <th>G1</th>\n",
              "      <th>G2</th>\n",
              "      <th>G3</th>\n",
              "    </tr>\n",
              "  </thead>\n",
              "  <tbody>\n",
              "    <tr>\n",
              "      <th>count</th>\n",
              "      <td>383.000000</td>\n",
              "      <td>395.000000</td>\n",
              "      <td>395.000000</td>\n",
              "      <td>395.000000</td>\n",
              "      <td>395.000000</td>\n",
              "      <td>395.000000</td>\n",
              "      <td>395.000000</td>\n",
              "      <td>395.000000</td>\n",
              "      <td>395.000000</td>\n",
              "      <td>395.000000</td>\n",
              "      <td>395.000000</td>\n",
              "      <td>395.000000</td>\n",
              "      <td>381.000000</td>\n",
              "      <td>381.000000</td>\n",
              "      <td>381.000000</td>\n",
              "      <td>395.000000</td>\n",
              "      <td>395.000000</td>\n",
              "      <td>395.000000</td>\n",
              "    </tr>\n",
              "    <tr>\n",
              "      <th>mean</th>\n",
              "      <td>16.699739</td>\n",
              "      <td>2.749367</td>\n",
              "      <td>2.521519</td>\n",
              "      <td>1.448101</td>\n",
              "      <td>2.035443</td>\n",
              "      <td>0.334177</td>\n",
              "      <td>3.944304</td>\n",
              "      <td>3.235443</td>\n",
              "      <td>3.108861</td>\n",
              "      <td>1.481013</td>\n",
              "      <td>2.291139</td>\n",
              "      <td>3.554430</td>\n",
              "      <td>0.669291</td>\n",
              "      <td>0.669291</td>\n",
              "      <td>4.325459</td>\n",
              "      <td>10.908861</td>\n",
              "      <td>10.713924</td>\n",
              "      <td>10.415190</td>\n",
              "    </tr>\n",
              "    <tr>\n",
              "      <th>std</th>\n",
              "      <td>1.280615</td>\n",
              "      <td>1.094735</td>\n",
              "      <td>1.088201</td>\n",
              "      <td>0.697505</td>\n",
              "      <td>0.839240</td>\n",
              "      <td>0.743651</td>\n",
              "      <td>0.896659</td>\n",
              "      <td>0.998862</td>\n",
              "      <td>1.113278</td>\n",
              "      <td>0.890741</td>\n",
              "      <td>1.287897</td>\n",
              "      <td>1.390303</td>\n",
              "      <td>1.300132</td>\n",
              "      <td>1.300132</td>\n",
              "      <td>5.526882</td>\n",
              "      <td>3.319195</td>\n",
              "      <td>3.761505</td>\n",
              "      <td>4.581443</td>\n",
              "    </tr>\n",
              "    <tr>\n",
              "      <th>min</th>\n",
              "      <td>15.000000</td>\n",
              "      <td>0.000000</td>\n",
              "      <td>0.000000</td>\n",
              "      <td>1.000000</td>\n",
              "      <td>1.000000</td>\n",
              "      <td>0.000000</td>\n",
              "      <td>1.000000</td>\n",
              "      <td>1.000000</td>\n",
              "      <td>1.000000</td>\n",
              "      <td>1.000000</td>\n",
              "      <td>1.000000</td>\n",
              "      <td>1.000000</td>\n",
              "      <td>0.000000</td>\n",
              "      <td>0.000000</td>\n",
              "      <td>0.000000</td>\n",
              "      <td>3.000000</td>\n",
              "      <td>0.000000</td>\n",
              "      <td>0.000000</td>\n",
              "    </tr>\n",
              "    <tr>\n",
              "      <th>25%</th>\n",
              "      <td>16.000000</td>\n",
              "      <td>2.000000</td>\n",
              "      <td>2.000000</td>\n",
              "      <td>1.000000</td>\n",
              "      <td>1.000000</td>\n",
              "      <td>0.000000</td>\n",
              "      <td>4.000000</td>\n",
              "      <td>3.000000</td>\n",
              "      <td>2.000000</td>\n",
              "      <td>1.000000</td>\n",
              "      <td>1.000000</td>\n",
              "      <td>3.000000</td>\n",
              "      <td>0.000000</td>\n",
              "      <td>0.000000</td>\n",
              "      <td>0.000000</td>\n",
              "      <td>8.000000</td>\n",
              "      <td>9.000000</td>\n",
              "      <td>8.000000</td>\n",
              "    </tr>\n",
              "    <tr>\n",
              "      <th>50%</th>\n",
              "      <td>17.000000</td>\n",
              "      <td>3.000000</td>\n",
              "      <td>2.000000</td>\n",
              "      <td>1.000000</td>\n",
              "      <td>2.000000</td>\n",
              "      <td>0.000000</td>\n",
              "      <td>4.000000</td>\n",
              "      <td>3.000000</td>\n",
              "      <td>3.000000</td>\n",
              "      <td>1.000000</td>\n",
              "      <td>2.000000</td>\n",
              "      <td>4.000000</td>\n",
              "      <td>0.000000</td>\n",
              "      <td>0.000000</td>\n",
              "      <td>4.000000</td>\n",
              "      <td>11.000000</td>\n",
              "      <td>11.000000</td>\n",
              "      <td>11.000000</td>\n",
              "    </tr>\n",
              "    <tr>\n",
              "      <th>75%</th>\n",
              "      <td>18.000000</td>\n",
              "      <td>4.000000</td>\n",
              "      <td>3.000000</td>\n",
              "      <td>2.000000</td>\n",
              "      <td>2.000000</td>\n",
              "      <td>0.000000</td>\n",
              "      <td>5.000000</td>\n",
              "      <td>4.000000</td>\n",
              "      <td>4.000000</td>\n",
              "      <td>2.000000</td>\n",
              "      <td>3.000000</td>\n",
              "      <td>5.000000</td>\n",
              "      <td>1.000000</td>\n",
              "      <td>1.000000</td>\n",
              "      <td>6.000000</td>\n",
              "      <td>13.000000</td>\n",
              "      <td>13.000000</td>\n",
              "      <td>14.000000</td>\n",
              "    </tr>\n",
              "    <tr>\n",
              "      <th>max</th>\n",
              "      <td>22.000000</td>\n",
              "      <td>4.000000</td>\n",
              "      <td>4.000000</td>\n",
              "      <td>4.000000</td>\n",
              "      <td>4.000000</td>\n",
              "      <td>3.000000</td>\n",
              "      <td>5.000000</td>\n",
              "      <td>5.000000</td>\n",
              "      <td>5.000000</td>\n",
              "      <td>5.000000</td>\n",
              "      <td>5.000000</td>\n",
              "      <td>5.000000</td>\n",
              "      <td>12.000000</td>\n",
              "      <td>12.000000</td>\n",
              "      <td>51.000000</td>\n",
              "      <td>19.000000</td>\n",
              "      <td>19.000000</td>\n",
              "      <td>20.000000</td>\n",
              "    </tr>\n",
              "  </tbody>\n",
              "</table>\n",
              "</div>"
            ],
            "text/plain": [
              "              age        Medu        Fedu  traveltime   studytime    failures  \\\n",
              "count  383.000000  395.000000  395.000000  395.000000  395.000000  395.000000   \n",
              "mean    16.699739    2.749367    2.521519    1.448101    2.035443    0.334177   \n",
              "std      1.280615    1.094735    1.088201    0.697505    0.839240    0.743651   \n",
              "min     15.000000    0.000000    0.000000    1.000000    1.000000    0.000000   \n",
              "25%     16.000000    2.000000    2.000000    1.000000    1.000000    0.000000   \n",
              "50%     17.000000    3.000000    2.000000    1.000000    2.000000    0.000000   \n",
              "75%     18.000000    4.000000    3.000000    2.000000    2.000000    0.000000   \n",
              "max     22.000000    4.000000    4.000000    4.000000    4.000000    3.000000   \n",
              "\n",
              "           famrel    freetime       goout        Dalc        Walc      health  \\\n",
              "count  395.000000  395.000000  395.000000  395.000000  395.000000  395.000000   \n",
              "mean     3.944304    3.235443    3.108861    1.481013    2.291139    3.554430   \n",
              "std      0.896659    0.998862    1.113278    0.890741    1.287897    1.390303   \n",
              "min      1.000000    1.000000    1.000000    1.000000    1.000000    1.000000   \n",
              "25%      4.000000    3.000000    2.000000    1.000000    1.000000    3.000000   \n",
              "50%      4.000000    3.000000    3.000000    1.000000    2.000000    4.000000   \n",
              "75%      5.000000    4.000000    4.000000    2.000000    3.000000    5.000000   \n",
              "max      5.000000    5.000000    5.000000    5.000000    5.000000    5.000000   \n",
              "\n",
              "       absences_G1  absences_G2  absences_G3          G1          G2  \\\n",
              "count   381.000000   381.000000   381.000000  395.000000  395.000000   \n",
              "mean      0.669291     0.669291     4.325459   10.908861   10.713924   \n",
              "std       1.300132     1.300132     5.526882    3.319195    3.761505   \n",
              "min       0.000000     0.000000     0.000000    3.000000    0.000000   \n",
              "25%       0.000000     0.000000     0.000000    8.000000    9.000000   \n",
              "50%       0.000000     0.000000     4.000000   11.000000   11.000000   \n",
              "75%       1.000000     1.000000     6.000000   13.000000   13.000000   \n",
              "max      12.000000    12.000000    51.000000   19.000000   19.000000   \n",
              "\n",
              "               G3  \n",
              "count  395.000000  \n",
              "mean    10.415190  \n",
              "std      4.581443  \n",
              "min      0.000000  \n",
              "25%      8.000000  \n",
              "50%     11.000000  \n",
              "75%     14.000000  \n",
              "max     20.000000  "
            ]
          },
          "execution_count": 5,
          "metadata": {},
          "output_type": "execute_result"
        }
      ],
      "source": [
        "data.describe()"
      ]
    },
    {
      "cell_type": "markdown",
      "metadata": {
        "id": "KH8zZgxyqy1e"
      },
      "source": [
        "## Create a Test Set"
      ]
    },
    {
      "cell_type": "markdown",
      "metadata": {
        "id": "bAREvJj9DqYO"
      },
      "source": [
        "### The target attribute is G3, which is the student's final grade."
      ]
    },
    {
      "cell_type": "code",
      "execution_count": 6,
      "metadata": {
        "id": "tD9lMzCZqy1f"
      },
      "outputs": [],
      "source": [
        "# save G3 column as a Series named label\n",
        "label = data['G3'].squeeze()\n",
        "\n",
        "# drop G3 column from the rest of the data and call it features\n",
        "features = data.drop(columns=['G3'])"
      ]
    },
    {
      "cell_type": "markdown",
      "metadata": {
        "id": "wkOEW9G6ESjq"
      },
      "source": [
        "### Correctly split data into training and test set"
      ]
    },
    {
      "cell_type": "code",
      "execution_count": 7,
      "metadata": {
        "id": "Zu800qEgqy1f"
      },
      "outputs": [],
      "source": [
        "# split data with 80% of the instances allocated to training and 20% to testing\n",
        "from sklearn.model_selection import train_test_split\n",
        "\n",
        "X_train, X_test, y_train, y_test = train_test_split(features, label, test_size=0.2, random_state=42)"
      ]
    },
    {
      "cell_type": "code",
      "execution_count": 8,
      "metadata": {
        "colab": {
          "base_uri": "https://localhost:8080/",
          "height": 256
        },
        "id": "YZJUW8mZqy1f",
        "outputId": "e452ec56-f0f1-4a20-85d4-e982d2bfca11"
      },
      "outputs": [
        {
          "data": {
            "text/html": [
              "<div>\n",
              "<style scoped>\n",
              "    .dataframe tbody tr th:only-of-type {\n",
              "        vertical-align: middle;\n",
              "    }\n",
              "\n",
              "    .dataframe tbody tr th {\n",
              "        vertical-align: top;\n",
              "    }\n",
              "\n",
              "    .dataframe thead th {\n",
              "        text-align: right;\n",
              "    }\n",
              "</style>\n",
              "<table border=\"1\" class=\"dataframe\">\n",
              "  <thead>\n",
              "    <tr style=\"text-align: right;\">\n",
              "      <th></th>\n",
              "      <th>school</th>\n",
              "      <th>sex</th>\n",
              "      <th>age</th>\n",
              "      <th>address</th>\n",
              "      <th>famsize</th>\n",
              "      <th>Pstatus</th>\n",
              "      <th>Medu</th>\n",
              "      <th>Fedu</th>\n",
              "      <th>Mjob</th>\n",
              "      <th>Fjob</th>\n",
              "      <th>...</th>\n",
              "      <th>freetime</th>\n",
              "      <th>goout</th>\n",
              "      <th>Dalc</th>\n",
              "      <th>Walc</th>\n",
              "      <th>health</th>\n",
              "      <th>absences_G1</th>\n",
              "      <th>absences_G2</th>\n",
              "      <th>absences_G3</th>\n",
              "      <th>G1</th>\n",
              "      <th>G2</th>\n",
              "    </tr>\n",
              "  </thead>\n",
              "  <tbody>\n",
              "    <tr>\n",
              "      <th>181</th>\n",
              "      <td>GP</td>\n",
              "      <td>M</td>\n",
              "      <td>16.0</td>\n",
              "      <td>U</td>\n",
              "      <td>GT3</td>\n",
              "      <td>T</td>\n",
              "      <td>3</td>\n",
              "      <td>3</td>\n",
              "      <td>services</td>\n",
              "      <td>other</td>\n",
              "      <td>...</td>\n",
              "      <td>2</td>\n",
              "      <td>3</td>\n",
              "      <td>1</td>\n",
              "      <td>2</td>\n",
              "      <td>3</td>\n",
              "      <td>0.0</td>\n",
              "      <td>0.0</td>\n",
              "      <td>2.0</td>\n",
              "      <td>12</td>\n",
              "      <td>13</td>\n",
              "    </tr>\n",
              "    <tr>\n",
              "      <th>194</th>\n",
              "      <td>GP</td>\n",
              "      <td>M</td>\n",
              "      <td>16.0</td>\n",
              "      <td>U</td>\n",
              "      <td>GT3</td>\n",
              "      <td>T</td>\n",
              "      <td>2</td>\n",
              "      <td>3</td>\n",
              "      <td>other</td>\n",
              "      <td>other</td>\n",
              "      <td>...</td>\n",
              "      <td>3</td>\n",
              "      <td>3</td>\n",
              "      <td>1</td>\n",
              "      <td>1</td>\n",
              "      <td>3</td>\n",
              "      <td>0.0</td>\n",
              "      <td>0.0</td>\n",
              "      <td>0.0</td>\n",
              "      <td>13</td>\n",
              "      <td>14</td>\n",
              "    </tr>\n",
              "    <tr>\n",
              "      <th>173</th>\n",
              "      <td>GP</td>\n",
              "      <td>F</td>\n",
              "      <td>16.0</td>\n",
              "      <td>U</td>\n",
              "      <td>GT3</td>\n",
              "      <td>T</td>\n",
              "      <td>1</td>\n",
              "      <td>3</td>\n",
              "      <td>at_home</td>\n",
              "      <td>services</td>\n",
              "      <td>...</td>\n",
              "      <td>3</td>\n",
              "      <td>5</td>\n",
              "      <td>1</td>\n",
              "      <td>1</td>\n",
              "      <td>3</td>\n",
              "      <td>0.0</td>\n",
              "      <td>0.0</td>\n",
              "      <td>0.0</td>\n",
              "      <td>8</td>\n",
              "      <td>7</td>\n",
              "    </tr>\n",
              "    <tr>\n",
              "      <th>63</th>\n",
              "      <td>GP</td>\n",
              "      <td>F</td>\n",
              "      <td>16.0</td>\n",
              "      <td>U</td>\n",
              "      <td>GT3</td>\n",
              "      <td>T</td>\n",
              "      <td>4</td>\n",
              "      <td>3</td>\n",
              "      <td>teacher</td>\n",
              "      <td>health</td>\n",
              "      <td>...</td>\n",
              "      <td>4</td>\n",
              "      <td>4</td>\n",
              "      <td>2</td>\n",
              "      <td>4</td>\n",
              "      <td>4</td>\n",
              "      <td>0.0</td>\n",
              "      <td>0.0</td>\n",
              "      <td>2.0</td>\n",
              "      <td>10</td>\n",
              "      <td>9</td>\n",
              "    </tr>\n",
              "    <tr>\n",
              "      <th>253</th>\n",
              "      <td>GP</td>\n",
              "      <td>M</td>\n",
              "      <td>16.0</td>\n",
              "      <td>R</td>\n",
              "      <td>GT3</td>\n",
              "      <td>T</td>\n",
              "      <td>2</td>\n",
              "      <td>1</td>\n",
              "      <td>other</td>\n",
              "      <td>other</td>\n",
              "      <td>...</td>\n",
              "      <td>3</td>\n",
              "      <td>2</td>\n",
              "      <td>1</td>\n",
              "      <td>3</td>\n",
              "      <td>3</td>\n",
              "      <td>0.0</td>\n",
              "      <td>0.0</td>\n",
              "      <td>0.0</td>\n",
              "      <td>8</td>\n",
              "      <td>9</td>\n",
              "    </tr>\n",
              "  </tbody>\n",
              "</table>\n",
              "<p>5 rows × 34 columns</p>\n",
              "</div>"
            ],
            "text/plain": [
              "    school sex   age address famsize Pstatus  Medu  Fedu      Mjob      Fjob  \\\n",
              "181     GP   M  16.0       U     GT3       T     3     3  services     other   \n",
              "194     GP   M  16.0       U     GT3       T     2     3     other     other   \n",
              "173     GP   F  16.0       U     GT3       T     1     3   at_home  services   \n",
              "63      GP   F  16.0       U     GT3       T     4     3   teacher    health   \n",
              "253     GP   M  16.0       R     GT3       T     2     1     other     other   \n",
              "\n",
              "     ... freetime goout  Dalc  Walc  health absences_G1 absences_G2  \\\n",
              "181  ...        2     3     1     2       3         0.0         0.0   \n",
              "194  ...        3     3     1     1       3         0.0         0.0   \n",
              "173  ...        3     5     1     1       3         0.0         0.0   \n",
              "63   ...        4     4     2     4       4         0.0         0.0   \n",
              "253  ...        3     2     1     3       3         0.0         0.0   \n",
              "\n",
              "    absences_G3  G1  G2  \n",
              "181         2.0  12  13  \n",
              "194         0.0  13  14  \n",
              "173         0.0   8   7  \n",
              "63          2.0  10   9  \n",
              "253         0.0   8   9  \n",
              "\n",
              "[5 rows x 34 columns]"
            ]
          },
          "execution_count": 8,
          "metadata": {},
          "output_type": "execute_result"
        }
      ],
      "source": [
        "X_train.head()"
      ]
    },
    {
      "cell_type": "code",
      "execution_count": 9,
      "metadata": {
        "id": "jKY_4IQsqy1f"
      },
      "outputs": [],
      "source": [
        "data = X_train.copy()"
      ]
    },
    {
      "cell_type": "markdown",
      "metadata": {
        "id": "cTAoaitgqy1f"
      },
      "source": [
        "# Discover and Visualize the Data to Gain Insights"
      ]
    },
    {
      "cell_type": "markdown",
      "metadata": {
        "id": "YQ_2O6YvF7hh"
      },
      "source": [
        "### Thoroughly study the attributes and their characteristics\n",
        "\n",
        "Creating histograms for each numerical column to see the statistical distribution for each feature."
      ]
    },
    {
      "cell_type": "code",
      "execution_count": 10,
      "metadata": {
        "colab": {
          "base_uri": "https://localhost:8080/",
          "height": 1000
        },
        "id": "jE9j8RsRqy1f",
        "outputId": "feb26c79-4196-4500-f220-5f21394b753d"
      },
      "outputs": [
        {
          "data": {
            "image/png": "[encoded data removed]",
            "text/plain": [
              "<Figure size 1500x1200 with 20 Axes>"
            ]
          },
          "metadata": {},
          "output_type": "display_data"
        }
      ],
      "source": [
        "import matplotlib.pyplot as plt\n",
        "\n",
        "\n",
        "plt.rc('font', size=14)\n",
        "plt.rc('axes', labelsize=10, titlesize=10)\n",
        "plt.rc('legend', fontsize=10)\n",
        "plt.rc('xtick', labelsize=10)\n",
        "plt.rc('ytick', labelsize=10)\n",
        "\n",
        "\n",
        "data.hist(bins=5, figsize=(15, 12))\n",
        "plt.show()\n"
      ]
    },
    {
      "cell_type": "markdown",
      "metadata": {
        "id": "HScznqamK3yv"
      },
      "source": [
        "### Four visualizations to describe features of this data set and which ones I will focus on for this regression task"
      ]
    },
    {
      "cell_type": "code",
      "execution_count": 11,
      "metadata": {
        "colab": {
          "base_uri": "https://localhost:8080/",
          "height": 512
        },
        "id": "nlHCOchXqy1g",
        "outputId": "f1dcbde6-b1b7-4751-cbc9-13814dfdad5a"
      },
      "outputs": [
        {
          "name": "stderr",
          "output_type": "stream",
          "text": [
            "/Library/Frameworks/Python.framework/Versions/3.11/lib/python3.11/site-packages/seaborn/_oldcore.py:1498: FutureWarning: is_categorical_dtype is deprecated and will be removed in a future version. Use isinstance(dtype, CategoricalDtype) instead\n",
            "  if pd.api.types.is_categorical_dtype(vector):\n",
            "/Library/Frameworks/Python.framework/Versions/3.11/lib/python3.11/site-packages/seaborn/_oldcore.py:1498: FutureWarning: is_categorical_dtype is deprecated and will be removed in a future version. Use isinstance(dtype, CategoricalDtype) instead\n",
            "  if pd.api.types.is_categorical_dtype(vector):\n",
            "/Library/Frameworks/Python.framework/Versions/3.11/lib/python3.11/site-packages/seaborn/_oldcore.py:1498: FutureWarning: is_categorical_dtype is deprecated and will be removed in a future version. Use isinstance(dtype, CategoricalDtype) instead\n",
            "  if pd.api.types.is_categorical_dtype(vector):\n",
            "/Library/Frameworks/Python.framework/Versions/3.11/lib/python3.11/site-packages/seaborn/_oldcore.py:1498: FutureWarning: is_categorical_dtype is deprecated and will be removed in a future version. Use isinstance(dtype, CategoricalDtype) instead\n",
            "  if pd.api.types.is_categorical_dtype(vector):\n",
            "/Library/Frameworks/Python.framework/Versions/3.11/lib/python3.11/site-packages/seaborn/_oldcore.py:1498: FutureWarning: is_categorical_dtype is deprecated and will be removed in a future version. Use isinstance(dtype, CategoricalDtype) instead\n",
            "  if pd.api.types.is_categorical_dtype(vector):\n",
            "/Library/Frameworks/Python.framework/Versions/3.11/lib/python3.11/site-packages/seaborn/axisgrid.py:118: UserWarning: The figure layout has changed to tight\n",
            "  self._figure.tight_layout(*args, **kwargs)\n"
          ]
        },
        {
          "data": {
            "text/plain": [
              "<seaborn.axisgrid.FacetGrid at 0x157179a10>"
            ]
          },
          "execution_count": 11,
          "metadata": {},
          "output_type": "execute_result"
        },
        {
          "data": {
            "image/png": "[encoded data removed]",
            "text/plain": [
              "<Figure size 500x500 with 1 Axes>"
            ]
          },
          "metadata": {},
          "output_type": "display_data"
        }
      ],
      "source": [
        "# Bar graph of the average grade for each age of students\n",
        "sns.catplot(x='age', y = 'G1', data=data, kind='bar')"
      ]
    },
    {
      "cell_type": "code",
      "execution_count": 12,
      "metadata": {
        "colab": {
          "base_uri": "https://localhost:8080/",
          "height": 604
        },
        "id": "7vMpmH5pqy1g",
        "outputId": "8b2f99ad-95fb-429b-fdb3-2795a352009a"
      },
      "outputs": [
        {
          "name": "stderr",
          "output_type": "stream",
          "text": [
            "/Library/Frameworks/Python.framework/Versions/3.11/lib/python3.11/site-packages/seaborn/_oldcore.py:1498: FutureWarning: is_categorical_dtype is deprecated and will be removed in a future version. Use isinstance(dtype, CategoricalDtype) instead\n",
            "  if pd.api.types.is_categorical_dtype(vector):\n",
            "/Library/Frameworks/Python.framework/Versions/3.11/lib/python3.11/site-packages/seaborn/_oldcore.py:1498: FutureWarning: is_categorical_dtype is deprecated and will be removed in a future version. Use isinstance(dtype, CategoricalDtype) instead\n",
            "  if pd.api.types.is_categorical_dtype(vector):\n",
            "/Library/Frameworks/Python.framework/Versions/3.11/lib/python3.11/site-packages/seaborn/_oldcore.py:1498: FutureWarning: is_categorical_dtype is deprecated and will be removed in a future version. Use isinstance(dtype, CategoricalDtype) instead\n",
            "  if pd.api.types.is_categorical_dtype(vector):\n",
            "/var/folders/st/77f9zfv55lv_qhmzdf4s_0bw0000gn/T/ipykernel_55589/4191898815.py:2: FutureWarning: \n",
            "\n",
            "The `ci` parameter is deprecated. Use `errorbar=None` for the same effect.\n",
            "\n",
            "  sns.catplot(x='studytime', y='G1', data=X_train, kind='bar', ci=None)\n",
            "/Library/Frameworks/Python.framework/Versions/3.11/lib/python3.11/site-packages/seaborn/_oldcore.py:1498: FutureWarning: is_categorical_dtype is deprecated and will be removed in a future version. Use isinstance(dtype, CategoricalDtype) instead\n",
            "  if pd.api.types.is_categorical_dtype(vector):\n",
            "/Library/Frameworks/Python.framework/Versions/3.11/lib/python3.11/site-packages/seaborn/_oldcore.py:1498: FutureWarning: is_categorical_dtype is deprecated and will be removed in a future version. Use isinstance(dtype, CategoricalDtype) instead\n",
            "  if pd.api.types.is_categorical_dtype(vector):\n",
            "/Library/Frameworks/Python.framework/Versions/3.11/lib/python3.11/site-packages/seaborn/axisgrid.py:118: UserWarning: The figure layout has changed to tight\n",
            "  self._figure.tight_layout(*args, **kwargs)\n"
          ]
        },
        {
          "data": {
            "text/plain": [
              "<seaborn.axisgrid.FacetGrid at 0x157088a10>"
            ]
          },
          "execution_count": 12,
          "metadata": {},
          "output_type": "execute_result"
        },
        {
          "data": {
            "image/png": "[encoded data removed]",
            "text/plain": [
              "<Figure size 500x500 with 1 Axes>"
            ]
          },
          "metadata": {},
          "output_type": "display_data"
        }
      ],
      "source": [
        "# bar graph showing G1 grades against how much time a student used to study.\n",
        "sns.catplot(x='studytime', y='G1', data=X_train, kind='bar', ci=None)"
      ]
    },
    {
      "cell_type": "code",
      "execution_count": 13,
      "metadata": {
        "colab": {
          "base_uri": "https://localhost:8080/",
          "height": 604
        },
        "id": "C_uZNnJcJRzs",
        "outputId": "71011ff7-47ff-4538-da64-406172fffbac"
      },
      "outputs": [
        {
          "name": "stderr",
          "output_type": "stream",
          "text": [
            "/Library/Frameworks/Python.framework/Versions/3.11/lib/python3.11/site-packages/seaborn/_oldcore.py:1498: FutureWarning: is_categorical_dtype is deprecated and will be removed in a future version. Use isinstance(dtype, CategoricalDtype) instead\n",
            "  if pd.api.types.is_categorical_dtype(vector):\n",
            "/Library/Frameworks/Python.framework/Versions/3.11/lib/python3.11/site-packages/seaborn/_oldcore.py:1498: FutureWarning: is_categorical_dtype is deprecated and will be removed in a future version. Use isinstance(dtype, CategoricalDtype) instead\n",
            "  if pd.api.types.is_categorical_dtype(vector):\n",
            "/Library/Frameworks/Python.framework/Versions/3.11/lib/python3.11/site-packages/seaborn/_oldcore.py:1498: FutureWarning: is_categorical_dtype is deprecated and will be removed in a future version. Use isinstance(dtype, CategoricalDtype) instead\n",
            "  if pd.api.types.is_categorical_dtype(vector):\n",
            "/var/folders/st/77f9zfv55lv_qhmzdf4s_0bw0000gn/T/ipykernel_55589/3574054097.py:3: FutureWarning: \n",
            "\n",
            "The `ci` parameter is deprecated. Use `errorbar=None` for the same effect.\n",
            "\n",
            "  sns.catplot(x='Walc', y='G1', data=data, kind='point', ci=None)\n",
            "/Library/Frameworks/Python.framework/Versions/3.11/lib/python3.11/site-packages/seaborn/_oldcore.py:1498: FutureWarning: is_categorical_dtype is deprecated and will be removed in a future version. Use isinstance(dtype, CategoricalDtype) instead\n",
            "  if pd.api.types.is_categorical_dtype(vector):\n",
            "/Library/Frameworks/Python.framework/Versions/3.11/lib/python3.11/site-packages/seaborn/_oldcore.py:1498: FutureWarning: is_categorical_dtype is deprecated and will be removed in a future version. Use isinstance(dtype, CategoricalDtype) instead\n",
            "  if pd.api.types.is_categorical_dtype(vector):\n",
            "/Library/Frameworks/Python.framework/Versions/3.11/lib/python3.11/site-packages/seaborn/axisgrid.py:118: UserWarning: The figure layout has changed to tight\n",
            "  self._figure.tight_layout(*args, **kwargs)\n"
          ]
        },
        {
          "data": {
            "text/plain": [
              "<seaborn.axisgrid.FacetGrid at 0x15708a010>"
            ]
          },
          "execution_count": 13,
          "metadata": {},
          "output_type": "execute_result"
        },
        {
          "data": {
            "image/png": "[encoded data removed]",
            "text/plain": [
              "<Figure size 500x500 with 1 Axes>"
            ]
          },
          "metadata": {},
          "output_type": "display_data"
        }
      ],
      "source": [
        "# Point plot showing G1 grades against Walc (how often a student drinks during the weekday)\n",
        "\n",
        "sns.catplot(x='Walc', y='G1', data=data, kind='point', ci=None)"
      ]
    },
    {
      "cell_type": "code",
      "execution_count": 14,
      "metadata": {
        "colab": {
          "base_uri": "https://localhost:8080/",
          "height": 604
        },
        "id": "FZAjQyBZqy1g",
        "outputId": "70081039-cd47-44f2-bd3d-3594f3563dcd"
      },
      "outputs": [
        {
          "name": "stderr",
          "output_type": "stream",
          "text": [
            "/Library/Frameworks/Python.framework/Versions/3.11/lib/python3.11/site-packages/seaborn/_oldcore.py:1498: FutureWarning: is_categorical_dtype is deprecated and will be removed in a future version. Use isinstance(dtype, CategoricalDtype) instead\n",
            "  if pd.api.types.is_categorical_dtype(vector):\n",
            "/Library/Frameworks/Python.framework/Versions/3.11/lib/python3.11/site-packages/seaborn/_oldcore.py:1498: FutureWarning: is_categorical_dtype is deprecated and will be removed in a future version. Use isinstance(dtype, CategoricalDtype) instead\n",
            "  if pd.api.types.is_categorical_dtype(vector):\n",
            "/Library/Frameworks/Python.framework/Versions/3.11/lib/python3.11/site-packages/seaborn/_oldcore.py:1498: FutureWarning: is_categorical_dtype is deprecated and will be removed in a future version. Use isinstance(dtype, CategoricalDtype) instead\n",
            "  if pd.api.types.is_categorical_dtype(vector):\n",
            "/var/folders/st/77f9zfv55lv_qhmzdf4s_0bw0000gn/T/ipykernel_55589/1974308015.py:1: FutureWarning: \n",
            "\n",
            "The `ci` parameter is deprecated. Use `errorbar=None` for the same effect.\n",
            "\n",
            "  sns.catplot(x='studytime', y='G1', data=data, kind='point', ci=None)\n",
            "/Library/Frameworks/Python.framework/Versions/3.11/lib/python3.11/site-packages/seaborn/_oldcore.py:1498: FutureWarning: is_categorical_dtype is deprecated and will be removed in a future version. Use isinstance(dtype, CategoricalDtype) instead\n",
            "  if pd.api.types.is_categorical_dtype(vector):\n",
            "/Library/Frameworks/Python.framework/Versions/3.11/lib/python3.11/site-packages/seaborn/_oldcore.py:1498: FutureWarning: is_categorical_dtype is deprecated and will be removed in a future version. Use isinstance(dtype, CategoricalDtype) instead\n",
            "  if pd.api.types.is_categorical_dtype(vector):\n",
            "/Library/Frameworks/Python.framework/Versions/3.11/lib/python3.11/site-packages/seaborn/axisgrid.py:118: UserWarning: The figure layout has changed to tight\n",
            "  self._figure.tight_layout(*args, **kwargs)\n"
          ]
        },
        {
          "data": {
            "text/plain": [
              "<seaborn.axisgrid.FacetGrid at 0x1570fcc90>"
            ]
          },
          "execution_count": 14,
          "metadata": {},
          "output_type": "execute_result"
        },
        {
          "data": {
            "image/png": "[encoded data removed]",
            "text/plain": [
              "<Figure size 500x500 with 1 Axes>"
            ]
          },
          "metadata": {},
          "output_type": "display_data"
        }
      ],
      "source": [
        "sns.catplot(x='studytime', y='G1', data=data, kind='point', ci=None)"
      ]
    },
    {
      "cell_type": "code",
      "execution_count": 15,
      "metadata": {
        "colab": {
          "base_uri": "https://localhost:8080/",
          "height": 512
        },
        "id": "8yrNaiW4H1d6",
        "outputId": "1feaad06-7047-41f5-c61d-47616fb85115"
      },
      "outputs": [
        {
          "name": "stderr",
          "output_type": "stream",
          "text": [
            "/Library/Frameworks/Python.framework/Versions/3.11/lib/python3.11/site-packages/seaborn/_oldcore.py:1498: FutureWarning: is_categorical_dtype is deprecated and will be removed in a future version. Use isinstance(dtype, CategoricalDtype) instead\n",
            "  if pd.api.types.is_categorical_dtype(vector):\n",
            "/Library/Frameworks/Python.framework/Versions/3.11/lib/python3.11/site-packages/seaborn/_oldcore.py:1498: FutureWarning: is_categorical_dtype is deprecated and will be removed in a future version. Use isinstance(dtype, CategoricalDtype) instead\n",
            "  if pd.api.types.is_categorical_dtype(vector):\n",
            "/Library/Frameworks/Python.framework/Versions/3.11/lib/python3.11/site-packages/seaborn/_oldcore.py:1498: FutureWarning: is_categorical_dtype is deprecated and will be removed in a future version. Use isinstance(dtype, CategoricalDtype) instead\n",
            "  if pd.api.types.is_categorical_dtype(vector):\n",
            "/Library/Frameworks/Python.framework/Versions/3.11/lib/python3.11/site-packages/seaborn/_oldcore.py:1498: FutureWarning: is_categorical_dtype is deprecated and will be removed in a future version. Use isinstance(dtype, CategoricalDtype) instead\n",
            "  if pd.api.types.is_categorical_dtype(vector):\n",
            "/Library/Frameworks/Python.framework/Versions/3.11/lib/python3.11/site-packages/seaborn/_oldcore.py:1498: FutureWarning: is_categorical_dtype is deprecated and will be removed in a future version. Use isinstance(dtype, CategoricalDtype) instead\n",
            "  if pd.api.types.is_categorical_dtype(vector):\n",
            "/Library/Frameworks/Python.framework/Versions/3.11/lib/python3.11/site-packages/seaborn/axisgrid.py:118: UserWarning: The figure layout has changed to tight\n",
            "  self._figure.tight_layout(*args, **kwargs)\n"
          ]
        },
        {
          "data": {
            "text/plain": [
              "<seaborn.axisgrid.FacetGrid at 0x1570af2d0>"
            ]
          },
          "execution_count": 15,
          "metadata": {},
          "output_type": "execute_result"
        },
        {
          "data": {
            "image/png": "[encoded data removed]",
            "text/plain": [
              "<Figure size 500x500 with 1 Axes>"
            ]
          },
          "metadata": {},
          "output_type": "display_data"
        }
      ],
      "source": [
        "# Boxplot showing a distribution of number of failures against studytime.\n",
        "\n",
        "sns.catplot(data=data, x=\"failures\", y=\"studytime\",kind='box')"
      ]
    },
    {
      "cell_type": "markdown",
      "metadata": {
        "id": "NqhCW9oWqy1g"
      },
      "source": [
        "### Study Correlations Between Discrete and Continuous numerical attributes"
      ]
    },
    {
      "cell_type": "code",
      "execution_count": 16,
      "metadata": {
        "id": "fQFAd3_Eqy1h"
      },
      "outputs": [],
      "source": [
        "# numerical variables\n",
        "\n",
        "attribs = ['absences_G1', 'absences_G2', 'absences_G3','age', 'G1','G2','Medu','Fedu','traveltime','studytime','failures','famrel','freetime','goout','Dalc','Walc','health']\n",
        "\n",
        "\n",
        "corr_matrix = data[attribs].corr()"
      ]
    },
    {
      "cell_type": "code",
      "execution_count": 17,
      "metadata": {
        "colab": {
          "base_uri": "https://localhost:8080/"
        },
        "id": "982vDg8Zqy1h",
        "outputId": "c2cbaf36-b6be-4a0f-eba4-b9c2f15e2a7a"
      },
      "outputs": [
        {
          "data": {
            "text/plain": [
              "studytime      1.000000\n",
              "G1             0.202975\n",
              "G2             0.153854\n",
              "famrel         0.089408\n",
              "Medu           0.056176\n",
              "age            0.028938\n",
              "Fedu          -0.021699\n",
              "absences_G3   -0.027807\n",
              "absences_G1   -0.046094\n",
              "absences_G2   -0.046094\n",
              "health        -0.058622\n",
              "goout         -0.103158\n",
              "failures      -0.129183\n",
              "traveltime    -0.129264\n",
              "freetime      -0.138686\n",
              "Dalc          -0.212241\n",
              "Walc          -0.290409\n",
              "Name: studytime, dtype: float64"
            ]
          },
          "execution_count": 17,
          "metadata": {},
          "output_type": "execute_result"
        }
      ],
      "source": [
        "corr_matrix['studytime'].sort_values(ascending=False)"
      ]
    },
    {
      "cell_type": "markdown",
      "metadata": {
        "id": "7vQINgTsqy1h"
      },
      "source": [
        "## Prepare the Data"
      ]
    },
    {
      "cell_type": "code",
      "execution_count": 18,
      "metadata": {
        "colab": {
          "base_uri": "https://localhost:8080/"
        },
        "id": "NUr8qIrUDbx4",
        "outputId": "02e1180c-c700-471e-91b6-5b5fda512180"
      },
      "outputs": [
        {
          "data": {
            "text/plain": [
              "array([['GP', 'M', 16.0, ..., 2.0, 12, 13],\n",
              "       ['GP', 'M', 16.0, ..., 0.0, 13, 14],\n",
              "       ['GP', 'F', 16.0, ..., 0.0, 8, 7],\n",
              "       ...,\n",
              "       ['GP', 'F', 19.0, ..., 11.0, 9, 9],\n",
              "       ['GP', 'F', 17.0, ..., 0.0, 13, 15],\n",
              "       ['GP', 'M', 15.0, ..., 4.0, 10, 13]], dtype=object)"
            ]
          },
          "execution_count": 18,
          "metadata": {},
          "output_type": "execute_result"
        }
      ],
      "source": [
        "array = data.to_numpy()\n",
        "array"
      ]
    },
    {
      "cell_type": "code",
      "execution_count": 19,
      "metadata": {
        "colab": {
          "base_uri": "https://localhost:8080/",
          "height": 424
        },
        "id": "eUD8ZRSNVIwr",
        "outputId": "b2f216b6-c482-4a9e-d18b-174ba80e721a"
      },
      "outputs": [
        {
          "data": {
            "text/html": [
              "<div>\n",
              "<style scoped>\n",
              "    .dataframe tbody tr th:only-of-type {\n",
              "        vertical-align: middle;\n",
              "    }\n",
              "\n",
              "    .dataframe tbody tr th {\n",
              "        vertical-align: top;\n",
              "    }\n",
              "\n",
              "    .dataframe thead th {\n",
              "        text-align: right;\n",
              "    }\n",
              "</style>\n",
              "<table border=\"1\" class=\"dataframe\">\n",
              "  <thead>\n",
              "    <tr style=\"text-align: right;\">\n",
              "      <th></th>\n",
              "      <th>G1</th>\n",
              "      <th>G2</th>\n",
              "      <th>absences_G1</th>\n",
              "      <th>absences_G2</th>\n",
              "      <th>absences_G3</th>\n",
              "      <th>age</th>\n",
              "      <th>failures</th>\n",
              "      <th>studytime</th>\n",
              "      <th>famrel</th>\n",
              "      <th>goout</th>\n",
              "    </tr>\n",
              "  </thead>\n",
              "  <tbody>\n",
              "    <tr>\n",
              "      <th>181</th>\n",
              "      <td>12</td>\n",
              "      <td>13</td>\n",
              "      <td>0.0</td>\n",
              "      <td>0.0</td>\n",
              "      <td>2.0</td>\n",
              "      <td>16.0</td>\n",
              "      <td>0</td>\n",
              "      <td>2</td>\n",
              "      <td>4</td>\n",
              "      <td>3</td>\n",
              "    </tr>\n",
              "    <tr>\n",
              "      <th>194</th>\n",
              "      <td>13</td>\n",
              "      <td>14</td>\n",
              "      <td>0.0</td>\n",
              "      <td>0.0</td>\n",
              "      <td>0.0</td>\n",
              "      <td>16.0</td>\n",
              "      <td>0</td>\n",
              "      <td>1</td>\n",
              "      <td>5</td>\n",
              "      <td>3</td>\n",
              "    </tr>\n",
              "    <tr>\n",
              "      <th>173</th>\n",
              "      <td>8</td>\n",
              "      <td>7</td>\n",
              "      <td>0.0</td>\n",
              "      <td>0.0</td>\n",
              "      <td>0.0</td>\n",
              "      <td>16.0</td>\n",
              "      <td>3</td>\n",
              "      <td>2</td>\n",
              "      <td>4</td>\n",
              "      <td>5</td>\n",
              "    </tr>\n",
              "    <tr>\n",
              "      <th>63</th>\n",
              "      <td>10</td>\n",
              "      <td>9</td>\n",
              "      <td>0.0</td>\n",
              "      <td>0.0</td>\n",
              "      <td>2.0</td>\n",
              "      <td>16.0</td>\n",
              "      <td>0</td>\n",
              "      <td>3</td>\n",
              "      <td>3</td>\n",
              "      <td>4</td>\n",
              "    </tr>\n",
              "    <tr>\n",
              "      <th>253</th>\n",
              "      <td>8</td>\n",
              "      <td>9</td>\n",
              "      <td>0.0</td>\n",
              "      <td>0.0</td>\n",
              "      <td>0.0</td>\n",
              "      <td>16.0</td>\n",
              "      <td>0</td>\n",
              "      <td>1</td>\n",
              "      <td>3</td>\n",
              "      <td>2</td>\n",
              "    </tr>\n",
              "    <tr>\n",
              "      <th>...</th>\n",
              "      <td>...</td>\n",
              "      <td>...</td>\n",
              "      <td>...</td>\n",
              "      <td>...</td>\n",
              "      <td>...</td>\n",
              "      <td>...</td>\n",
              "      <td>...</td>\n",
              "      <td>...</td>\n",
              "      <td>...</td>\n",
              "      <td>...</td>\n",
              "    </tr>\n",
              "    <tr>\n",
              "      <th>71</th>\n",
              "      <td>10</td>\n",
              "      <td>10</td>\n",
              "      <td>0.0</td>\n",
              "      <td>0.0</td>\n",
              "      <td>0.0</td>\n",
              "      <td>15.0</td>\n",
              "      <td>0</td>\n",
              "      <td>4</td>\n",
              "      <td>3</td>\n",
              "      <td>3</td>\n",
              "    </tr>\n",
              "    <tr>\n",
              "      <th>106</th>\n",
              "      <td>7</td>\n",
              "      <td>8</td>\n",
              "      <td>NaN</td>\n",
              "      <td>NaN</td>\n",
              "      <td>NaN</td>\n",
              "      <td>15.0</td>\n",
              "      <td>0</td>\n",
              "      <td>4</td>\n",
              "      <td>5</td>\n",
              "      <td>2</td>\n",
              "    </tr>\n",
              "    <tr>\n",
              "      <th>270</th>\n",
              "      <td>9</td>\n",
              "      <td>9</td>\n",
              "      <td>2.0</td>\n",
              "      <td>2.0</td>\n",
              "      <td>11.0</td>\n",
              "      <td>19.0</td>\n",
              "      <td>2</td>\n",
              "      <td>2</td>\n",
              "      <td>4</td>\n",
              "      <td>5</td>\n",
              "    </tr>\n",
              "    <tr>\n",
              "      <th>348</th>\n",
              "      <td>13</td>\n",
              "      <td>15</td>\n",
              "      <td>0.0</td>\n",
              "      <td>0.0</td>\n",
              "      <td>0.0</td>\n",
              "      <td>17.0</td>\n",
              "      <td>0</td>\n",
              "      <td>3</td>\n",
              "      <td>4</td>\n",
              "      <td>3</td>\n",
              "    </tr>\n",
              "    <tr>\n",
              "      <th>102</th>\n",
              "      <td>10</td>\n",
              "      <td>13</td>\n",
              "      <td>0.0</td>\n",
              "      <td>0.0</td>\n",
              "      <td>4.0</td>\n",
              "      <td>15.0</td>\n",
              "      <td>0</td>\n",
              "      <td>1</td>\n",
              "      <td>5</td>\n",
              "      <td>3</td>\n",
              "    </tr>\n",
              "  </tbody>\n",
              "</table>\n",
              "<p>316 rows × 10 columns</p>\n",
              "</div>"
            ],
            "text/plain": [
              "     G1  G2  absences_G1  absences_G2  absences_G3   age  failures  studytime  \\\n",
              "181  12  13          0.0          0.0          2.0  16.0         0          2   \n",
              "194  13  14          0.0          0.0          0.0  16.0         0          1   \n",
              "173   8   7          0.0          0.0          0.0  16.0         3          2   \n",
              "63   10   9          0.0          0.0          2.0  16.0         0          3   \n",
              "253   8   9          0.0          0.0          0.0  16.0         0          1   \n",
              "..   ..  ..          ...          ...          ...   ...       ...        ...   \n",
              "71   10  10          0.0          0.0          0.0  15.0         0          4   \n",
              "106   7   8          NaN          NaN          NaN  15.0         0          4   \n",
              "270   9   9          2.0          2.0         11.0  19.0         2          2   \n",
              "348  13  15          0.0          0.0          0.0  17.0         0          3   \n",
              "102  10  13          0.0          0.0          4.0  15.0         0          1   \n",
              "\n",
              "     famrel  goout  \n",
              "181       4      3  \n",
              "194       5      3  \n",
              "173       4      5  \n",
              "63        3      4  \n",
              "253       3      2  \n",
              "..      ...    ...  \n",
              "71        3      3  \n",
              "106       5      2  \n",
              "270       4      5  \n",
              "348       4      3  \n",
              "102       5      3  \n",
              "\n",
              "[316 rows x 10 columns]"
            ]
          },
          "execution_count": 19,
          "metadata": {},
          "output_type": "execute_result"
        }
      ],
      "source": [
        "data = data[['G1','G2','absences_G1','absences_G2','absences_G3','age','failures','studytime','famrel','goout']]\n",
        "data"
      ]
    },
    {
      "cell_type": "markdown",
      "metadata": {
        "id": "twg7ULCgNVjc"
      },
      "source": [
        "### Perform feature selection with Custom Transformer\n"
      ]
    },
    {
      "cell_type": "code",
      "execution_count": 20,
      "metadata": {
        "id": "_cUeS1MJqy1h"
      },
      "outputs": [],
      "source": [
        "from sklearn.base import BaseEstimator, TransformerMixin\n",
        "absences_G1_ix, absences_G2_ix, absences_G3_ix = 2,3,4\n",
        "\n",
        "class DropColumns(BaseEstimator, TransformerMixin):\n",
        "    def __init__(self, drop_columns=True):\n",
        "        self.drop_columns = drop_columns\n",
        "\n",
        "    def fit(self, X, y=None):\n",
        "      return self\n",
        "    \n",
        "    def transform(self, X,y=None):\n",
        "      sum_absences = X[:,absences_G3_ix] + X[:,absences_G2_ix] + X[:,absences_G1_ix]\n",
        "      X = np.c_[X, sum_absences]\n",
        "      X = np.c_[np.delete(X,[2,4],1)]\n",
        "\n",
        "      if self.drop_columns:\n",
        "        return np.c_[np.delete(X,[0,1],1)]\n",
        "      else:\n",
        "        return X\n"
      ]
    },
    {
      "cell_type": "markdown",
      "metadata": {
        "id": "DfIRJIOrNeUG"
      },
      "source": [
        "### Create data pipeline to handle data preparation steps\n",
        "### Fill missing values with mean using SimpleImputer\n",
        "### OneHotEncode categorical data"
      ]
    },
    {
      "cell_type": "code",
      "execution_count": 21,
      "metadata": {
        "id": "nYVglTSTqy1h"
      },
      "outputs": [],
      "source": [
        "from sklearn.pipeline import make_pipeline\n",
        "from sklearn.impute import SimpleImputer\n",
        "from sklearn.preprocessing import StandardScaler\n",
        "from sklearn.preprocessing import OneHotEncoder\n",
        "\n",
        "num_pipeline = make_pipeline(\n",
        "    SimpleImputer(strategy='mean'),\n",
        "    DropColumns(drop_columns=True),\n",
        "    StandardScaler())\n",
        "\n",
        "from sklearn.preprocessing import OneHotEncoder\n",
        "\n",
        "cat_pipeline = make_pipeline(\n",
        "    SimpleImputer(strategy='most_frequent'),\n",
        "    OneHotEncoder(drop='first',sparse_output=False))\n"
      ]
    },
    {
      "cell_type": "markdown",
      "metadata": {
        "id": "JG9RyNrmOjs-"
      },
      "source": [
        "### Perform feature scaling on continuous data\n",
        "### Was not necessary to use OrdinalEncoder for features\n",
        "### Implement and use Column Transformer to transform categorical and numeric data"
      ]
    },
    {
      "cell_type": "code",
      "execution_count": 22,
      "metadata": {
        "id": "ycNP6q4yqy1i"
      },
      "outputs": [
        {
          "name": "stdout",
          "output_type": "stream",
          "text": [
            "ColumnTransformer(transformers=[('num',\n",
            "                                 Pipeline(steps=[('simpleimputer',\n",
            "                                                  SimpleImputer()),\n",
            "                                                 ('dropcolumns', DropColumns()),\n",
            "                                                 ('standardscaler',\n",
            "                                                  StandardScaler())]),\n",
            "                                 ['G1', 'G2', 'absences_G1', 'absences_G2',\n",
            "                                  'absences_G3', 'age', 'failures',\n",
            "                                  'studytime']),\n",
            "                                ('cat',\n",
            "                                 Pipeline(steps=[('simpleimputer',\n",
            "                                                  SimpleImputer(strategy='most_frequent')),\n",
            "                                                 ('onehotencoder',\n",
            "                                                  OneHotEncoder(drop='first',\n",
            "                                                                sparse_output=False))]),\n",
            "                                 ['romantic', 'internet'])])\n"
          ]
        }
      ],
      "source": [
        "from sklearn.compose import ColumnTransformer\n",
        "\n",
        "num_attributes = ['G1','G2','absences_G1','absences_G2','absences_G3','age','failures','studytime']\n",
        "cat_attributes = ['romantic','internet']\n",
        "\n",
        "preprocessing = ColumnTransformer([\n",
        "        (\"num\", num_pipeline, num_attributes),\n",
        "        (\"cat\", cat_pipeline, cat_attributes)])\n",
        "\n",
        "print(preprocessing)"
      ]
    },
    {
      "cell_type": "markdown",
      "metadata": {
        "id": "zN9k8cSCPrYx"
      },
      "source": [
        "### Correctly transform training data using the above data preparation steps"
      ]
    },
    {
      "cell_type": "code",
      "execution_count": 23,
      "metadata": {
        "colab": {
          "base_uri": "https://localhost:8080/",
          "height": 424
        },
        "id": "xKy3vK_oPpMc",
        "outputId": "02ad0c74-231f-43f5-f383-3044dd812fa8"
      },
      "outputs": [
        {
          "data": {
            "text/html": [
              "<div>\n",
              "<style scoped>\n",
              "    .dataframe tbody tr th:only-of-type {\n",
              "        vertical-align: middle;\n",
              "    }\n",
              "\n",
              "    .dataframe tbody tr th {\n",
              "        vertical-align: top;\n",
              "    }\n",
              "\n",
              "    .dataframe thead th {\n",
              "        text-align: right;\n",
              "    }\n",
              "</style>\n",
              "<table border=\"1\" class=\"dataframe\">\n",
              "  <thead>\n",
              "    <tr style=\"text-align: right;\">\n",
              "      <th></th>\n",
              "      <th>0</th>\n",
              "      <th>1</th>\n",
              "      <th>2</th>\n",
              "      <th>3</th>\n",
              "      <th>4</th>\n",
              "      <th>5</th>\n",
              "      <th>6</th>\n",
              "    </tr>\n",
              "  </thead>\n",
              "  <tbody>\n",
              "    <tr>\n",
              "      <th>0</th>\n",
              "      <td>-0.523284</td>\n",
              "      <td>-0.598147</td>\n",
              "      <td>-0.456744</td>\n",
              "      <td>-0.056853</td>\n",
              "      <td>-4.680443e-01</td>\n",
              "      <td>1.0</td>\n",
              "      <td>1.0</td>\n",
              "    </tr>\n",
              "    <tr>\n",
              "      <th>1</th>\n",
              "      <td>-0.523284</td>\n",
              "      <td>-0.598147</td>\n",
              "      <td>-0.456744</td>\n",
              "      <td>-1.254553</td>\n",
              "      <td>-7.081680e-01</td>\n",
              "      <td>0.0</td>\n",
              "      <td>1.0</td>\n",
              "    </tr>\n",
              "    <tr>\n",
              "      <th>2</th>\n",
              "      <td>-0.523284</td>\n",
              "      <td>-0.598147</td>\n",
              "      <td>3.628097</td>\n",
              "      <td>-0.056853</td>\n",
              "      <td>-7.081680e-01</td>\n",
              "      <td>1.0</td>\n",
              "      <td>1.0</td>\n",
              "    </tr>\n",
              "    <tr>\n",
              "      <th>3</th>\n",
              "      <td>-0.523284</td>\n",
              "      <td>-0.598147</td>\n",
              "      <td>-0.456744</td>\n",
              "      <td>1.140847</td>\n",
              "      <td>-4.680443e-01</td>\n",
              "      <td>0.0</td>\n",
              "      <td>1.0</td>\n",
              "    </tr>\n",
              "    <tr>\n",
              "      <th>4</th>\n",
              "      <td>-0.523284</td>\n",
              "      <td>-0.598147</td>\n",
              "      <td>-0.456744</td>\n",
              "      <td>-1.254553</td>\n",
              "      <td>-7.081680e-01</td>\n",
              "      <td>0.0</td>\n",
              "      <td>0.0</td>\n",
              "    </tr>\n",
              "    <tr>\n",
              "      <th>...</th>\n",
              "      <td>...</td>\n",
              "      <td>...</td>\n",
              "      <td>...</td>\n",
              "      <td>...</td>\n",
              "      <td>...</td>\n",
              "      <td>...</td>\n",
              "      <td>...</td>\n",
              "    </tr>\n",
              "    <tr>\n",
              "      <th>311</th>\n",
              "      <td>-0.523284</td>\n",
              "      <td>-1.398301</td>\n",
              "      <td>-0.456744</td>\n",
              "      <td>2.338548</td>\n",
              "      <td>-7.081680e-01</td>\n",
              "      <td>0.0</td>\n",
              "      <td>1.0</td>\n",
              "    </tr>\n",
              "    <tr>\n",
              "      <th>312</th>\n",
              "      <td>0.000000</td>\n",
              "      <td>-1.398301</td>\n",
              "      <td>-0.456744</td>\n",
              "      <td>2.338548</td>\n",
              "      <td>2.132726e-16</td>\n",
              "      <td>0.0</td>\n",
              "      <td>1.0</td>\n",
              "    </tr>\n",
              "    <tr>\n",
              "      <th>313</th>\n",
              "      <td>0.961382</td>\n",
              "      <td>1.802313</td>\n",
              "      <td>2.266484</td>\n",
              "      <td>-0.056853</td>\n",
              "      <td>1.092759e+00</td>\n",
              "      <td>0.0</td>\n",
              "      <td>1.0</td>\n",
              "    </tr>\n",
              "    <tr>\n",
              "      <th>314</th>\n",
              "      <td>-0.523284</td>\n",
              "      <td>0.202006</td>\n",
              "      <td>-0.456744</td>\n",
              "      <td>1.140847</td>\n",
              "      <td>-7.081680e-01</td>\n",
              "      <td>1.0</td>\n",
              "      <td>1.0</td>\n",
              "    </tr>\n",
              "    <tr>\n",
              "      <th>315</th>\n",
              "      <td>-0.523284</td>\n",
              "      <td>-1.398301</td>\n",
              "      <td>-0.456744</td>\n",
              "      <td>-1.254553</td>\n",
              "      <td>-2.279206e-01</td>\n",
              "      <td>0.0</td>\n",
              "      <td>1.0</td>\n",
              "    </tr>\n",
              "  </tbody>\n",
              "</table>\n",
              "<p>316 rows × 7 columns</p>\n",
              "</div>"
            ],
            "text/plain": [
              "            0         1         2         3             4    5    6\n",
              "0   -0.523284 -0.598147 -0.456744 -0.056853 -4.680443e-01  1.0  1.0\n",
              "1   -0.523284 -0.598147 -0.456744 -1.254553 -7.081680e-01  0.0  1.0\n",
              "2   -0.523284 -0.598147  3.628097 -0.056853 -7.081680e-01  1.0  1.0\n",
              "3   -0.523284 -0.598147 -0.456744  1.140847 -4.680443e-01  0.0  1.0\n",
              "4   -0.523284 -0.598147 -0.456744 -1.254553 -7.081680e-01  0.0  0.0\n",
              "..        ...       ...       ...       ...           ...  ...  ...\n",
              "311 -0.523284 -1.398301 -0.456744  2.338548 -7.081680e-01  0.0  1.0\n",
              "312  0.000000 -1.398301 -0.456744  2.338548  2.132726e-16  0.0  1.0\n",
              "313  0.961382  1.802313  2.266484 -0.056853  1.092759e+00  0.0  1.0\n",
              "314 -0.523284  0.202006 -0.456744  1.140847 -7.081680e-01  1.0  1.0\n",
              "315 -0.523284 -1.398301 -0.456744 -1.254553 -2.279206e-01  0.0  1.0\n",
              "\n",
              "[316 rows x 7 columns]"
            ]
          },
          "execution_count": 23,
          "metadata": {},
          "output_type": "execute_result"
        }
      ],
      "source": [
        "X_train_prepared = preprocessing.fit_transform(X_train)\n",
        "\n",
        "# Create DataFrame to view the data in an easier format\n",
        "X_train_prepared = pd.DataFrame(X_train_prepared)\n",
        "X_train_prepared"
      ]
    },
    {
      "cell_type": "code",
      "execution_count": 24,
      "metadata": {
        "id": "TA6q-LC3QzzT"
      },
      "outputs": [],
      "source": [
        "# testing with the parameter for the custom transformer set to false\n",
        "num_pipeline = make_pipeline(\n",
        "    SimpleImputer(strategy='mean'),\n",
        "    DropColumns(drop_columns=False),\n",
        "    StandardScaler())\n",
        "\n",
        "cat_pipeline = make_pipeline(\n",
        "    SimpleImputer(strategy='most_frequent'),\n",
        "    OneHotEncoder(drop='first',sparse_output=False))\n",
        "\n",
        "\n",
        "num_attributes = ['G1','G2','absences_G1','absences_G2','absences_G3','age','failures','studytime','famrel','goout']\n",
        "\n",
        "preprocessing2 = ColumnTransformer([\n",
        "        (\"num\", num_pipeline, num_attributes)\n",
        "        ])"
      ]
    },
    {
      "cell_type": "code",
      "execution_count": 25,
      "metadata": {
        "colab": {
          "base_uri": "https://localhost:8080/",
          "height": 424
        },
        "id": "O828_r7PFvyh",
        "outputId": "1e1670e2-8ac5-42df-9e4c-328de6142c9e"
      },
      "outputs": [
        {
          "data": {
            "text/html": [
              "<div>\n",
              "<style scoped>\n",
              "    .dataframe tbody tr th:only-of-type {\n",
              "        vertical-align: middle;\n",
              "    }\n",
              "\n",
              "    .dataframe tbody tr th {\n",
              "        vertical-align: top;\n",
              "    }\n",
              "\n",
              "    .dataframe thead th {\n",
              "        text-align: right;\n",
              "    }\n",
              "</style>\n",
              "<table border=\"1\" class=\"dataframe\">\n",
              "  <thead>\n",
              "    <tr style=\"text-align: right;\">\n",
              "      <th></th>\n",
              "      <th>0</th>\n",
              "      <th>1</th>\n",
              "      <th>2</th>\n",
              "      <th>3</th>\n",
              "      <th>4</th>\n",
              "      <th>5</th>\n",
              "      <th>6</th>\n",
              "      <th>7</th>\n",
              "      <th>8</th>\n",
              "    </tr>\n",
              "  </thead>\n",
              "  <tbody>\n",
              "    <tr>\n",
              "      <th>0</th>\n",
              "      <td>0.332050</td>\n",
              "      <td>0.626163</td>\n",
              "      <td>-0.523284</td>\n",
              "      <td>-0.598147</td>\n",
              "      <td>-0.456744</td>\n",
              "      <td>-0.056853</td>\n",
              "      <td>0.064432</td>\n",
              "      <td>-0.144396</td>\n",
              "      <td>-4.680443e-01</td>\n",
              "    </tr>\n",
              "    <tr>\n",
              "      <th>1</th>\n",
              "      <td>0.643409</td>\n",
              "      <td>0.892831</td>\n",
              "      <td>-0.523284</td>\n",
              "      <td>-0.598147</td>\n",
              "      <td>-0.456744</td>\n",
              "      <td>-1.254553</td>\n",
              "      <td>1.195575</td>\n",
              "      <td>-0.144396</td>\n",
              "      <td>-7.081680e-01</td>\n",
              "    </tr>\n",
              "    <tr>\n",
              "      <th>2</th>\n",
              "      <td>-0.913385</td>\n",
              "      <td>-0.973844</td>\n",
              "      <td>-0.523284</td>\n",
              "      <td>-0.598147</td>\n",
              "      <td>3.628097</td>\n",
              "      <td>-0.056853</td>\n",
              "      <td>0.064432</td>\n",
              "      <td>1.644982</td>\n",
              "      <td>-7.081680e-01</td>\n",
              "    </tr>\n",
              "    <tr>\n",
              "      <th>3</th>\n",
              "      <td>-0.290667</td>\n",
              "      <td>-0.440508</td>\n",
              "      <td>-0.523284</td>\n",
              "      <td>-0.598147</td>\n",
              "      <td>-0.456744</td>\n",
              "      <td>1.140847</td>\n",
              "      <td>-1.066710</td>\n",
              "      <td>0.750293</td>\n",
              "      <td>-4.680443e-01</td>\n",
              "    </tr>\n",
              "    <tr>\n",
              "      <th>4</th>\n",
              "      <td>-0.913385</td>\n",
              "      <td>-0.440508</td>\n",
              "      <td>-0.523284</td>\n",
              "      <td>-0.598147</td>\n",
              "      <td>-0.456744</td>\n",
              "      <td>-1.254553</td>\n",
              "      <td>-1.066710</td>\n",
              "      <td>-1.039085</td>\n",
              "      <td>-7.081680e-01</td>\n",
              "    </tr>\n",
              "    <tr>\n",
              "      <th>...</th>\n",
              "      <td>...</td>\n",
              "      <td>...</td>\n",
              "      <td>...</td>\n",
              "      <td>...</td>\n",
              "      <td>...</td>\n",
              "      <td>...</td>\n",
              "      <td>...</td>\n",
              "      <td>...</td>\n",
              "      <td>...</td>\n",
              "    </tr>\n",
              "    <tr>\n",
              "      <th>311</th>\n",
              "      <td>-0.290667</td>\n",
              "      <td>-0.173840</td>\n",
              "      <td>-0.523284</td>\n",
              "      <td>-1.398301</td>\n",
              "      <td>-0.456744</td>\n",
              "      <td>2.338548</td>\n",
              "      <td>-1.066710</td>\n",
              "      <td>-0.144396</td>\n",
              "      <td>-7.081680e-01</td>\n",
              "    </tr>\n",
              "    <tr>\n",
              "      <th>312</th>\n",
              "      <td>-1.224743</td>\n",
              "      <td>-0.707176</td>\n",
              "      <td>0.000000</td>\n",
              "      <td>-1.398301</td>\n",
              "      <td>-0.456744</td>\n",
              "      <td>2.338548</td>\n",
              "      <td>1.195575</td>\n",
              "      <td>-1.039085</td>\n",
              "      <td>2.132726e-16</td>\n",
              "    </tr>\n",
              "    <tr>\n",
              "      <th>313</th>\n",
              "      <td>-0.602026</td>\n",
              "      <td>-0.440508</td>\n",
              "      <td>0.961382</td>\n",
              "      <td>1.802313</td>\n",
              "      <td>2.266484</td>\n",
              "      <td>-0.056853</td>\n",
              "      <td>0.064432</td>\n",
              "      <td>1.644982</td>\n",
              "      <td>1.092759e+00</td>\n",
              "    </tr>\n",
              "    <tr>\n",
              "      <th>314</th>\n",
              "      <td>0.643409</td>\n",
              "      <td>1.159499</td>\n",
              "      <td>-0.523284</td>\n",
              "      <td>0.202006</td>\n",
              "      <td>-0.456744</td>\n",
              "      <td>1.140847</td>\n",
              "      <td>0.064432</td>\n",
              "      <td>-0.144396</td>\n",
              "      <td>-7.081680e-01</td>\n",
              "    </tr>\n",
              "    <tr>\n",
              "      <th>315</th>\n",
              "      <td>-0.290667</td>\n",
              "      <td>0.626163</td>\n",
              "      <td>-0.523284</td>\n",
              "      <td>-1.398301</td>\n",
              "      <td>-0.456744</td>\n",
              "      <td>-1.254553</td>\n",
              "      <td>1.195575</td>\n",
              "      <td>-0.144396</td>\n",
              "      <td>-2.279206e-01</td>\n",
              "    </tr>\n",
              "  </tbody>\n",
              "</table>\n",
              "<p>316 rows × 9 columns</p>\n",
              "</div>"
            ],
            "text/plain": [
              "            0         1         2         3         4         5         6  \\\n",
              "0    0.332050  0.626163 -0.523284 -0.598147 -0.456744 -0.056853  0.064432   \n",
              "1    0.643409  0.892831 -0.523284 -0.598147 -0.456744 -1.254553  1.195575   \n",
              "2   -0.913385 -0.973844 -0.523284 -0.598147  3.628097 -0.056853  0.064432   \n",
              "3   -0.290667 -0.440508 -0.523284 -0.598147 -0.456744  1.140847 -1.066710   \n",
              "4   -0.913385 -0.440508 -0.523284 -0.598147 -0.456744 -1.254553 -1.066710   \n",
              "..        ...       ...       ...       ...       ...       ...       ...   \n",
              "311 -0.290667 -0.173840 -0.523284 -1.398301 -0.456744  2.338548 -1.066710   \n",
              "312 -1.224743 -0.707176  0.000000 -1.398301 -0.456744  2.338548  1.195575   \n",
              "313 -0.602026 -0.440508  0.961382  1.802313  2.266484 -0.056853  0.064432   \n",
              "314  0.643409  1.159499 -0.523284  0.202006 -0.456744  1.140847  0.064432   \n",
              "315 -0.290667  0.626163 -0.523284 -1.398301 -0.456744 -1.254553  1.195575   \n",
              "\n",
              "            7             8  \n",
              "0   -0.144396 -4.680443e-01  \n",
              "1   -0.144396 -7.081680e-01  \n",
              "2    1.644982 -7.081680e-01  \n",
              "3    0.750293 -4.680443e-01  \n",
              "4   -1.039085 -7.081680e-01  \n",
              "..        ...           ...  \n",
              "311 -0.144396 -7.081680e-01  \n",
              "312 -1.039085  2.132726e-16  \n",
              "313  1.644982  1.092759e+00  \n",
              "314 -0.144396 -7.081680e-01  \n",
              "315 -0.144396 -2.279206e-01  \n",
              "\n",
              "[316 rows x 9 columns]"
            ]
          },
          "execution_count": 25,
          "metadata": {},
          "output_type": "execute_result"
        }
      ],
      "source": [
        "# testing with the parameter for the custom transformer set to false\n",
        "\n",
        "X_train_prepared_columns = preprocessing2.fit_transform(X_train)\n",
        "\n",
        "# Create DataFrame to view the data in an easier format\n",
        "X_train_prepared_columns = pd.DataFrame(X_train_prepared_columns)\n",
        "X_train_prepared_columns"
      ]
    },
    {
      "cell_type": "markdown",
      "metadata": {
        "id": "FYMdADq8Pw6D"
      },
      "source": [
        "## Shortlist Promising Models"
      ]
    },
    {
      "cell_type": "markdown",
      "metadata": {
        "id": "azxFvfNLP0l0"
      },
      "source": [
        "### Fit three or more promising models to your data: Linear Regression, Decision Tree, and Random Forest"
      ]
    },
    {
      "cell_type": "markdown",
      "metadata": {
        "id": "Gb_ZXMdk8Wrj"
      },
      "source": [
        "### How all three of these models perform with the G1 and G2 columns removed:"
      ]
    },
    {
      "cell_type": "code",
      "execution_count": 47,
      "metadata": {},
      "outputs": [
        {
          "data": {
            "text/html": [
              "<style>#sk-container-id-3 {color: black;}#sk-container-id-3 pre{padding: 0;}#sk-container-id-3 div.sk-toggleable {background-color: white;}#sk-container-id-3 label.sk-toggleable__label {cursor: pointer;display: block;width: 100%;margin-bottom: 0;padding: 0.3em;box-sizing: border-box;text-align: center;}#sk-container-id-3 label.sk-toggleable__label-arrow:before {content: \"▸\";float: left;margin-right: 0.25em;color: #696969;}#sk-container-id-3 label.sk-toggleable__label-arrow:hover:before {color: black;}#sk-container-id-3 div.sk-estimator:hover label.sk-toggleable__label-arrow:before {color: black;}#sk-container-id-3 div.sk-toggleable__content {max-height: 0;max-width: 0;overflow: hidden;text-align: left;background-color: #f0f8ff;}#sk-container-id-3 div.sk-toggleable__content pre {margin: 0.2em;color: black;border-radius: 0.25em;background-color: #f0f8ff;}#sk-container-id-3 input.sk-toggleable__control:checked~div.sk-toggleable__content {max-height: 200px;max-width: 100%;overflow: auto;}#sk-container-id-3 input.sk-toggleable__control:checked~label.sk-toggleable__label-arrow:before {content: \"▾\";}#sk-container-id-3 div.sk-estimator input.sk-toggleable__control:checked~label.sk-toggleable__label {background-color: #d4ebff;}#sk-container-id-3 div.sk-label input.sk-toggleable__control:checked~label.sk-toggleable__label {background-color: #d4ebff;}#sk-container-id-3 input.sk-hidden--visually {border: 0;clip: rect(1px 1px 1px 1px);clip: rect(1px, 1px, 1px, 1px);height: 1px;margin: -1px;overflow: hidden;padding: 0;position: absolute;width: 1px;}#sk-container-id-3 div.sk-estimator {font-family: monospace;background-color: #f0f8ff;border: 1px dotted black;border-radius: 0.25em;box-sizing: border-box;margin-bottom: 0.5em;}#sk-container-id-3 div.sk-estimator:hover {background-color: #d4ebff;}#sk-container-id-3 div.sk-parallel-item::after {content: \"\";width: 100%;border-bottom: 1px solid gray;flex-grow: 1;}#sk-container-id-3 div.sk-label:hover label.sk-toggleable__label {background-color: #d4ebff;}#sk-container-id-3 div.sk-serial::before {content: \"\";position: absolute;border-left: 1px solid gray;box-sizing: border-box;top: 0;bottom: 0;left: 50%;z-index: 0;}#sk-container-id-3 div.sk-serial {display: flex;flex-direction: column;align-items: center;background-color: white;padding-right: 0.2em;padding-left: 0.2em;position: relative;}#sk-container-id-3 div.sk-item {position: relative;z-index: 1;}#sk-container-id-3 div.sk-parallel {display: flex;align-items: stretch;justify-content: center;background-color: white;position: relative;}#sk-container-id-3 div.sk-item::before, #sk-container-id-3 div.sk-parallel-item::before {content: \"\";position: absolute;border-left: 1px solid gray;box-sizing: border-box;top: 0;bottom: 0;left: 50%;z-index: -1;}#sk-container-id-3 div.sk-parallel-item {display: flex;flex-direction: column;z-index: 1;position: relative;background-color: white;}#sk-container-id-3 div.sk-parallel-item:first-child::after {align-self: flex-end;width: 50%;}#sk-container-id-3 div.sk-parallel-item:last-child::after {align-self: flex-start;width: 50%;}#sk-container-id-3 div.sk-parallel-item:only-child::after {width: 0;}#sk-container-id-3 div.sk-dashed-wrapped {border: 1px dashed gray;margin: 0 0.4em 0.5em 0.4em;box-sizing: border-box;padding-bottom: 0.4em;background-color: white;}#sk-container-id-3 div.sk-label label {font-family: monospace;font-weight: bold;display: inline-block;line-height: 1.2em;}#sk-container-id-3 div.sk-label-container {text-align: center;}#sk-container-id-3 div.sk-container {/* jupyter's `normalize.less` sets `[hidden] { display: none; }` but bootstrap.min.css set `[hidden] { display: none !important; }` so we also need the `!important` here to be able to override the default hidden behavior on the sphinx rendered scikit-learn.org. See: https://github.com/scikit-learn/scikit-learn/issues/21755 */display: inline-block !important;position: relative;}#sk-container-id-3 div.sk-text-repr-fallback {display: none;}</style><div id=\"sk-container-id-3\" class=\"sk-top-container\"><div class=\"sk-text-repr-fallback\"><pre>LogisticRegression(max_iter=1000, random_state=42)</pre><b>In a Jupyter environment, please rerun this cell to show the HTML representation or trust the notebook. <br />On GitHub, the HTML representation is unable to render, please try loading this page with nbviewer.org.</b></div><div class=\"sk-container\" hidden><div class=\"sk-item\"><div class=\"sk-estimator sk-toggleable\"><input class=\"sk-toggleable__control sk-hidden--visually\" id=\"sk-estimator-id-5\" type=\"checkbox\" checked><label for=\"sk-estimator-id-5\" class=\"sk-toggleable__label sk-toggleable__label-arrow\">LogisticRegression</label><div class=\"sk-toggleable__content\"><pre>LogisticRegression(max_iter=1000, random_state=42)</pre></div></div></div></div></div>"
            ],
            "text/plain": [
              "LogisticRegression(max_iter=1000, random_state=42)"
            ]
          },
          "execution_count": 47,
          "metadata": {},
          "output_type": "execute_result"
        }
      ],
      "source": [
        "from sklearn.linear_model import LogisticRegression\n",
        "from sklearn.metrics import mean_squared_error\n",
        "\n",
        "# instantiate a Logistic Regression Class \n",
        "# increasing the maximum number of iterations taken for the solvers to converge\n",
        "log_clf = LogisticRegression(random_state=42, max_iter=1000)\n",
        "\n",
        "# fit the model\n",
        "log_clf.fit(X_train_prepared, y_train)\n",
        "\n"
      ]
    },
    {
      "cell_type": "code",
      "execution_count": 48,
      "metadata": {},
      "outputs": [
        {
          "data": {
            "text/plain": [
              "5.185788759995064"
            ]
          },
          "execution_count": 48,
          "metadata": {},
          "output_type": "execute_result"
        }
      ],
      "source": [
        "predictions = log_clf.predict(X_train_prepared)\n",
        "\n",
        "# check RMSE scores - a score closer to 0 indicates more accurate predictions\n",
        "\n",
        "log_mse = mean_squared_error(y_train,predictions)\n",
        "\n",
        "log_rmse = np.sqrt(log_mse)\n",
        "log_rmse"
      ]
    },
    {
      "cell_type": "code",
      "execution_count": 49,
      "metadata": {
        "colab": {
          "base_uri": "https://localhost:8080/",
          "height": 75
        },
        "id": "1Cl0KYs4s0hR",
        "outputId": "07013a7b-7f60-43e3-9bc8-edb3c63fbb5f"
      },
      "outputs": [
        {
          "data": {
            "text/html": [
              "<style>#sk-container-id-4 {color: black;}#sk-container-id-4 pre{padding: 0;}#sk-container-id-4 div.sk-toggleable {background-color: white;}#sk-container-id-4 label.sk-toggleable__label {cursor: pointer;display: block;width: 100%;margin-bottom: 0;padding: 0.3em;box-sizing: border-box;text-align: center;}#sk-container-id-4 label.sk-toggleable__label-arrow:before {content: \"▸\";float: left;margin-right: 0.25em;color: #696969;}#sk-container-id-4 label.sk-toggleable__label-arrow:hover:before {color: black;}#sk-container-id-4 div.sk-estimator:hover label.sk-toggleable__label-arrow:before {color: black;}#sk-container-id-4 div.sk-toggleable__content {max-height: 0;max-width: 0;overflow: hidden;text-align: left;background-color: #f0f8ff;}#sk-container-id-4 div.sk-toggleable__content pre {margin: 0.2em;color: black;border-radius: 0.25em;background-color: #f0f8ff;}#sk-container-id-4 input.sk-toggleable__control:checked~div.sk-toggleable__content {max-height: 200px;max-width: 100%;overflow: auto;}#sk-container-id-4 input.sk-toggleable__control:checked~label.sk-toggleable__label-arrow:before {content: \"▾\";}#sk-container-id-4 div.sk-estimator input.sk-toggleable__control:checked~label.sk-toggleable__label {background-color: #d4ebff;}#sk-container-id-4 div.sk-label input.sk-toggleable__control:checked~label.sk-toggleable__label {background-color: #d4ebff;}#sk-container-id-4 input.sk-hidden--visually {border: 0;clip: rect(1px 1px 1px 1px);clip: rect(1px, 1px, 1px, 1px);height: 1px;margin: -1px;overflow: hidden;padding: 0;position: absolute;width: 1px;}#sk-container-id-4 div.sk-estimator {font-family: monospace;background-color: #f0f8ff;border: 1px dotted black;border-radius: 0.25em;box-sizing: border-box;margin-bottom: 0.5em;}#sk-container-id-4 div.sk-estimator:hover {background-color: #d4ebff;}#sk-container-id-4 div.sk-parallel-item::after {content: \"\";width: 100%;border-bottom: 1px solid gray;flex-grow: 1;}#sk-container-id-4 div.sk-label:hover label.sk-toggleable__label {background-color: #d4ebff;}#sk-container-id-4 div.sk-serial::before {content: \"\";position: absolute;border-left: 1px solid gray;box-sizing: border-box;top: 0;bottom: 0;left: 50%;z-index: 0;}#sk-container-id-4 div.sk-serial {display: flex;flex-direction: column;align-items: center;background-color: white;padding-right: 0.2em;padding-left: 0.2em;position: relative;}#sk-container-id-4 div.sk-item {position: relative;z-index: 1;}#sk-container-id-4 div.sk-parallel {display: flex;align-items: stretch;justify-content: center;background-color: white;position: relative;}#sk-container-id-4 div.sk-item::before, #sk-container-id-4 div.sk-parallel-item::before {content: \"\";position: absolute;border-left: 1px solid gray;box-sizing: border-box;top: 0;bottom: 0;left: 50%;z-index: -1;}#sk-container-id-4 div.sk-parallel-item {display: flex;flex-direction: column;z-index: 1;position: relative;background-color: white;}#sk-container-id-4 div.sk-parallel-item:first-child::after {align-self: flex-end;width: 50%;}#sk-container-id-4 div.sk-parallel-item:last-child::after {align-self: flex-start;width: 50%;}#sk-container-id-4 div.sk-parallel-item:only-child::after {width: 0;}#sk-container-id-4 div.sk-dashed-wrapped {border: 1px dashed gray;margin: 0 0.4em 0.5em 0.4em;box-sizing: border-box;padding-bottom: 0.4em;background-color: white;}#sk-container-id-4 div.sk-label label {font-family: monospace;font-weight: bold;display: inline-block;line-height: 1.2em;}#sk-container-id-4 div.sk-label-container {text-align: center;}#sk-container-id-4 div.sk-container {/* jupyter's `normalize.less` sets `[hidden] { display: none; }` but bootstrap.min.css set `[hidden] { display: none !important; }` so we also need the `!important` here to be able to override the default hidden behavior on the sphinx rendered scikit-learn.org. See: https://github.com/scikit-learn/scikit-learn/issues/21755 */display: inline-block !important;position: relative;}#sk-container-id-4 div.sk-text-repr-fallback {display: none;}</style><div id=\"sk-container-id-4\" class=\"sk-top-container\"><div class=\"sk-text-repr-fallback\"><pre>LinearRegression()</pre><b>In a Jupyter environment, please rerun this cell to show the HTML representation or trust the notebook. <br />On GitHub, the HTML representation is unable to render, please try loading this page with nbviewer.org.</b></div><div class=\"sk-container\" hidden><div class=\"sk-item\"><div class=\"sk-estimator sk-toggleable\"><input class=\"sk-toggleable__control sk-hidden--visually\" id=\"sk-estimator-id-6\" type=\"checkbox\" checked><label for=\"sk-estimator-id-6\" class=\"sk-toggleable__label sk-toggleable__label-arrow\">LinearRegression</label><div class=\"sk-toggleable__content\"><pre>LinearRegression()</pre></div></div></div></div></div>"
            ],
            "text/plain": [
              "LinearRegression()"
            ]
          },
          "execution_count": 49,
          "metadata": {},
          "output_type": "execute_result"
        }
      ],
      "source": [
        "from sklearn.linear_model import LinearRegression\n",
        "\n",
        "lin_reg = LinearRegression()\n",
        "\n",
        "lin_reg.fit(X_train_prepared, y_train)\n",
        "\n"
      ]
    },
    {
      "cell_type": "code",
      "execution_count": 50,
      "metadata": {},
      "outputs": [
        {
          "data": {
            "text/plain": [
              "4.1038421046598685"
            ]
          },
          "execution_count": 50,
          "metadata": {},
          "output_type": "execute_result"
        }
      ],
      "source": [
        "predictions = lin_reg.predict(X_train_prepared)\n",
        "\n",
        "lin_mse = mean_squared_error(y_train,predictions)\n",
        "\n",
        "lin_rmse = np.sqrt(lin_mse)\n",
        "lin_rmse"
      ]
    },
    {
      "cell_type": "code",
      "execution_count": 51,
      "metadata": {
        "colab": {
          "base_uri": "https://localhost:8080/"
        },
        "id": "HsTt14KOuOrs",
        "outputId": "d177ba70-1d99-4c75-9e33-1c9eee52b9d3"
      },
      "outputs": [
        {
          "data": {
            "text/html": [
              "<style>#sk-container-id-5 {color: black;}#sk-container-id-5 pre{padding: 0;}#sk-container-id-5 div.sk-toggleable {background-color: white;}#sk-container-id-5 label.sk-toggleable__label {cursor: pointer;display: block;width: 100%;margin-bottom: 0;padding: 0.3em;box-sizing: border-box;text-align: center;}#sk-container-id-5 label.sk-toggleable__label-arrow:before {content: \"▸\";float: left;margin-right: 0.25em;color: #696969;}#sk-container-id-5 label.sk-toggleable__label-arrow:hover:before {color: black;}#sk-container-id-5 div.sk-estimator:hover label.sk-toggleable__label-arrow:before {color: black;}#sk-container-id-5 div.sk-toggleable__content {max-height: 0;max-width: 0;overflow: hidden;text-align: left;background-color: #f0f8ff;}#sk-container-id-5 div.sk-toggleable__content pre {margin: 0.2em;color: black;border-radius: 0.25em;background-color: #f0f8ff;}#sk-container-id-5 input.sk-toggleable__control:checked~div.sk-toggleable__content {max-height: 200px;max-width: 100%;overflow: auto;}#sk-container-id-5 input.sk-toggleable__control:checked~label.sk-toggleable__label-arrow:before {content: \"▾\";}#sk-container-id-5 div.sk-estimator input.sk-toggleable__control:checked~label.sk-toggleable__label {background-color: #d4ebff;}#sk-container-id-5 div.sk-label input.sk-toggleable__control:checked~label.sk-toggleable__label {background-color: #d4ebff;}#sk-container-id-5 input.sk-hidden--visually {border: 0;clip: rect(1px 1px 1px 1px);clip: rect(1px, 1px, 1px, 1px);height: 1px;margin: -1px;overflow: hidden;padding: 0;position: absolute;width: 1px;}#sk-container-id-5 div.sk-estimator {font-family: monospace;background-color: #f0f8ff;border: 1px dotted black;border-radius: 0.25em;box-sizing: border-box;margin-bottom: 0.5em;}#sk-container-id-5 div.sk-estimator:hover {background-color: #d4ebff;}#sk-container-id-5 div.sk-parallel-item::after {content: \"\";width: 100%;border-bottom: 1px solid gray;flex-grow: 1;}#sk-container-id-5 div.sk-label:hover label.sk-toggleable__label {background-color: #d4ebff;}#sk-container-id-5 div.sk-serial::before {content: \"\";position: absolute;border-left: 1px solid gray;box-sizing: border-box;top: 0;bottom: 0;left: 50%;z-index: 0;}#sk-container-id-5 div.sk-serial {display: flex;flex-direction: column;align-items: center;background-color: white;padding-right: 0.2em;padding-left: 0.2em;position: relative;}#sk-container-id-5 div.sk-item {position: relative;z-index: 1;}#sk-container-id-5 div.sk-parallel {display: flex;align-items: stretch;justify-content: center;background-color: white;position: relative;}#sk-container-id-5 div.sk-item::before, #sk-container-id-5 div.sk-parallel-item::before {content: \"\";position: absolute;border-left: 1px solid gray;box-sizing: border-box;top: 0;bottom: 0;left: 50%;z-index: -1;}#sk-container-id-5 div.sk-parallel-item {display: flex;flex-direction: column;z-index: 1;position: relative;background-color: white;}#sk-container-id-5 div.sk-parallel-item:first-child::after {align-self: flex-end;width: 50%;}#sk-container-id-5 div.sk-parallel-item:last-child::after {align-self: flex-start;width: 50%;}#sk-container-id-5 div.sk-parallel-item:only-child::after {width: 0;}#sk-container-id-5 div.sk-dashed-wrapped {border: 1px dashed gray;margin: 0 0.4em 0.5em 0.4em;box-sizing: border-box;padding-bottom: 0.4em;background-color: white;}#sk-container-id-5 div.sk-label label {font-family: monospace;font-weight: bold;display: inline-block;line-height: 1.2em;}#sk-container-id-5 div.sk-label-container {text-align: center;}#sk-container-id-5 div.sk-container {/* jupyter's `normalize.less` sets `[hidden] { display: none; }` but bootstrap.min.css set `[hidden] { display: none !important; }` so we also need the `!important` here to be able to override the default hidden behavior on the sphinx rendered scikit-learn.org. See: https://github.com/scikit-learn/scikit-learn/issues/21755 */display: inline-block !important;position: relative;}#sk-container-id-5 div.sk-text-repr-fallback {display: none;}</style><div id=\"sk-container-id-5\" class=\"sk-top-container\"><div class=\"sk-text-repr-fallback\"><pre>DecisionTreeRegressor()</pre><b>In a Jupyter environment, please rerun this cell to show the HTML representation or trust the notebook. <br />On GitHub, the HTML representation is unable to render, please try loading this page with nbviewer.org.</b></div><div class=\"sk-container\" hidden><div class=\"sk-item\"><div class=\"sk-estimator sk-toggleable\"><input class=\"sk-toggleable__control sk-hidden--visually\" id=\"sk-estimator-id-7\" type=\"checkbox\" checked><label for=\"sk-estimator-id-7\" class=\"sk-toggleable__label sk-toggleable__label-arrow\">DecisionTreeRegressor</label><div class=\"sk-toggleable__content\"><pre>DecisionTreeRegressor()</pre></div></div></div></div></div>"
            ],
            "text/plain": [
              "DecisionTreeRegressor()"
            ]
          },
          "execution_count": 51,
          "metadata": {},
          "output_type": "execute_result"
        }
      ],
      "source": [
        "from sklearn.tree import DecisionTreeRegressor\n",
        "\n",
        "tree_reg = DecisionTreeRegressor()\n",
        "\n",
        "tree_reg.fit(X=X_train_prepared, y=y_train)\n",
        "\n",
        "\n"
      ]
    },
    {
      "cell_type": "code",
      "execution_count": null,
      "metadata": {},
      "outputs": [],
      "source": [
        "predictions = tree_reg.predict(X_train_prepared)\n",
        "\n",
        "tree_mse = mean_squared_error(y_true = y_train, y_pred = predictions)\n",
        "\n",
        "tree_rmse = np.sqrt(tree_mse)\n",
        "tree_rmse"
      ]
    },
    {
      "cell_type": "code",
      "execution_count": 52,
      "metadata": {
        "colab": {
          "base_uri": "https://localhost:8080/"
        },
        "id": "JnUwe_09xSia",
        "outputId": "b71dfeb8-d1bd-4dca-b22d-3bd5300d2970"
      },
      "outputs": [
        {
          "data": {
            "text/html": [
              "<style>#sk-container-id-6 {color: black;}#sk-container-id-6 pre{padding: 0;}#sk-container-id-6 div.sk-toggleable {background-color: white;}#sk-container-id-6 label.sk-toggleable__label {cursor: pointer;display: block;width: 100%;margin-bottom: 0;padding: 0.3em;box-sizing: border-box;text-align: center;}#sk-container-id-6 label.sk-toggleable__label-arrow:before {content: \"▸\";float: left;margin-right: 0.25em;color: #696969;}#sk-container-id-6 label.sk-toggleable__label-arrow:hover:before {color: black;}#sk-container-id-6 div.sk-estimator:hover label.sk-toggleable__label-arrow:before {color: black;}#sk-container-id-6 div.sk-toggleable__content {max-height: 0;max-width: 0;overflow: hidden;text-align: left;background-color: #f0f8ff;}#sk-container-id-6 div.sk-toggleable__content pre {margin: 0.2em;color: black;border-radius: 0.25em;background-color: #f0f8ff;}#sk-container-id-6 input.sk-toggleable__control:checked~div.sk-toggleable__content {max-height: 200px;max-width: 100%;overflow: auto;}#sk-container-id-6 input.sk-toggleable__control:checked~label.sk-toggleable__label-arrow:before {content: \"▾\";}#sk-container-id-6 div.sk-estimator input.sk-toggleable__control:checked~label.sk-toggleable__label {background-color: #d4ebff;}#sk-container-id-6 div.sk-label input.sk-toggleable__control:checked~label.sk-toggleable__label {background-color: #d4ebff;}#sk-container-id-6 input.sk-hidden--visually {border: 0;clip: rect(1px 1px 1px 1px);clip: rect(1px, 1px, 1px, 1px);height: 1px;margin: -1px;overflow: hidden;padding: 0;position: absolute;width: 1px;}#sk-container-id-6 div.sk-estimator {font-family: monospace;background-color: #f0f8ff;border: 1px dotted black;border-radius: 0.25em;box-sizing: border-box;margin-bottom: 0.5em;}#sk-container-id-6 div.sk-estimator:hover {background-color: #d4ebff;}#sk-container-id-6 div.sk-parallel-item::after {content: \"\";width: 100%;border-bottom: 1px solid gray;flex-grow: 1;}#sk-container-id-6 div.sk-label:hover label.sk-toggleable__label {background-color: #d4ebff;}#sk-container-id-6 div.sk-serial::before {content: \"\";position: absolute;border-left: 1px solid gray;box-sizing: border-box;top: 0;bottom: 0;left: 50%;z-index: 0;}#sk-container-id-6 div.sk-serial {display: flex;flex-direction: column;align-items: center;background-color: white;padding-right: 0.2em;padding-left: 0.2em;position: relative;}#sk-container-id-6 div.sk-item {position: relative;z-index: 1;}#sk-container-id-6 div.sk-parallel {display: flex;align-items: stretch;justify-content: center;background-color: white;position: relative;}#sk-container-id-6 div.sk-item::before, #sk-container-id-6 div.sk-parallel-item::before {content: \"\";position: absolute;border-left: 1px solid gray;box-sizing: border-box;top: 0;bottom: 0;left: 50%;z-index: -1;}#sk-container-id-6 div.sk-parallel-item {display: flex;flex-direction: column;z-index: 1;position: relative;background-color: white;}#sk-container-id-6 div.sk-parallel-item:first-child::after {align-self: flex-end;width: 50%;}#sk-container-id-6 div.sk-parallel-item:last-child::after {align-self: flex-start;width: 50%;}#sk-container-id-6 div.sk-parallel-item:only-child::after {width: 0;}#sk-container-id-6 div.sk-dashed-wrapped {border: 1px dashed gray;margin: 0 0.4em 0.5em 0.4em;box-sizing: border-box;padding-bottom: 0.4em;background-color: white;}#sk-container-id-6 div.sk-label label {font-family: monospace;font-weight: bold;display: inline-block;line-height: 1.2em;}#sk-container-id-6 div.sk-label-container {text-align: center;}#sk-container-id-6 div.sk-container {/* jupyter's `normalize.less` sets `[hidden] { display: none; }` but bootstrap.min.css set `[hidden] { display: none !important; }` so we also need the `!important` here to be able to override the default hidden behavior on the sphinx rendered scikit-learn.org. See: https://github.com/scikit-learn/scikit-learn/issues/21755 */display: inline-block !important;position: relative;}#sk-container-id-6 div.sk-text-repr-fallback {display: none;}</style><div id=\"sk-container-id-6\" class=\"sk-top-container\"><div class=\"sk-text-repr-fallback\"><pre>RandomForestRegressor()</pre><b>In a Jupyter environment, please rerun this cell to show the HTML representation or trust the notebook. <br />On GitHub, the HTML representation is unable to render, please try loading this page with nbviewer.org.</b></div><div class=\"sk-container\" hidden><div class=\"sk-item\"><div class=\"sk-estimator sk-toggleable\"><input class=\"sk-toggleable__control sk-hidden--visually\" id=\"sk-estimator-id-8\" type=\"checkbox\" checked><label for=\"sk-estimator-id-8\" class=\"sk-toggleable__label sk-toggleable__label-arrow\">RandomForestRegressor</label><div class=\"sk-toggleable__content\"><pre>RandomForestRegressor()</pre></div></div></div></div></div>"
            ],
            "text/plain": [
              "RandomForestRegressor()"
            ]
          },
          "execution_count": 52,
          "metadata": {},
          "output_type": "execute_result"
        }
      ],
      "source": [
        "from sklearn.ensemble import RandomForestRegressor\n",
        "\n",
        "forest_reg = RandomForestRegressor()\n",
        "\n",
        "forest_reg.fit(X=X_train_prepared,y=y_train)\n",
        "\n",
        "\n"
      ]
    },
    {
      "cell_type": "code",
      "execution_count": 53,
      "metadata": {},
      "outputs": [
        {
          "data": {
            "text/plain": [
              "2.4185534996007894"
            ]
          },
          "execution_count": 53,
          "metadata": {},
          "output_type": "execute_result"
        }
      ],
      "source": [
        "forest_mse = mean_squared_error(y_true= y_train, y_pred = forest_reg.predict(X=X_train_prepared))\n",
        "\n",
        "forest_rmse = np.sqrt(forest_mse)\n",
        "forest_rmse"
      ]
    },
    {
      "cell_type": "markdown",
      "metadata": {
        "id": "jw4XfFZ98drL"
      },
      "source": [
        "### How all three models perform with the G1 and G2 columns in the data:"
      ]
    },
    {
      "cell_type": "code",
      "execution_count": 30,
      "metadata": {
        "colab": {
          "base_uri": "https://localhost:8080/"
        },
        "id": "pIh8GMmR9bs6",
        "outputId": "aeca5ab7-d42b-48dd-b5d3-31d22fc120a9"
      },
      "outputs": [
        {
          "data": {
            "text/plain": [
              "1.7453157951692773"
            ]
          },
          "execution_count": 30,
          "metadata": {},
          "output_type": "execute_result"
        }
      ],
      "source": [
        "lin_reg2 = LinearRegression()\n",
        "\n",
        "lin_reg2.fit(X_train_prepared_columns, y_train)\n",
        "\n"
      ]
    },
    {
      "cell_type": "code",
      "execution_count": null,
      "metadata": {},
      "outputs": [],
      "source": [
        "predictions = lin_reg2.predict(X_train_prepared_columns)\n",
        "\n",
        "lin_mse2 = mean_squared_error(y_train,predictions)\n",
        "\n",
        "lin_rmse2 = np.sqrt(lin_mse2)\n",
        "lin_rmse2"
      ]
    },
    {
      "cell_type": "code",
      "execution_count": 31,
      "metadata": {
        "colab": {
          "base_uri": "https://localhost:8080/"
        },
        "id": "ZC-Fhr3--QAH",
        "outputId": "a98abf4e-a3eb-4087-99d2-81403e4d0d39"
      },
      "outputs": [
        {
          "data": {
            "text/plain": [
              "0.08894600837060251"
            ]
          },
          "execution_count": 31,
          "metadata": {},
          "output_type": "execute_result"
        }
      ],
      "source": [
        "tree_reg2 = DecisionTreeRegressor()\n",
        "\n",
        "tree_reg2.fit(X=X_train_prepared_columns, y=y_train)\n",
        "\n",
        "\n"
      ]
    },
    {
      "cell_type": "code",
      "execution_count": null,
      "metadata": {},
      "outputs": [],
      "source": [
        "predictions = tree_reg2.predict(X_train_prepared_columns)\n",
        "\n",
        "tree_mse2 = mean_squared_error(y_true = y_train, y_pred = predictions)\n",
        "\n",
        "tree_rmse2 = np.sqrt(tree_mse2)\n",
        "tree_rmse2"
      ]
    },
    {
      "cell_type": "code",
      "execution_count": 32,
      "metadata": {
        "colab": {
          "base_uri": "https://localhost:8080/"
        },
        "id": "tXjhBJCa-edP",
        "outputId": "c96d86e2-9a16-4ad6-9366-12591ff69fd2"
      },
      "outputs": [
        {
          "data": {
            "text/plain": [
              "0.5525482450567829"
            ]
          },
          "execution_count": 32,
          "metadata": {},
          "output_type": "execute_result"
        }
      ],
      "source": [
        "forest_reg2 = RandomForestRegressor()\n",
        "\n",
        "forest_reg2.fit(X=X_train_prepared_columns,y=y_train)\n",
        "\n"
      ]
    },
    {
      "cell_type": "code",
      "execution_count": null,
      "metadata": {},
      "outputs": [],
      "source": [
        "forest_mse2 = mean_squared_error(y_true= y_train, y_pred = forest_reg2.predict(X=X_train_prepared_columns))\n",
        "\n",
        "forest_rmse2 = np.sqrt(forest_mse2)\n",
        "forest_rmse2"
      ]
    },
    {
      "cell_type": "markdown",
      "metadata": {
        "id": "VI-BMJy2xm3b"
      },
      "source": [
        "### Compare all three models **without** G1 and G2 columns with cross validation:"
      ]
    },
    {
      "cell_type": "code",
      "execution_count": 33,
      "metadata": {
        "colab": {
          "base_uri": "https://localhost:8080/"
        },
        "id": "fSSQTkrHAIab",
        "outputId": "c1ce06c4-0ac8-4051-e4c4-b9a801cbee23"
      },
      "outputs": [
        {
          "data": {
            "text/plain": [
              "array([4.04277021, 4.17612447, 4.55866975])"
            ]
          },
          "execution_count": 33,
          "metadata": {},
          "output_type": "execute_result"
        }
      ],
      "source": [
        "from sklearn.model_selection import cross_val_score\n",
        "scores = cross_val_score(estimator = lin_reg, X = X_train_prepared, y=y_train,scoring = 'neg_mean_squared_error',cv=3)\n",
        "linreg_rmse_scores = np.sqrt(-scores)\n",
        "linreg_rmse_scores"
      ]
    },
    {
      "cell_type": "code",
      "execution_count": 34,
      "metadata": {
        "colab": {
          "base_uri": "https://localhost:8080/"
        },
        "id": "s5rB-dd5xuxc",
        "outputId": "4beb40e0-40a4-4950-efcc-001b38e717c5"
      },
      "outputs": [
        {
          "data": {
            "text/plain": [
              "array([5.1827433 , 5.59072006, 4.7584086 ])"
            ]
          },
          "execution_count": 34,
          "metadata": {},
          "output_type": "execute_result"
        }
      ],
      "source": [
        "scores = cross_val_score(estimator = tree_reg, X = X_train_prepared, y=y_train,scoring = 'neg_mean_squared_error',cv=3)\n",
        "tree_rmse_scores = np.sqrt(-scores)\n",
        "tree_rmse_scores"
      ]
    },
    {
      "cell_type": "code",
      "execution_count": 35,
      "metadata": {
        "colab": {
          "base_uri": "https://localhost:8080/"
        },
        "id": "J2JZAk0H2CMs",
        "outputId": "286c620c-b523-4a5b-e561-3b66a3b37856"
      },
      "outputs": [
        {
          "data": {
            "text/plain": [
              "array([4.14653477, 4.18192857, 4.31442497])"
            ]
          },
          "execution_count": 35,
          "metadata": {},
          "output_type": "execute_result"
        }
      ],
      "source": [
        "scores = cross_val_score(estimator = forest_reg, X = X_train_prepared, y=y_train,scoring = 'neg_mean_squared_error',cv=3)\n",
        "forest_rmse_scores = np.sqrt(-scores)\n",
        "forest_rmse_scores"
      ]
    },
    {
      "cell_type": "markdown",
      "metadata": {
        "id": "HyWvMtliAeXd"
      },
      "source": [
        "### Compare all three models **with** the G1 and G2 columns with cross validation:"
      ]
    },
    {
      "cell_type": "code",
      "execution_count": 36,
      "metadata": {
        "colab": {
          "base_uri": "https://localhost:8080/"
        },
        "id": "H4kwSxZnAeH2",
        "outputId": "e98d3f09-ae48-4221-8c2a-c38963815dad"
      },
      "outputs": [
        {
          "data": {
            "text/plain": [
              "array([1.59508814, 1.81760491, 1.93564229])"
            ]
          },
          "execution_count": 36,
          "metadata": {},
          "output_type": "execute_result"
        }
      ],
      "source": [
        "scores = cross_val_score(estimator = lin_reg2, X = X_train_prepared_columns, y=y_train,scoring = 'neg_mean_squared_error',cv=3)\n",
        "linreg2_rmse_scores = np.sqrt(-scores)\n",
        "linreg2_rmse_scores"
      ]
    },
    {
      "cell_type": "code",
      "execution_count": 37,
      "metadata": {
        "colab": {
          "base_uri": "https://localhost:8080/"
        },
        "id": "nXARdjuWArpt",
        "outputId": "8ac0cd57-701d-47c0-99b5-f26a8641cbde"
      },
      "outputs": [
        {
          "data": {
            "text/plain": [
              "array([1.58709418, 2.60448331, 2.00475625])"
            ]
          },
          "execution_count": 37,
          "metadata": {},
          "output_type": "execute_result"
        }
      ],
      "source": [
        "scores = cross_val_score(estimator = tree_reg2, X = X_train_prepared_columns, y=y_train,scoring = 'neg_mean_squared_error',cv=3)\n",
        "tree_reg2_rmse_scores = np.sqrt(-scores)\n",
        "tree_reg2_rmse_scores"
      ]
    },
    {
      "cell_type": "code",
      "execution_count": 38,
      "metadata": {
        "colab": {
          "base_uri": "https://localhost:8080/"
        },
        "id": "9ZHUkY6HArUO",
        "outputId": "37a40007-c201-4919-ef4d-aafdbc274f47"
      },
      "outputs": [
        {
          "data": {
            "text/plain": [
              "array([1.26814082, 1.50914281, 1.94001568])"
            ]
          },
          "execution_count": 38,
          "metadata": {},
          "output_type": "execute_result"
        }
      ],
      "source": [
        "scores = cross_val_score(estimator = forest_reg2, X = X_train_prepared_columns, y=y_train,scoring = 'neg_mean_squared_error',cv=3)\n",
        "forest_reg2_rmse_scores = np.sqrt(-scores)\n",
        "forest_reg2_rmse_scores"
      ]
    },
    {
      "cell_type": "markdown",
      "metadata": {
        "id": "yczMa_A5CRF-"
      },
      "source": [
        "## Fine Tune the System"
      ]
    },
    {
      "cell_type": "markdown",
      "metadata": {
        "id": "5y3IYMeXCUm5"
      },
      "source": [
        "### One model and one grid search to fine-tune the hyperparameters: Random Forest Regressor"
      ]
    },
    {
      "cell_type": "code",
      "execution_count": 39,
      "metadata": {
        "colab": {
          "base_uri": "https://localhost:8080/",
          "height": 118
        },
        "id": "MgmbdMHq3g3w",
        "outputId": "bcdbf0f6-067f-48a8-a59e-87b357c9f618"
      },
      "outputs": [
        {
          "data": {
            "text/html": [
              "<style>#sk-container-id-1 {color: black;}#sk-container-id-1 pre{padding: 0;}#sk-container-id-1 div.sk-toggleable {background-color: white;}#sk-container-id-1 label.sk-toggleable__label {cursor: pointer;display: block;width: 100%;margin-bottom: 0;padding: 0.3em;box-sizing: border-box;text-align: center;}#sk-container-id-1 label.sk-toggleable__label-arrow:before {content: \"▸\";float: left;margin-right: 0.25em;color: #696969;}#sk-container-id-1 label.sk-toggleable__label-arrow:hover:before {color: black;}#sk-container-id-1 div.sk-estimator:hover label.sk-toggleable__label-arrow:before {color: black;}#sk-container-id-1 div.sk-toggleable__content {max-height: 0;max-width: 0;overflow: hidden;text-align: left;background-color: #f0f8ff;}#sk-container-id-1 div.sk-toggleable__content pre {margin: 0.2em;color: black;border-radius: 0.25em;background-color: #f0f8ff;}#sk-container-id-1 input.sk-toggleable__control:checked~div.sk-toggleable__content {max-height: 200px;max-width: 100%;overflow: auto;}#sk-container-id-1 input.sk-toggleable__control:checked~label.sk-toggleable__label-arrow:before {content: \"▾\";}#sk-container-id-1 div.sk-estimator input.sk-toggleable__control:checked~label.sk-toggleable__label {background-color: #d4ebff;}#sk-container-id-1 div.sk-label input.sk-toggleable__control:checked~label.sk-toggleable__label {background-color: #d4ebff;}#sk-container-id-1 input.sk-hidden--visually {border: 0;clip: rect(1px 1px 1px 1px);clip: rect(1px, 1px, 1px, 1px);height: 1px;margin: -1px;overflow: hidden;padding: 0;position: absolute;width: 1px;}#sk-container-id-1 div.sk-estimator {font-family: monospace;background-color: #f0f8ff;border: 1px dotted black;border-radius: 0.25em;box-sizing: border-box;margin-bottom: 0.5em;}#sk-container-id-1 div.sk-estimator:hover {background-color: #d4ebff;}#sk-container-id-1 div.sk-parallel-item::after {content: \"\";width: 100%;border-bottom: 1px solid gray;flex-grow: 1;}#sk-container-id-1 div.sk-label:hover label.sk-toggleable__label {background-color: #d4ebff;}#sk-container-id-1 div.sk-serial::before {content: \"\";position: absolute;border-left: 1px solid gray;box-sizing: border-box;top: 0;bottom: 0;left: 50%;z-index: 0;}#sk-container-id-1 div.sk-serial {display: flex;flex-direction: column;align-items: center;background-color: white;padding-right: 0.2em;padding-left: 0.2em;position: relative;}#sk-container-id-1 div.sk-item {position: relative;z-index: 1;}#sk-container-id-1 div.sk-parallel {display: flex;align-items: stretch;justify-content: center;background-color: white;position: relative;}#sk-container-id-1 div.sk-item::before, #sk-container-id-1 div.sk-parallel-item::before {content: \"\";position: absolute;border-left: 1px solid gray;box-sizing: border-box;top: 0;bottom: 0;left: 50%;z-index: -1;}#sk-container-id-1 div.sk-parallel-item {display: flex;flex-direction: column;z-index: 1;position: relative;background-color: white;}#sk-container-id-1 div.sk-parallel-item:first-child::after {align-self: flex-end;width: 50%;}#sk-container-id-1 div.sk-parallel-item:last-child::after {align-self: flex-start;width: 50%;}#sk-container-id-1 div.sk-parallel-item:only-child::after {width: 0;}#sk-container-id-1 div.sk-dashed-wrapped {border: 1px dashed gray;margin: 0 0.4em 0.5em 0.4em;box-sizing: border-box;padding-bottom: 0.4em;background-color: white;}#sk-container-id-1 div.sk-label label {font-family: monospace;font-weight: bold;display: inline-block;line-height: 1.2em;}#sk-container-id-1 div.sk-label-container {text-align: center;}#sk-container-id-1 div.sk-container {/* jupyter's `normalize.less` sets `[hidden] { display: none; }` but bootstrap.min.css set `[hidden] { display: none !important; }` so we also need the `!important` here to be able to override the default hidden behavior on the sphinx rendered scikit-learn.org. See: https://github.com/scikit-learn/scikit-learn/issues/21755 */display: inline-block !important;position: relative;}#sk-container-id-1 div.sk-text-repr-fallback {display: none;}</style><div id=\"sk-container-id-1\" class=\"sk-top-container\"><div class=\"sk-text-repr-fallback\"><pre>GridSearchCV(cv=5, estimator=RandomForestRegressor(random_state=42),\n",
              "             param_grid=[{&#x27;max_features&#x27;: [2, 4, 6, 8],\n",
              "                          &#x27;n_estimators&#x27;: [3, 10, 30]},\n",
              "                         {&#x27;bootstrap&#x27;: [False], &#x27;max_features&#x27;: [2, 3, 4, 6],\n",
              "                          &#x27;n_estimators&#x27;: [3, 10]}],\n",
              "             return_train_score=True, scoring=&#x27;neg_mean_squared_error&#x27;)</pre><b>In a Jupyter environment, please rerun this cell to show the HTML representation or trust the notebook. <br />On GitHub, the HTML representation is unable to render, please try loading this page with nbviewer.org.</b></div><div class=\"sk-container\" hidden><div class=\"sk-item sk-dashed-wrapped\"><div class=\"sk-label-container\"><div class=\"sk-label sk-toggleable\"><input class=\"sk-toggleable__control sk-hidden--visually\" id=\"sk-estimator-id-1\" type=\"checkbox\" ><label for=\"sk-estimator-id-1\" class=\"sk-toggleable__label sk-toggleable__label-arrow\">GridSearchCV</label><div class=\"sk-toggleable__content\"><pre>GridSearchCV(cv=5, estimator=RandomForestRegressor(random_state=42),\n",
              "             param_grid=[{&#x27;max_features&#x27;: [2, 4, 6, 8],\n",
              "                          &#x27;n_estimators&#x27;: [3, 10, 30]},\n",
              "                         {&#x27;bootstrap&#x27;: [False], &#x27;max_features&#x27;: [2, 3, 4, 6],\n",
              "                          &#x27;n_estimators&#x27;: [3, 10]}],\n",
              "             return_train_score=True, scoring=&#x27;neg_mean_squared_error&#x27;)</pre></div></div></div><div class=\"sk-parallel\"><div class=\"sk-parallel-item\"><div class=\"sk-item\"><div class=\"sk-label-container\"><div class=\"sk-label sk-toggleable\"><input class=\"sk-toggleable__control sk-hidden--visually\" id=\"sk-estimator-id-2\" type=\"checkbox\" ><label for=\"sk-estimator-id-2\" class=\"sk-toggleable__label sk-toggleable__label-arrow\">estimator: RandomForestRegressor</label><div class=\"sk-toggleable__content\"><pre>RandomForestRegressor(random_state=42)</pre></div></div></div><div class=\"sk-serial\"><div class=\"sk-item\"><div class=\"sk-estimator sk-toggleable\"><input class=\"sk-toggleable__control sk-hidden--visually\" id=\"sk-estimator-id-3\" type=\"checkbox\" ><label for=\"sk-estimator-id-3\" class=\"sk-toggleable__label sk-toggleable__label-arrow\">RandomForestRegressor</label><div class=\"sk-toggleable__content\"><pre>RandomForestRegressor(random_state=42)</pre></div></div></div></div></div></div></div></div></div></div>"
            ],
            "text/plain": [
              "GridSearchCV(cv=5, estimator=RandomForestRegressor(random_state=42),\n",
              "             param_grid=[{'max_features': [2, 4, 6, 8],\n",
              "                          'n_estimators': [3, 10, 30]},\n",
              "                         {'bootstrap': [False], 'max_features': [2, 3, 4, 6],\n",
              "                          'n_estimators': [3, 10]}],\n",
              "             return_train_score=True, scoring='neg_mean_squared_error')"
            ]
          },
          "execution_count": 39,
          "metadata": {},
          "output_type": "execute_result"
        }
      ],
      "source": [
        "# Using GridSarchCV to search for the best hyperparameters. We input what hyperparameters to try,\n",
        "# and it will then use cross-validation to evaluate all the possible combinations of values.\n",
        "\n",
        "from sklearn.model_selection import GridSearchCV\n",
        "\n",
        "param_grid = [{'n_estimators': [3, 10, 30], 'max_features': [2, 4, 6, 8]},\n",
        "              {'bootstrap': [False], 'n_estimators': [3, 10], 'max_features': [2,3,4,6]}]\n",
        "\n",
        "# prepare data\n",
        "data_prepared = preprocessing.fit_transform(X_train)\n",
        "\n",
        "# instantiate model\n",
        "forest_reg = RandomForestRegressor(random_state=42)\n",
        "\n",
        "# instantiate grid search\n",
        "grid_search = GridSearchCV(forest_reg, param_grid, cv=5,\n",
        "scoring='neg_mean_squared_error',\n",
        "return_train_score=True)\n",
        "\n",
        "# run grid search\n",
        "grid_search.fit(data_prepared, y_train)\n"
      ]
    },
    {
      "cell_type": "code",
      "execution_count": 40,
      "metadata": {
        "colab": {
          "base_uri": "https://localhost:8080/"
        },
        "id": "Gigr8lY0HBsV",
        "outputId": "006029c2-a11e-4c0e-91de-95d91c7218d4"
      },
      "outputs": [
        {
          "data": {
            "text/plain": [
              "{'max_features': 6, 'n_estimators': 30}"
            ]
          },
          "execution_count": 40,
          "metadata": {},
          "output_type": "execute_result"
        }
      ],
      "source": [
        "grid_search.best_params_"
      ]
    },
    {
      "cell_type": "code",
      "execution_count": 41,
      "metadata": {
        "colab": {
          "base_uri": "https://localhost:8080/",
          "height": 75
        },
        "id": "cyBXtuYWHCsj",
        "outputId": "8afa0798-5476-4111-d4af-a53647fab60c"
      },
      "outputs": [
        {
          "data": {
            "text/html": [
              "<style>#sk-container-id-2 {color: black;}#sk-container-id-2 pre{padding: 0;}#sk-container-id-2 div.sk-toggleable {background-color: white;}#sk-container-id-2 label.sk-toggleable__label {cursor: pointer;display: block;width: 100%;margin-bottom: 0;padding: 0.3em;box-sizing: border-box;text-align: center;}#sk-container-id-2 label.sk-toggleable__label-arrow:before {content: \"▸\";float: left;margin-right: 0.25em;color: #696969;}#sk-container-id-2 label.sk-toggleable__label-arrow:hover:before {color: black;}#sk-container-id-2 div.sk-estimator:hover label.sk-toggleable__label-arrow:before {color: black;}#sk-container-id-2 div.sk-toggleable__content {max-height: 0;max-width: 0;overflow: hidden;text-align: left;background-color: #f0f8ff;}#sk-container-id-2 div.sk-toggleable__content pre {margin: 0.2em;color: black;border-radius: 0.25em;background-color: #f0f8ff;}#sk-container-id-2 input.sk-toggleable__control:checked~div.sk-toggleable__content {max-height: 200px;max-width: 100%;overflow: auto;}#sk-container-id-2 input.sk-toggleable__control:checked~label.sk-toggleable__label-arrow:before {content: \"▾\";}#sk-container-id-2 div.sk-estimator input.sk-toggleable__control:checked~label.sk-toggleable__label {background-color: #d4ebff;}#sk-container-id-2 div.sk-label input.sk-toggleable__control:checked~label.sk-toggleable__label {background-color: #d4ebff;}#sk-container-id-2 input.sk-hidden--visually {border: 0;clip: rect(1px 1px 1px 1px);clip: rect(1px, 1px, 1px, 1px);height: 1px;margin: -1px;overflow: hidden;padding: 0;position: absolute;width: 1px;}#sk-container-id-2 div.sk-estimator {font-family: monospace;background-color: #f0f8ff;border: 1px dotted black;border-radius: 0.25em;box-sizing: border-box;margin-bottom: 0.5em;}#sk-container-id-2 div.sk-estimator:hover {background-color: #d4ebff;}#sk-container-id-2 div.sk-parallel-item::after {content: \"\";width: 100%;border-bottom: 1px solid gray;flex-grow: 1;}#sk-container-id-2 div.sk-label:hover label.sk-toggleable__label {background-color: #d4ebff;}#sk-container-id-2 div.sk-serial::before {content: \"\";position: absolute;border-left: 1px solid gray;box-sizing: border-box;top: 0;bottom: 0;left: 50%;z-index: 0;}#sk-container-id-2 div.sk-serial {display: flex;flex-direction: column;align-items: center;background-color: white;padding-right: 0.2em;padding-left: 0.2em;position: relative;}#sk-container-id-2 div.sk-item {position: relative;z-index: 1;}#sk-container-id-2 div.sk-parallel {display: flex;align-items: stretch;justify-content: center;background-color: white;position: relative;}#sk-container-id-2 div.sk-item::before, #sk-container-id-2 div.sk-parallel-item::before {content: \"\";position: absolute;border-left: 1px solid gray;box-sizing: border-box;top: 0;bottom: 0;left: 50%;z-index: -1;}#sk-container-id-2 div.sk-parallel-item {display: flex;flex-direction: column;z-index: 1;position: relative;background-color: white;}#sk-container-id-2 div.sk-parallel-item:first-child::after {align-self: flex-end;width: 50%;}#sk-container-id-2 div.sk-parallel-item:last-child::after {align-self: flex-start;width: 50%;}#sk-container-id-2 div.sk-parallel-item:only-child::after {width: 0;}#sk-container-id-2 div.sk-dashed-wrapped {border: 1px dashed gray;margin: 0 0.4em 0.5em 0.4em;box-sizing: border-box;padding-bottom: 0.4em;background-color: white;}#sk-container-id-2 div.sk-label label {font-family: monospace;font-weight: bold;display: inline-block;line-height: 1.2em;}#sk-container-id-2 div.sk-label-container {text-align: center;}#sk-container-id-2 div.sk-container {/* jupyter's `normalize.less` sets `[hidden] { display: none; }` but bootstrap.min.css set `[hidden] { display: none !important; }` so we also need the `!important` here to be able to override the default hidden behavior on the sphinx rendered scikit-learn.org. See: https://github.com/scikit-learn/scikit-learn/issues/21755 */display: inline-block !important;position: relative;}#sk-container-id-2 div.sk-text-repr-fallback {display: none;}</style><div id=\"sk-container-id-2\" class=\"sk-top-container\"><div class=\"sk-text-repr-fallback\"><pre>RandomForestRegressor(max_features=6, n_estimators=30, random_state=42)</pre><b>In a Jupyter environment, please rerun this cell to show the HTML representation or trust the notebook. <br />On GitHub, the HTML representation is unable to render, please try loading this page with nbviewer.org.</b></div><div class=\"sk-container\" hidden><div class=\"sk-item\"><div class=\"sk-estimator sk-toggleable\"><input class=\"sk-toggleable__control sk-hidden--visually\" id=\"sk-estimator-id-4\" type=\"checkbox\" checked><label for=\"sk-estimator-id-4\" class=\"sk-toggleable__label sk-toggleable__label-arrow\">RandomForestRegressor</label><div class=\"sk-toggleable__content\"><pre>RandomForestRegressor(max_features=6, n_estimators=30, random_state=42)</pre></div></div></div></div></div>"
            ],
            "text/plain": [
              "RandomForestRegressor(max_features=6, n_estimators=30, random_state=42)"
            ]
          },
          "execution_count": 41,
          "metadata": {},
          "output_type": "execute_result"
        }
      ],
      "source": [
        "grid_search.best_estimator_"
      ]
    },
    {
      "cell_type": "code",
      "execution_count": 42,
      "metadata": {
        "colab": {
          "base_uri": "https://localhost:8080/"
        },
        "id": "d5UJXz51HJL7",
        "outputId": "ce4f8f44-25e6-4d75-ba05-e856d7986668"
      },
      "outputs": [
        {
          "name": "stdout",
          "output_type": "stream",
          "text": [
            "4.956051900845279 {'max_features': 2, 'n_estimators': 3}\n",
            "4.622749555662829 {'max_features': 2, 'n_estimators': 10}\n",
            "4.447901741265255 {'max_features': 2, 'n_estimators': 30}\n",
            "4.828312016079219 {'max_features': 4, 'n_estimators': 3}\n",
            "4.46930403573766 {'max_features': 4, 'n_estimators': 10}\n",
            "4.407784864976534 {'max_features': 4, 'n_estimators': 30}\n",
            "4.8386672811168285 {'max_features': 6, 'n_estimators': 3}\n",
            "4.439153860822914 {'max_features': 6, 'n_estimators': 10}\n",
            "4.373661983696398 {'max_features': 6, 'n_estimators': 30}\n",
            "4.8649108927190445 {'max_features': 8, 'n_estimators': 3}\n",
            "4.528151523156381 {'max_features': 8, 'n_estimators': 10}\n",
            "4.415175005506643 {'max_features': 8, 'n_estimators': 30}\n",
            "4.847114487698961 {'bootstrap': False, 'max_features': 2, 'n_estimators': 3}\n",
            "4.774053894752573 {'bootstrap': False, 'max_features': 2, 'n_estimators': 10}\n",
            "4.956216524906605 {'bootstrap': False, 'max_features': 3, 'n_estimators': 3}\n",
            "4.810211704231188 {'bootstrap': False, 'max_features': 3, 'n_estimators': 10}\n",
            "4.830553792615749 {'bootstrap': False, 'max_features': 4, 'n_estimators': 3}\n",
            "4.8252867782284365 {'bootstrap': False, 'max_features': 4, 'n_estimators': 10}\n",
            "5.000173715720037 {'bootstrap': False, 'max_features': 6, 'n_estimators': 3}\n",
            "4.8950961640505115 {'bootstrap': False, 'max_features': 6, 'n_estimators': 10}\n"
          ]
        }
      ],
      "source": [
        "cvres = grid_search.cv_results_\n",
        "for mean_score, params in zip(cvres[\"mean_test_score\"], cvres[\"params\"]):\n",
        "    print(np.sqrt(-mean_score), params)"
      ]
    },
    {
      "cell_type": "code",
      "execution_count": 43,
      "metadata": {
        "colab": {
          "base_uri": "https://localhost:8080/"
        },
        "id": "vEkEmw9LFmyk",
        "outputId": "ad405504-d4a2-4fd2-be73-04bc997caad2"
      },
      "outputs": [
        {
          "data": {
            "text/plain": [
              "array([0.03711858, 0.18949109, 0.1966822 , 0.13535622, 0.30444256,\n",
              "       0.07910684, 0.05780251])"
            ]
          },
          "execution_count": 43,
          "metadata": {},
          "output_type": "execute_result"
        }
      ],
      "source": [
        "# looking at the feature importance scores\n",
        "feature_importances = grid_search.best_estimator_.feature_importances_\n",
        "feature_importances"
      ]
    },
    {
      "cell_type": "code",
      "execution_count": 44,
      "metadata": {
        "colab": {
          "base_uri": "https://localhost:8080/"
        },
        "id": "OdSLpxMZLd7f",
        "outputId": "d8ed25d1-5e75-477a-ce3e-851e6a307750"
      },
      "outputs": [
        {
          "data": {
            "text/plain": [
              "[(0.30444255540922166, 'absences_G3'),\n",
              " (0.19668220049424998, 'absences_G1'),\n",
              " (0.18949109280390425, 'G2'),\n",
              " (0.13535622227034377, 'absences_G2'),\n",
              " (0.07910683982194922, 'age'),\n",
              " (0.05780250855602406, 'failures'),\n",
              " (0.03711858064430713, 'G1')]"
            ]
          },
          "execution_count": 44,
          "metadata": {},
          "output_type": "execute_result"
        }
      ],
      "source": [
        "# displays the feature importance scores next to their attribute names\n",
        "cat_encoder = preprocessing.named_transformers_[\"cat\"]\n",
        "attributes = num_attributes + cat_attributes\n",
        "sorted(zip(feature_importances, attributes), reverse=True)"
      ]
    },
    {
      "cell_type": "code",
      "execution_count": 45,
      "metadata": {
        "id": "RdYPkbrUHgRp"
      },
      "outputs": [],
      "source": [
        "# Prepare test set for transformation\n",
        "X_test= X_test[['G1','G2','absences_G1','absences_G2','absences_G3','age','failures','studytime','romantic','internet']]"
      ]
    },
    {
      "cell_type": "markdown",
      "metadata": {},
      "source": [
        "## Correctly tranform testing data using data preparation pipline \n",
        "## Select final model and measure its performance on test set"
      ]
    },
    {
      "cell_type": "code",
      "execution_count": 55,
      "metadata": {
        "colab": {
          "base_uri": "https://localhost:8080/"
        },
        "id": "PDCkK5X4Fo0q",
        "outputId": "068cce79-28d0-4c5f-ca36-bf8481997e95"
      },
      "outputs": [
        {
          "data": {
            "text/plain": [
              "array([ 7.86666667, 12.66666667, 10.99722222, 11.53333333, 10.13333333,\n",
              "        4.75444444, 11.24925565, 10.13333333,  4.75444444, 11.5       ,\n",
              "       15.23531746, 13.08333333, 11.69746032, 10.1       , 10.9       ,\n",
              "       11.5       , 12.75666667, 10.96666667, 12.38333333, 11.43888889,\n",
              "       11.14305556, 14.54555556, 12.75666667,  8.8       , 11.48801587,\n",
              "       12.52111111,  8.        , 15.23531746, 12.69666667, 13.44      ,\n",
              "       12.6       , 10.11333333, 12.38333333, 10.55571429, 12.69666667,\n",
              "       10.2       ,  1.        ,  9.58222222, 10.12380952,  9.84166667,\n",
              "        6.8925    , 15.23531746, 12.51481481, 10.19055556, 10.12380952,\n",
              "       12.05555556,  8.18333333, 10.4       , 12.6       , 12.07492063,\n",
              "       10.96222222, 15.23531746, 15.23531746, 11.96730159, 10.525     ,\n",
              "        9.01666667, 11.36686508, 12.05555556, 14.22970298, 15.23531746,\n",
              "       13.46666667, 14.12222222,  9.11      , 10.55571429,  8.71333333,\n",
              "        3.62222222,  9.47222222, 11.89285714, 14.76666667, 10.55555556,\n",
              "       11.37888889, 11.24925565, 11.4       , 13.09333333,  3.62222222,\n",
              "       11.68333333, 11.37888889, 12.41777778,  6.775     ])"
            ]
          },
          "execution_count": 55,
          "metadata": {},
          "output_type": "execute_result"
        }
      ],
      "source": [
        "# set final model\n",
        "final_model = grid_search.best_estimator_\n",
        "\n",
        "# transform test set features \n",
        "X_test_prepared = preprocessing.transform(X_test)\n",
        "final_predictions = final_model.predict(X_test_prepared)\n",
        "\n",
        "final_predictions"
      ]
    },
    {
      "cell_type": "code",
      "execution_count": 56,
      "metadata": {},
      "outputs": [
        {
          "name": "stdout",
          "output_type": "stream",
          "text": [
            "4.464359231169406\n"
          ]
        }
      ],
      "source": [
        "final_rmse = mean_squared_error(y_test, final_predictions, squared=False)\n",
        "print(final_rmse) "
      ]
    },
    {
      "cell_type": "markdown",
      "metadata": {},
      "source": [
        "### Present Your Solution"
      ]
    },
    {
      "cell_type": "markdown",
      "metadata": {},
      "source": [
        "In conclusion, and according to the important features generated by the grid search, it seems that our G3 absences group is the number one predictor of the outcome of a student's G3 grade performance. A Random Forest Regressor was used instead of a Decision Tree Regressor even though the Decision Tree regressor RMSE score was slightly better because a Random Forest is more likely to reduce the risk of overfitting the data. These findings are very relevant to the importance of the purpose of this project, which was to identify what feature or demographic of the student could most accurately predict a student's performance at the school.  Now that we are aware that absences are what impact a student's final grade performance the most, the school can take action to try and reduce as many absences as possible. This would make sense, as the more a student misses school, the more likely they will not understand and learn necessary information related to course subjects, and therefore perform poorly on graded items.  For example, the university could have instructors keep track of attendance if they are not already, and implement a more strict policy on attendance in order to increase those numbers schoolwide. "
      ]
    },
    {
      "cell_type": "markdown",
      "metadata": {},
      "source": [
        "### Evaluation of what worked and what didn't:"
      ]
    },
    {
      "cell_type": "markdown",
      "metadata": {},
      "source": [
        "Some things did not go as planned during this project - one of my biggest challenges was with the Custom Transformer and figuring out the code to correctly perform the rubric items. I also acknowledge at the end of my project that my feature_importances do not include the sum_absences column, and they also include the G1 and G2 columns even though the data was run through the numerical and categorical pipelines with the custom transformer set to true.  However, I believe it can be concluded that this does not significantly impact these findings because it can be inferred that absences would still be the most important feature, especially all of them combined. In continuing this project, I will further examine why these columns did not populate within my exaination of the feature importances.  I will also plan to investigate the other variables that were not included within this project, as they may hold some importance to the performance of students as well, in order to contribute to the overall success of this educational institution.\n"
      ]
    }
  ],
  "metadata": {
    "colab": {
      "provenance": []
    },
    "kernelspec": {
      "display_name": "Python 3",
      "language": "python",
      "name": "python3"
    },
    "language_info": {
      "codemirror_mode": {
        "name": "ipython",
        "version": 3
      },
      "file_extension": ".py",
      "mimetype": "text/x-python",
      "name": "python",
      "nbconvert_exporter": "python",
      "pygments_lexer": "ipython3",
      "version": "3.11.4"
    }
  },
  "nbformat": 4,
  "nbformat_minor": 0
}
