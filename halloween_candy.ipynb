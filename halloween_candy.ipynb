{
 "cells": [
  {
   "attachments": {},
   "cell_type": "markdown",
   "metadata": {},
   "source": [
    "The point of this assignment is to clean and wrangle data using Numpy and Pandas from a survey of Halloween candy to prepare it for a machine learning project. \n",
    "\n",
    "## Data Set\n",
    "\n",
    "The data set that we will be using is the 2017 Halloween Candy Hierarchy data set as discussed in this [boingboing](https://boingboing.net/2017/10/30/the-2017-halloween-candy-hiera.html) article.  You can also read more about the data in the [Science Creative Quarterly](https://www.scq.ubc.ca/so-much-candy-data-seriously/).\n",
    "\n",
    "The following are the rating instructions from the survey:  \n",
    "\n",
    "> Basically, consider that feeling you get when you receive this item in your Halloween haul. Does it make you really happy (JOY)? Or is it something that you automatically place in the junk pile (DESPAIR)? MEH for indifference, and you can leave blank if you have no idea what the item is.\n",
    "\n",
    "Note that the original data set has been slightly altered from its original state, and if you wanted to perform any analysis for future projects, you would need to download the data directly from the links above.\n",
    "\n",
    "\n",
    "## Note\n",
    "\n",
    "The end goal for this project is to clean the data so that we could then create a machine learning model. We want to see if we are able to predict a person's gender based purely on their candy preferences. Although, you will not be creating a model for this assignment, only cleaning the data. The results of the models that I used after cleaning the data are provided at the end of this notebook.\n",
    "\n",
    "## Initial Import & Exploration"
   ]
  },
  {
   "cell_type": "code",
   "execution_count": 2,
   "metadata": {},
   "outputs": [],
   "source": [
    "# initial imports\n",
    "import pandas as pd\n",
    "import numpy as np\n",
    "\n",
    "# Do not change this option; This allows the CodeGrade auto grading to function correctly\n",
    "pd.set_option('display.max_columns', 20)"
   ]
  },
  {
   "attachments": {},
   "cell_type": "markdown",
   "metadata": {},
   "source": [
    "I'll start by importing our data and creating a DataFrame called `candy`.  We need to include `encoding='iso-8859-1'` during the import because there are special characters in the data that Pandas doesn't recognize. This happens a lot when attempting to import data where the public is able to input answers, especially if there are foreign language characters included. The normal encoding for Pandas is `utf-8`, so changing the encoding allows Pandas to recognize those special characters. \n"
   ]
  },
  {
   "cell_type": "code",
   "execution_count": 3,
   "metadata": {},
   "outputs": [],
   "source": [
    "# read_csv with iso-8859-1 encoding\n",
    "candy_full = pd.read_csv('candy.csv', encoding='iso-8859-1')\n",
    "\n",
    "# copy to new DF so that we can have a copy of the original import if needed\n",
    "candy = candy_full.copy()"
   ]
  },
  {
   "attachments": {},
   "cell_type": "markdown",
   "metadata": {},
   "source": [
    "Take a brief look at the data by using `head()`."
   ]
  },
  {
   "cell_type": "code",
   "execution_count": 4,
   "metadata": {},
   "outputs": [
    {
     "data": {
      "text/html": [
       "<div>\n",
       "<style scoped>\n",
       "    .dataframe tbody tr th:only-of-type {\n",
       "        vertical-align: middle;\n",
       "    }\n",
       "\n",
       "    .dataframe tbody tr th {\n",
       "        vertical-align: top;\n",
       "    }\n",
       "\n",
       "    .dataframe thead th {\n",
       "        text-align: right;\n",
       "    }\n",
       "</style>\n",
       "<table border=\"1\" class=\"dataframe\">\n",
       "  <thead>\n",
       "    <tr style=\"text-align: right;\">\n",
       "      <th></th>\n",
       "      <th>Internal ID</th>\n",
       "      <th>Q1: GOING OUT?</th>\n",
       "      <th>Q2: GENDER</th>\n",
       "      <th>Q3: AGE</th>\n",
       "      <th>Q4: COUNTRY</th>\n",
       "      <th>Q5: STATE, PROVINCE, COUNTY, ETC</th>\n",
       "      <th>Q6 | 100 Grand Bar</th>\n",
       "      <th>Q6 | Anonymous brown globs that come in black and orange wrappers\\t(a.k.a. Mary Janes)</th>\n",
       "      <th>Q6 | Any full-sized candy bar</th>\n",
       "      <th>Q6 | Black Jacks</th>\n",
       "      <th>...</th>\n",
       "      <th>Q8: DESPAIR OTHER</th>\n",
       "      <th>Q9: OTHER COMMENTS</th>\n",
       "      <th>Q10: DRESS</th>\n",
       "      <th>Unnamed: 113</th>\n",
       "      <th>Q11: DAY</th>\n",
       "      <th>Q12: MEDIA [Daily Dish]</th>\n",
       "      <th>Q12: MEDIA [Science]</th>\n",
       "      <th>Q12: MEDIA [ESPN]</th>\n",
       "      <th>Q12: MEDIA [Yahoo]</th>\n",
       "      <th>Click Coordinates (x, y)</th>\n",
       "    </tr>\n",
       "  </thead>\n",
       "  <tbody>\n",
       "    <tr>\n",
       "      <th>0</th>\n",
       "      <td>90258773</td>\n",
       "      <td>NaN</td>\n",
       "      <td>NaN</td>\n",
       "      <td>NaN</td>\n",
       "      <td>NaN</td>\n",
       "      <td>NaN</td>\n",
       "      <td>NaN</td>\n",
       "      <td>NaN</td>\n",
       "      <td>NaN</td>\n",
       "      <td>NaN</td>\n",
       "      <td>...</td>\n",
       "      <td>NaN</td>\n",
       "      <td>NaN</td>\n",
       "      <td>NaN</td>\n",
       "      <td>NaN</td>\n",
       "      <td>NaN</td>\n",
       "      <td>NaN</td>\n",
       "      <td>NaN</td>\n",
       "      <td>NaN</td>\n",
       "      <td>NaN</td>\n",
       "      <td>NaN</td>\n",
       "    </tr>\n",
       "    <tr>\n",
       "      <th>1</th>\n",
       "      <td>90272821</td>\n",
       "      <td>No</td>\n",
       "      <td>Male</td>\n",
       "      <td>44</td>\n",
       "      <td>USA</td>\n",
       "      <td>NM</td>\n",
       "      <td>MEH</td>\n",
       "      <td>DESPAIR</td>\n",
       "      <td>JOY</td>\n",
       "      <td>MEH</td>\n",
       "      <td>...</td>\n",
       "      <td>NaN</td>\n",
       "      <td>Bottom line is Twix is really the only candy w...</td>\n",
       "      <td>White and gold</td>\n",
       "      <td>NaN</td>\n",
       "      <td>Sunday</td>\n",
       "      <td>NaN</td>\n",
       "      <td>1.0</td>\n",
       "      <td>NaN</td>\n",
       "      <td>NaN</td>\n",
       "      <td>(84, 25)</td>\n",
       "    </tr>\n",
       "    <tr>\n",
       "      <th>2</th>\n",
       "      <td>90272829</td>\n",
       "      <td>NaN</td>\n",
       "      <td>Male</td>\n",
       "      <td>49</td>\n",
       "      <td>USA</td>\n",
       "      <td>Virginia</td>\n",
       "      <td>NaN</td>\n",
       "      <td>NaN</td>\n",
       "      <td>NaN</td>\n",
       "      <td>NaN</td>\n",
       "      <td>...</td>\n",
       "      <td>NaN</td>\n",
       "      <td>NaN</td>\n",
       "      <td>NaN</td>\n",
       "      <td>NaN</td>\n",
       "      <td>NaN</td>\n",
       "      <td>NaN</td>\n",
       "      <td>NaN</td>\n",
       "      <td>NaN</td>\n",
       "      <td>NaN</td>\n",
       "      <td>NaN</td>\n",
       "    </tr>\n",
       "    <tr>\n",
       "      <th>3</th>\n",
       "      <td>90272840</td>\n",
       "      <td>No</td>\n",
       "      <td>Male</td>\n",
       "      <td>40</td>\n",
       "      <td>us</td>\n",
       "      <td>or</td>\n",
       "      <td>MEH</td>\n",
       "      <td>DESPAIR</td>\n",
       "      <td>JOY</td>\n",
       "      <td>MEH</td>\n",
       "      <td>...</td>\n",
       "      <td>NaN</td>\n",
       "      <td>Raisins can go to hell</td>\n",
       "      <td>White and gold</td>\n",
       "      <td>NaN</td>\n",
       "      <td>Sunday</td>\n",
       "      <td>NaN</td>\n",
       "      <td>1.0</td>\n",
       "      <td>NaN</td>\n",
       "      <td>NaN</td>\n",
       "      <td>(75, 23)</td>\n",
       "    </tr>\n",
       "    <tr>\n",
       "      <th>4</th>\n",
       "      <td>90272841</td>\n",
       "      <td>No</td>\n",
       "      <td>Male</td>\n",
       "      <td>23</td>\n",
       "      <td>usa</td>\n",
       "      <td>exton pa</td>\n",
       "      <td>JOY</td>\n",
       "      <td>DESPAIR</td>\n",
       "      <td>JOY</td>\n",
       "      <td>DESPAIR</td>\n",
       "      <td>...</td>\n",
       "      <td>NaN</td>\n",
       "      <td>NaN</td>\n",
       "      <td>White and gold</td>\n",
       "      <td>NaN</td>\n",
       "      <td>Friday</td>\n",
       "      <td>NaN</td>\n",
       "      <td>1.0</td>\n",
       "      <td>NaN</td>\n",
       "      <td>NaN</td>\n",
       "      <td>(70, 10)</td>\n",
       "    </tr>\n",
       "  </tbody>\n",
       "</table>\n",
       "<p>5 rows × 120 columns</p>\n",
       "</div>"
      ],
      "text/plain": [
       "   Internal ID Q1: GOING OUT? Q2: GENDER Q3: AGE Q4: COUNTRY  \\\n",
       "0     90258773            NaN        NaN     NaN         NaN   \n",
       "1     90272821             No       Male      44        USA    \n",
       "2     90272829            NaN       Male      49         USA   \n",
       "3     90272840             No       Male      40          us   \n",
       "4     90272841             No       Male      23         usa   \n",
       "\n",
       "  Q5: STATE, PROVINCE, COUNTY, ETC Q6 | 100 Grand Bar  \\\n",
       "0                              NaN                NaN   \n",
       "1                               NM                MEH   \n",
       "2                         Virginia                NaN   \n",
       "3                               or                MEH   \n",
       "4                         exton pa                JOY   \n",
       "\n",
       "  Q6 | Anonymous brown globs that come in black and orange wrappers\\t(a.k.a. Mary Janes)  \\\n",
       "0                                                NaN                                       \n",
       "1                                            DESPAIR                                       \n",
       "2                                                NaN                                       \n",
       "3                                            DESPAIR                                       \n",
       "4                                            DESPAIR                                       \n",
       "\n",
       "  Q6 | Any full-sized candy bar Q6 | Black Jacks  ... Q8: DESPAIR OTHER  \\\n",
       "0                           NaN              NaN  ...               NaN   \n",
       "1                           JOY              MEH  ...               NaN   \n",
       "2                           NaN              NaN  ...               NaN   \n",
       "3                           JOY              MEH  ...               NaN   \n",
       "4                           JOY          DESPAIR  ...               NaN   \n",
       "\n",
       "                                  Q9: OTHER COMMENTS      Q10: DRESS  \\\n",
       "0                                                NaN             NaN   \n",
       "1  Bottom line is Twix is really the only candy w...  White and gold   \n",
       "2                                                NaN             NaN   \n",
       "3                             Raisins can go to hell  White and gold   \n",
       "4                                                NaN  White and gold   \n",
       "\n",
       "  Unnamed: 113 Q11: DAY Q12: MEDIA [Daily Dish] Q12: MEDIA [Science]  \\\n",
       "0          NaN      NaN                     NaN                  NaN   \n",
       "1          NaN   Sunday                     NaN                  1.0   \n",
       "2          NaN      NaN                     NaN                  NaN   \n",
       "3          NaN   Sunday                     NaN                  1.0   \n",
       "4          NaN   Friday                     NaN                  1.0   \n",
       "\n",
       "  Q12: MEDIA [ESPN] Q12: MEDIA [Yahoo] Click Coordinates (x, y)  \n",
       "0               NaN                NaN                      NaN  \n",
       "1               NaN                NaN                 (84, 25)  \n",
       "2               NaN                NaN                      NaN  \n",
       "3               NaN                NaN                 (75, 23)  \n",
       "4               NaN                NaN                 (70, 10)  \n",
       "\n",
       "[5 rows x 120 columns]"
      ]
     },
     "execution_count": 4,
     "metadata": {},
     "output_type": "execute_result"
    }
   ],
   "source": [
    "# first five rows\n",
    "candy.head()"
   ]
  },
  {
   "attachments": {},
   "cell_type": "markdown",
   "metadata": {},
   "source": [
    "View information about the DataFrame."
   ]
  },
  {
   "cell_type": "code",
   "execution_count": 5,
   "metadata": {},
   "outputs": [
    {
     "name": "stdout",
     "output_type": "stream",
     "text": [
      "<class 'pandas.core.frame.DataFrame'>\n",
      "RangeIndex: 2479 entries, 0 to 2478\n",
      "Columns: 120 entries, Internal ID to Click Coordinates (x, y)\n",
      "dtypes: float64(4), int64(1), object(115)\n",
      "memory usage: 2.3+ MB\n"
     ]
    }
   ],
   "source": [
    "# check info about the DataFrame\n",
    "candy.info()"
   ]
  },
  {
   "attachments": {},
   "cell_type": "markdown",
   "metadata": {},
   "source": [
    "I can make columns display by setting the `max_cols` argument equal to the number of columns in the data set."
   ]
  },
  {
   "cell_type": "code",
   "execution_count": 6,
   "metadata": {},
   "outputs": [
    {
     "name": "stdout",
     "output_type": "stream",
     "text": [
      "<class 'pandas.core.frame.DataFrame'>\n",
      "RangeIndex: 2479 entries, 0 to 2478\n",
      "Data columns (total 120 columns):\n",
      " #    Column                                                                                 Non-Null Count  Dtype  \n",
      "---   ------                                                                                 --------------  -----  \n",
      " 0    Internal ID                                                                            2479 non-null   int64  \n",
      " 1    Q1: GOING OUT?                                                                         2368 non-null   object \n",
      " 2    Q2: GENDER                                                                             2437 non-null   object \n",
      " 3    Q3: AGE                                                                                2394 non-null   object \n",
      " 4    Q4: COUNTRY                                                                            2414 non-null   object \n",
      " 5    Q5: STATE, PROVINCE, COUNTY, ETC                                                       2377 non-null   object \n",
      " 6    Q6 | 100 Grand Bar                                                                     1728 non-null   object \n",
      " 7    Q6 | Anonymous brown globs that come in black and orange wrappers\t(a.k.a. Mary Janes)  1741 non-null   object \n",
      " 8    Q6 | Any full-sized candy bar                                                          1803 non-null   object \n",
      " 9    Q6 | Black Jacks                                                                       1517 non-null   object \n",
      " 10   Q6 | Bonkers (the candy)                                                               1482 non-null   object \n",
      " 11   Q6 | Bonkers (the board game)                                                          1469 non-null   object \n",
      " 12   Q6 | Bottle Caps                                                                       1709 non-null   object \n",
      " 13   Q6 | Box'o'Raisins                                                                     1787 non-null   object \n",
      " 14   Q6 | Broken glow stick                                                                 1767 non-null   object \n",
      " 15   Q6 | Butterfinger                                                                      1793 non-null   object \n",
      " 16   Q6 | Cadbury Creme Eggs                                                                1792 non-null   object \n",
      " 17   Q6 | Candy Corn                                                                        1796 non-null   object \n",
      " 18   Q6 | Candy that is clearly just the stuff given out for free at restaurants            1784 non-null   object \n",
      " 19   Q6 | Caramellos                                                                        1723 non-null   object \n",
      " 20   Q6 | Cash, or other forms of legal tender                                              1795 non-null   object \n",
      " 21   Q6 | Chardonnay                                                                        1732 non-null   object \n",
      " 22   Q6 | Chick-o-Sticks (we donÕt know what that is)                                       1528 non-null   object \n",
      " 23   Q6 | Chiclets                                                                          1764 non-null   object \n",
      " 24   Q6 | Coffee Crisp                                                                      1621 non-null   object \n",
      " 25   Q6 | Creepy Religious comics/Chick Tracts                                              1771 non-null   object \n",
      " 26   Q6 | Dental paraphenalia                                                               1783 non-null   object \n",
      " 27   Q6 | Dots                                                                              1746 non-null   object \n",
      " 28   Q6 | Dove Bars                                                                         1773 non-null   object \n",
      " 29   Q6 | Fuzzy Peaches                                                                     1652 non-null   object \n",
      " 30   Q6 | Generic Brand Acetaminophen                                                       1744 non-null   object \n",
      " 31   Q6 | Glow sticks                                                                       1778 non-null   object \n",
      " 32   Q6 | Goo Goo Clusters                                                                  1595 non-null   object \n",
      " 33   Q6 | Good N' Plenty                                                                    1741 non-null   object \n",
      " 34   Q6 | Gum from baseball cards                                                           1759 non-null   object \n",
      " 35   Q6 | Gummy Bears straight up                                                           1778 non-null   object \n",
      " 36   Q6 | Hard Candy                                                                        1780 non-null   object \n",
      " 37   Q6 | Healthy Fruit                                                                     1781 non-null   object \n",
      " 38   Q6 | Heath Bar                                                                         1763 non-null   object \n",
      " 39   Q6 | Hershey's Dark Chocolate                                                          1802 non-null   object \n",
      " 40   Q6 | HersheyÕs Milk Chocolate                                                          1803 non-null   object \n",
      " 41   Q6 | Hershey's Kisses                                                                  1797 non-null   object \n",
      " 42   Q6 | Hugs (actual physical hugs)                                                       1762 non-null   object \n",
      " 43   Q6 | Jolly Rancher (bad flavor)                                                        1781 non-null   object \n",
      " 44   Q6 | Jolly Ranchers (good flavor)                                                      1780 non-null   object \n",
      " 45   Q6 | JoyJoy (Mit Iodine!)                                                              1449 non-null   object \n",
      " 46   Q6 | Junior Mints                                                                      1777 non-null   object \n",
      " 47   Q6 | Senior Mints                                                                      1532 non-null   object \n",
      " 48   Q6 | Kale smoothie                                                                     1731 non-null   object \n",
      " 49   Q6 | Kinder Happy Hippo                                                                1528 non-null   object \n",
      " 50   Q6 | Kit Kat                                                                           1801 non-null   object \n",
      " 51   Q6 | LaffyTaffy                                                                        1739 non-null   object \n",
      " 52   Q6 | LemonHeads                                                                        1745 non-null   object \n",
      " 53   Q6 | Licorice (not black)                                                              1789 non-null   object \n",
      " 54   Q6 | Licorice (yes black)                                                              1790 non-null   object \n",
      " 55   Q6 | Lindt Truffle                                                                     1757 non-null   object \n",
      " 56   Q6 | Lollipops                                                                         1784 non-null   object \n",
      " 57   Q6 | Mars                                                                              1750 non-null   object \n",
      " 58   Q6 | Maynards                                                                          1450 non-null   object \n",
      " 59   Q6 | Mike and Ike                                                                      1746 non-null   object \n",
      " 60   Q6 | Milk Duds                                                                         1782 non-null   object \n",
      " 61   Q6 | Milky Way                                                                         1787 non-null   object \n",
      " 62   Q6 | Regular M&Ms                                                                      1800 non-null   object \n",
      " 63   Q6 | Peanut M&MÕs                                                                      1804 non-null   object \n",
      " 64   Q6 | Blue M&M's                                                                        1748 non-null   object \n",
      " 65   Q6 | Red M&M's                                                                         1746 non-null   object \n",
      " 66   Q6 | Green Party M&M's                                                                 1711 non-null   object \n",
      " 67   Q6 | Independent M&M's                                                                 1662 non-null   object \n",
      " 68   Q6 | Abstained from M&M'ing.                                                           1532 non-null   object \n",
      " 69   Q6 | Minibags of chips                                                                 1751 non-null   object \n",
      " 70   Q6 | Mint Kisses                                                                       1699 non-null   object \n",
      " 71   Q6 | Mint Juleps                                                                       1664 non-null   object \n",
      " 72   Q6 | Mr. Goodbar                                                                       1735 non-null   object \n",
      " 73   Q6 | Necco Wafers                                                                      1731 non-null   object \n",
      " 74   Q6 | Nerds                                                                             1752 non-null   object \n",
      " 75   Q6 | Nestle Crunch                                                                     1777 non-null   object \n",
      " 76   Q6 | Now'n'Laters                                                                      1657 non-null   object \n",
      " 77   Q6 | Peeps                                                                             1765 non-null   object \n",
      " 78   Q6 | Pencils                                                                           1766 non-null   object \n",
      " 79   Q6 | Pixy Stix                                                                         1753 non-null   object \n",
      " 80   Q6 | Real Housewives of Orange County Season 9 Blue-Ray                                1722 non-null   object \n",
      " 81   Q6 | ReeseÕs Peanut Butter Cups                                                        1796 non-null   object \n",
      " 82   Q6 | Reese's Pieces                                                                    1784 non-null   object \n",
      " 83   Q6 | Reggie Jackson Bar                                                                1460 non-null   object \n",
      " 84   Q6 | Rolos                                                                             1761 non-null   object \n",
      " 85   Q6 | Sandwich-sized bags filled with BooBerry Crunch                                   1699 non-null   object \n",
      " 86   Q6 | Skittles                                                                          1769 non-null   object \n",
      " 87   Q6 | Smarties (American)                                                               1750 non-null   object \n",
      " 88   Q6 | Smarties (Commonwealth)                                                           1573 non-null   object \n",
      " 89   Q6 | Snickers                                                                          1785 non-null   object \n",
      " 90   Q6 | Sourpatch Kids (i.e. abominations of nature)                                      1737 non-null   object \n",
      " 91   Q6 | Spotted Dick                                                                      1593 non-null   object \n",
      " 92   Q6 | Starburst                                                                         1782 non-null   object \n",
      " 93   Q6 | Sweet Tarts                                                                       1767 non-null   object \n",
      " 94   Q6 | Swedish Fish                                                                      1760 non-null   object \n",
      " 95   Q6 | Sweetums (a friend to diabetes)                                                   1472 non-null   object \n",
      " 96   Q6 | Take 5                                                                            1557 non-null   object \n",
      " 97   Q6 | Tic Tacs                                                                          1761 non-null   object \n",
      " 98   Q6 | Those odd marshmallow circus peanut things                                        1739 non-null   object \n",
      " 99   Q6 | Three Musketeers                                                                  1767 non-null   object \n",
      " 100  Q6 | Tolberone something or other                                                      1769 non-null   object \n",
      " 101  Q6 | Trail Mix                                                                         1767 non-null   object \n",
      " 102  Q6 | Twix                                                                              1785 non-null   object \n",
      " 103  Q6 | Vials of pure high fructose corn syrup, for main-lining into your vein            1683 non-null   object \n",
      " 104  Q6 | Vicodin                                                                           1686 non-null   object \n",
      " 105  Q6 | Whatchamacallit Bars                                                              1652 non-null   object \n",
      " 106  Q6 | White Bread                                                                       1718 non-null   object \n",
      " 107  Q6 | Whole Wheat anything                                                              1728 non-null   object \n",
      " 108  Q6 | York Peppermint Patties                                                           1770 non-null   object \n",
      " 109  Q7: JOY OTHER                                                                          917 non-null    object \n",
      " 110  Q8: DESPAIR OTHER                                                                      723 non-null    object \n",
      " 111  Q9: OTHER COMMENTS                                                                     389 non-null    object \n",
      " 112  Q10: DRESS                                                                             1730 non-null   object \n",
      " 113  Unnamed: 113                                                                           9 non-null      object \n",
      " 114  Q11: DAY                                                                               1750 non-null   object \n",
      " 115  Q12: MEDIA [Daily Dish]                                                                85 non-null     float64\n",
      " 116  Q12: MEDIA [Science]                                                                   1376 non-null   float64\n",
      " 117  Q12: MEDIA [ESPN]                                                                      99 non-null     float64\n",
      " 118  Q12: MEDIA [Yahoo]                                                                     67 non-null     float64\n",
      " 119  Click Coordinates (x, y)                                                               1619 non-null   object \n",
      "dtypes: float64(4), int64(1), object(115)\n",
      "memory usage: 2.3+ MB\n"
     ]
    }
   ],
   "source": [
    "# check info, set max_cols\n",
    "candy.info(max_cols=120)"
   ]
  },
  {
   "attachments": {},
   "cell_type": "markdown",
   "metadata": {},
   "source": [
    "I can use a simple `for` loop if only looking for the column names."
   ]
  },
  {
   "cell_type": "code",
   "execution_count": 7,
   "metadata": {},
   "outputs": [
    {
     "name": "stdout",
     "output_type": "stream",
     "text": [
      "Internal ID\n",
      "Q1: GOING OUT?\n",
      "Q2: GENDER\n",
      "Q3: AGE\n",
      "Q4: COUNTRY\n",
      "Q5: STATE, PROVINCE, COUNTY, ETC\n",
      "Q6 | 100 Grand Bar\n",
      "Q6 | Anonymous brown globs that come in black and orange wrappers\t(a.k.a. Mary Janes)\n",
      "Q6 | Any full-sized candy bar\n",
      "Q6 | Black Jacks\n",
      "Q6 | Bonkers (the candy)\n",
      "Q6 | Bonkers (the board game)\n",
      "Q6 | Bottle Caps\n",
      "Q6 | Box'o'Raisins\n",
      "Q6 | Broken glow stick\n",
      "Q6 | Butterfinger\n",
      "Q6 | Cadbury Creme Eggs\n",
      "Q6 | Candy Corn\n",
      "Q6 | Candy that is clearly just the stuff given out for free at restaurants\n",
      "Q6 | Caramellos\n",
      "Q6 | Cash, or other forms of legal tender\n",
      "Q6 | Chardonnay\n",
      "Q6 | Chick-o-Sticks (we donÕt know what that is)\n",
      "Q6 | Chiclets\n",
      "Q6 | Coffee Crisp\n",
      "Q6 | Creepy Religious comics/Chick Tracts\n",
      "Q6 | Dental paraphenalia\n",
      "Q6 | Dots\n",
      "Q6 | Dove Bars\n",
      "Q6 | Fuzzy Peaches\n",
      "Q6 | Generic Brand Acetaminophen\n",
      "Q6 | Glow sticks\n",
      "Q6 | Goo Goo Clusters\n",
      "Q6 | Good N' Plenty\n",
      "Q6 | Gum from baseball cards\n",
      "Q6 | Gummy Bears straight up\n",
      "Q6 | Hard Candy\n",
      "Q6 | Healthy Fruit\n",
      "Q6 | Heath Bar\n",
      "Q6 | Hershey's Dark Chocolate\n",
      "Q6 | HersheyÕs Milk Chocolate\n",
      "Q6 | Hershey's Kisses\n",
      "Q6 | Hugs (actual physical hugs)\n",
      "Q6 | Jolly Rancher (bad flavor)\n",
      "Q6 | Jolly Ranchers (good flavor)\n",
      "Q6 | JoyJoy (Mit Iodine!)\n",
      "Q6 | Junior Mints\n",
      "Q6 | Senior Mints\n",
      "Q6 | Kale smoothie\n",
      "Q6 | Kinder Happy Hippo\n",
      "Q6 | Kit Kat\n",
      "Q6 | LaffyTaffy\n",
      "Q6 | LemonHeads\n",
      "Q6 | Licorice (not black)\n",
      "Q6 | Licorice (yes black)\n",
      "Q6 | Lindt Truffle\n",
      "Q6 | Lollipops\n",
      "Q6 | Mars\n",
      "Q6 | Maynards\n",
      "Q6 | Mike and Ike\n",
      "Q6 | Milk Duds\n",
      "Q6 | Milky Way\n",
      "Q6 | Regular M&Ms\n",
      "Q6 | Peanut M&MÕs\n",
      "Q6 | Blue M&M's\n",
      "Q6 | Red M&M's\n",
      "Q6 | Green Party M&M's\n",
      "Q6 | Independent M&M's\n",
      "Q6 | Abstained from M&M'ing.\n",
      "Q6 | Minibags of chips\n",
      "Q6 | Mint Kisses\n",
      "Q6 | Mint Juleps\n",
      "Q6 | Mr. Goodbar\n",
      "Q6 | Necco Wafers\n",
      "Q6 | Nerds\n",
      "Q6 | Nestle Crunch\n",
      "Q6 | Now'n'Laters\n",
      "Q6 | Peeps\n",
      "Q6 | Pencils\n",
      "Q6 | Pixy Stix\n",
      "Q6 | Real Housewives of Orange County Season 9 Blue-Ray\n",
      "Q6 | ReeseÕs Peanut Butter Cups\n",
      "Q6 | Reese's Pieces\n",
      "Q6 | Reggie Jackson Bar\n",
      "Q6 | Rolos\n",
      "Q6 | Sandwich-sized bags filled with BooBerry Crunch\n",
      "Q6 | Skittles\n",
      "Q6 | Smarties (American)\n",
      "Q6 | Smarties (Commonwealth)\n",
      "Q6 | Snickers\n",
      "Q6 | Sourpatch Kids (i.e. abominations of nature)\n",
      "Q6 | Spotted Dick\n",
      "Q6 | Starburst\n",
      "Q6 | Sweet Tarts\n",
      "Q6 | Swedish Fish\n",
      "Q6 | Sweetums (a friend to diabetes)\n",
      "Q6 | Take 5\n",
      "Q6 | Tic Tacs\n",
      "Q6 | Those odd marshmallow circus peanut things\n",
      "Q6 | Three Musketeers\n",
      "Q6 | Tolberone something or other\n",
      "Q6 | Trail Mix\n",
      "Q6 | Twix\n",
      "Q6 | Vials of pure high fructose corn syrup, for main-lining into your vein\n",
      "Q6 | Vicodin\n",
      "Q6 | Whatchamacallit Bars\n",
      "Q6 | White Bread\n",
      "Q6 | Whole Wheat anything\n",
      "Q6 | York Peppermint Patties\n",
      "Q7: JOY OTHER\n",
      "Q8: DESPAIR OTHER\n",
      "Q9: OTHER COMMENTS\n",
      "Q10: DRESS\n",
      "Unnamed: 113\n",
      "Q11: DAY\n",
      "Q12: MEDIA [Daily Dish]\n",
      "Q12: MEDIA [Science]\n",
      "Q12: MEDIA [ESPN]\n",
      "Q12: MEDIA [Yahoo]\n",
      "Click Coordinates (x, y)\n"
     ]
    }
   ],
   "source": [
    "# print a list of column names\n",
    "for col in candy.columns:\n",
    "    print(col)"
   ]
  },
  {
   "attachments": {},
   "cell_type": "markdown",
   "metadata": {},
   "source": [
    "## Data Cleaning"
   ]
  },
  {
   "attachments": {},
   "cell_type": "markdown",
   "metadata": {},
   "source": [
    "Rename the column names that include the `Õ` character and replace it with an apostrophe.  "
   ]
  },
  {
   "cell_type": "code",
   "execution_count": 8,
   "metadata": {},
   "outputs": [],
   "source": [
    "candy.columns = candy.columns.str.replace(\"Õ\",\"'\")\n"
   ]
  },
  {
   "attachments": {},
   "cell_type": "markdown",
   "metadata": {},
   "source": [
    "Take a look at how many duplicated rows we have in this file, assuming a duplicate is a row that has all of the exact same values."
   ]
  },
  {
   "cell_type": "code",
   "execution_count": 9,
   "metadata": {},
   "outputs": [],
   "source": [
    "duplicated_rows = len(candy[candy.duplicated()])"
   ]
  },
  {
   "attachments": {},
   "cell_type": "markdown",
   "metadata": {},
   "source": [
    "Take a look at how many duplicates there are if we consider a duplicate is any row with the same `Internal ID` number as another."
   ]
  },
  {
   "cell_type": "code",
   "execution_count": 10,
   "metadata": {},
   "outputs": [],
   "source": [
    "InternalID_duplicates = len(candy[candy.duplicated('Internal ID')])"
   ]
  },
  {
   "attachments": {},
   "cell_type": "markdown",
   "metadata": {},
   "source": [
    "Here, I drop any duplicates from the `candy` DataFrame.  Duplicates are to be defined as any row with the same `Internal ID` as another."
   ]
  },
  {
   "cell_type": "code",
   "execution_count": 11,
   "metadata": {},
   "outputs": [],
   "source": [
    "candy = candy.drop_duplicates('Internal ID',keep='first')"
   ]
  },
  {
   "attachments": {},
   "cell_type": "markdown",
   "metadata": {},
   "source": [
    "Remove the following columns: `Internal ID`, `Q5: STATE, PROVINCE, COUNTY, ETC`, `Q7: JOY OTHER`, `Q8: DESPAIR OTHER`, `Q9: OTHER COMMENTS`, `Unnamed: 113`, `Click Coordinates (x, y)`."
   ]
  },
  {
   "cell_type": "code",
   "execution_count": 12,
   "metadata": {},
   "outputs": [],
   "source": [
    "candy = candy.drop(['Internal ID','Q5: STATE, PROVINCE, COUNTY, ETC','Q7: JOY OTHER','Q8: DESPAIR OTHER','Q9: OTHER COMMENTS','Unnamed: 113','Click Coordinates (x, y)'],axis=1)"
   ]
  },
  {
   "attachments": {},
   "cell_type": "markdown",
   "metadata": {},
   "source": [
    "Let's take a look at the `Q2: GENDER` column since this will be what we are trying to predict. Take a look at the value counts for this column."
   ]
  },
  {
   "cell_type": "code",
   "execution_count": 13,
   "metadata": {},
   "outputs": [
    {
     "data": {
      "text/plain": [
       "Q2: GENDER\n",
       "Male                  1466\n",
       "Female                 839\n",
       "I'd rather not say      83\n",
       "Other                   30\n",
       "Name: count, dtype: int64"
      ]
     },
     "execution_count": 13,
     "metadata": {},
     "output_type": "execute_result"
    }
   ],
   "source": [
    "candy.value_counts('Q2: GENDER')"
   ]
  },
  {
   "attachments": {},
   "cell_type": "markdown",
   "metadata": {},
   "source": [
    "How many missing values are in the `Q2: GENDER` column? "
   ]
  },
  {
   "cell_type": "code",
   "execution_count": 14,
   "metadata": {},
   "outputs": [
    {
     "data": {
      "text/plain": [
       "42"
      ]
     },
     "execution_count": 14,
     "metadata": {},
     "output_type": "execute_result"
    }
   ],
   "source": [
    "gender_missing_values = candy['Q2: GENDER'].isnull().sum()\n",
    "gender_missing_values"
   ]
  },
  {
   "attachments": {},
   "cell_type": "markdown",
   "metadata": {},
   "source": [
    "Remove all rows with a missing value in the `Q2: GENDER` column."
   ]
  },
  {
   "cell_type": "code",
   "execution_count": 15,
   "metadata": {},
   "outputs": [],
   "source": [
    "candy = candy.dropna(subset = ['Q2: GENDER'])"
   ]
  },
  {
   "attachments": {},
   "cell_type": "markdown",
   "metadata": {},
   "source": [
    "In order to prepare this data for binary classification, I will select only the rows that contain either `Male` or `Female` in the `Q2: GENDER` column."
   ]
  },
  {
   "cell_type": "code",
   "execution_count": 16,
   "metadata": {
    "scrolled": true
   },
   "outputs": [],
   "source": [
    "candy = candy[(candy['Q2: GENDER'] == 'Male') | (candy['Q2: GENDER'] == 'Female')]"
   ]
  },
  {
   "attachments": {},
   "cell_type": "markdown",
   "metadata": {},
   "source": [
    "Now, I'm going to work on filling some of the missing data with Pandas."
   ]
  },
  {
   "attachments": {},
   "cell_type": "markdown",
   "metadata": {},
   "source": [
    "How many missing values are in the `Q1: GOING OUT?` column?"
   ]
  },
  {
   "cell_type": "code",
   "execution_count": 17,
   "metadata": {},
   "outputs": [],
   "source": [
    "goingout_missing_vals = candy['Q1: GOING OUT?'].isnull().sum()"
   ]
  },
  {
   "attachments": {},
   "cell_type": "markdown",
   "metadata": {},
   "source": [
    "For a future analysis question, we are interested in those that we know will *definitely* go out for Halloween.  Because of this, I will fill all missing values in the `Q1: GOING OUT?` column with a `No` value."
   ]
  },
  {
   "cell_type": "code",
   "execution_count": 18,
   "metadata": {
    "code_folding": []
   },
   "outputs": [],
   "source": [
    "candy['Q1: GOING OUT?'].fillna('No',inplace = True)"
   ]
  },
  {
   "cell_type": "markdown",
   "metadata": {},
   "source": [
    "Double check that all GOING OUT column values are either a Yes or No."
   ]
  },
  {
   "cell_type": "code",
   "execution_count": 19,
   "metadata": {},
   "outputs": [
    {
     "data": {
      "text/plain": [
       "Q1: GOING OUT?\n",
       "No                2007\n",
       "Yes                298\n",
       "Name: count, dtype: int64"
      ]
     },
     "execution_count": 19,
     "metadata": {},
     "output_type": "execute_result"
    }
   ],
   "source": [
    "candy.value_counts(['Q1: GOING OUT?'])"
   ]
  },
  {
   "attachments": {},
   "cell_type": "markdown",
   "metadata": {},
   "source": [
    "Next, I will fill any missing values in the `candy` DataFrame for those columns (going from `Q6 | 100 Grand Bar` to `Q11: DAY`) with the string `NO_ANSWER`. "
   ]
  },
  {
   "cell_type": "code",
   "execution_count": 20,
   "metadata": {},
   "outputs": [],
   "source": [
    "candy.loc[:,'Q6 | 100 Grand Bar':'Q11: DAY'] = candy.loc[:,'Q6 | 100 Grand Bar':'Q11: DAY'].fillna('NO_ANSWER')\n"
   ]
  },
  {
   "attachments": {},
   "cell_type": "markdown",
   "metadata": {},
   "source": [
    "For all four `Q12: Media` columns in the `candy` DataFrame, I will fill the missing values with `0.0`."
   ]
  },
  {
   "cell_type": "code",
   "execution_count": 21,
   "metadata": {},
   "outputs": [],
   "source": [
    "candy.loc[:,'Q12: MEDIA [Daily Dish]':'Q12: MEDIA [Yahoo]'] = candy.loc[:,'Q12: MEDIA [Daily Dish]':'Q12: MEDIA [Yahoo]'].fillna(value = 0.0)\n",
    "\n"
   ]
  },
  {
   "attachments": {},
   "cell_type": "markdown",
   "metadata": {},
   "source": [
    "Now, let's look at the very messy `Q4: COUNTRY` column and see what we can do about it. First, run the code below to look at the different unique values in the data."
   ]
  },
  {
   "cell_type": "code",
   "execution_count": 22,
   "metadata": {},
   "outputs": [
    {
     "data": {
      "text/plain": [
       "array(['USA ', 'USA', 'us', 'usa', nan, 'canada', 'Canada', 'Us', 'US',\n",
       "       'Murica', 'United States', 'uk', 'United Kingdom', 'united states',\n",
       "       'Usa', 'United States ', 'United staes',\n",
       "       'United States of America', 'UAE', 'England', 'UK', 'canada ',\n",
       "       'United states', 'u.s.a.', '35', 'france',\n",
       "       'United States of America ', 'america', 'U.S.A.', 'finland',\n",
       "       'unhinged states', 'Mexico', 'Canada ', 'united states of america',\n",
       "       'US of A', 'The United States', 'North Carolina ', 'Unied States',\n",
       "       'Netherlands', 'germany', 'Europe', 'U S', 'u.s.', 'U.K. ',\n",
       "       'Costa Rica', 'The United States of America', 'unite states',\n",
       "       'U.S.', '46', 'Australia', 'Greece', 'USA? Hard to tell anymore..',\n",
       "       \"'merica\", '45', 'United State', '32', 'France', 'australia',\n",
       "       'Can', 'Canae', 'Trumpistan', 'Ireland', 'United Sates', 'Korea',\n",
       "       'California', 'Unites States', 'Japan', 'USa', 'South africa',\n",
       "       'I pretend to be from Canada, but I am really from the United States.',\n",
       "       'Usa ', 'Uk', 'Germany', 'Canada`', 'Scotland', 'UK ', 'Denmark',\n",
       "       'United Stated', 'France ', 'Switzerland', 'UD', 'Scotland ',\n",
       "       'South Korea', 'New Jersey', 'CANADA', 'Indonesia',\n",
       "       'United ststes', 'America', 'The Netherlands', 'United Statss',\n",
       "       'endland', 'murrika', 'USA! USA! USA!', 'USAA', 'united States ',\n",
       "       'soviet canuckistan', 'N. America', 'Singapore', 'USSA', 'China',\n",
       "       'Taiwan', 'Ireland ', 'hong kong', 'spain', 'Sweden', 'Hong Kong',\n",
       "       'U.S. ', 'Narnia', 'u s a', 'United Statea', 'united ststes',\n",
       "       'subscribe to dm4uz3 on youtube', 'United kingdom',\n",
       "       'USA USA USA!!!!', \"I don't know anymore\", 'Fear and Loathing'],\n",
       "      dtype=object)"
      ]
     },
     "execution_count": 22,
     "metadata": {},
     "output_type": "execute_result"
    }
   ],
   "source": [
    "# check unique values\n",
    "candy['Q4: COUNTRY'].unique()"
   ]
  },
  {
   "cell_type": "code",
   "execution_count": 23,
   "metadata": {},
   "outputs": [
    {
     "data": {
      "text/plain": [
       "115"
      ]
     },
     "execution_count": 23,
     "metadata": {},
     "output_type": "execute_result"
    }
   ],
   "source": [
    "# check the Q4: COUNTRY number of unique values\n",
    "candy['Q4: COUNTRY'].nunique()"
   ]
  },
  {
   "attachments": {},
   "cell_type": "markdown",
   "metadata": {},
   "source": [
    "We want to clean up this data to only include four areas: USA, Canada, Europe (the continent, not necessarily the European Union), and Other.\n",
    "\n",
    "- Fill in all missing values with `Other`\n",
    "- Code Australia as `Other`\n",
    "- Combine all USA entries together as `USA`\n",
    "- Combine Canadian entries as `CA`\n",
    "- Combine European entries as `EU`\n",
    "- Everything else gets coded as `Other`"
   ]
  },
  {
   "attachments": {},
   "cell_type": "markdown",
   "metadata": {},
   "source": [
    "Fill the missing values in the `Q4: COUNTRY` column with `Other`."
   ]
  },
  {
   "cell_type": "code",
   "execution_count": 24,
   "metadata": {},
   "outputs": [],
   "source": [
    "candy['Q4: COUNTRY'].fillna('Other',inplace = True)\n"
   ]
  },
  {
   "cell_type": "code",
   "execution_count": 25,
   "metadata": {},
   "outputs": [
    {
     "data": {
      "text/plain": [
       "116"
      ]
     },
     "execution_count": 25,
     "metadata": {},
     "output_type": "execute_result"
    }
   ],
   "source": [
    "# check unique values \n",
    "candy['Q4: COUNTRY'].nunique()"
   ]
  },
  {
   "cell_type": "code",
   "execution_count": 26,
   "metadata": {},
   "outputs": [
    {
     "data": {
      "text/plain": [
       "array(['USA ', 'USA', 'us', 'usa', 'Other', 'canada', 'Canada', 'Us',\n",
       "       'US', 'Murica', 'United States', 'uk', 'United Kingdom',\n",
       "       'united states', 'Usa', 'United States ', 'United staes',\n",
       "       'United States of America', 'UAE', 'England', 'UK', 'canada ',\n",
       "       'United states', 'u.s.a.', '35', 'france',\n",
       "       'United States of America ', 'america', 'U.S.A.', 'finland',\n",
       "       'unhinged states', 'Mexico', 'Canada ', 'united states of america',\n",
       "       'US of A', 'The United States', 'North Carolina ', 'Unied States',\n",
       "       'Netherlands', 'germany', 'Europe', 'U S', 'u.s.', 'U.K. ',\n",
       "       'Costa Rica', 'The United States of America', 'unite states',\n",
       "       'U.S.', '46', 'Australia', 'Greece', 'USA? Hard to tell anymore..',\n",
       "       \"'merica\", '45', 'United State', '32', 'France', 'australia',\n",
       "       'Can', 'Canae', 'Trumpistan', 'Ireland', 'United Sates', 'Korea',\n",
       "       'California', 'Unites States', 'Japan', 'USa', 'South africa',\n",
       "       'I pretend to be from Canada, but I am really from the United States.',\n",
       "       'Usa ', 'Uk', 'Germany', 'Canada`', 'Scotland', 'UK ', 'Denmark',\n",
       "       'United Stated', 'France ', 'Switzerland', 'UD', 'Scotland ',\n",
       "       'South Korea', 'New Jersey', 'CANADA', 'Indonesia',\n",
       "       'United ststes', 'America', 'The Netherlands', 'United Statss',\n",
       "       'endland', 'murrika', 'USA! USA! USA!', 'USAA', 'united States ',\n",
       "       'soviet canuckistan', 'N. America', 'Singapore', 'USSA', 'China',\n",
       "       'Taiwan', 'Ireland ', 'hong kong', 'spain', 'Sweden', 'Hong Kong',\n",
       "       'U.S. ', 'Narnia', 'u s a', 'United Statea', 'united ststes',\n",
       "       'subscribe to dm4uz3 on youtube', 'United kingdom',\n",
       "       'USA USA USA!!!!', \"I don't know anymore\", 'Fear and Loathing'],\n",
       "      dtype=object)"
      ]
     },
     "execution_count": 26,
     "metadata": {},
     "output_type": "execute_result"
    }
   ],
   "source": [
    "candy['Q4: COUNTRY'].unique()"
   ]
  },
  {
   "attachments": {},
   "cell_type": "markdown",
   "metadata": {},
   "source": [
    "Combine all Australia entries into `Other`.  "
   ]
  },
  {
   "cell_type": "code",
   "execution_count": 27,
   "metadata": {},
   "outputs": [],
   "source": [
    "#candy[candy['Q4: COUNTRY'].str.contains('australia',case=False)] = 'Other'\n",
    "candy['Q4: COUNTRY'].replace(['Australia','australia'], 'Other', inplace=True)"
   ]
  },
  {
   "cell_type": "code",
   "execution_count": 28,
   "metadata": {},
   "outputs": [
    {
     "data": {
      "text/plain": [
       "114"
      ]
     },
     "execution_count": 28,
     "metadata": {},
     "output_type": "execute_result"
    }
   ],
   "source": [
    "# check number of unique values\n",
    "candy['Q4: COUNTRY'].nunique()"
   ]
  },
  {
   "attachments": {},
   "cell_type": "markdown",
   "metadata": {},
   "source": [
    "Combine all United States entries together into `USA`.  These would include the following:\n"
   ]
  },
  {
   "cell_type": "code",
   "execution_count": 29,
   "metadata": {},
   "outputs": [],
   "source": [
    "candy['Q4: COUNTRY'].replace(['USA ', 'USA', 'us', 'usa', 'Us', 'US', 'Murica', 'United States', 'united states', 'Usa', \n",
    "'United States ', 'United staes', 'United States of America', 'United states', 'u.s.a.', 'United States of America ', 'america',\n",
    "'U.S.A.', 'unhinged states', 'united states of america', 'US of A', 'The United States', 'North Carolina ', 'Unied States', 'U S', 'u.s.', \n",
    "'The United States of America', 'unite states','U.S.', 'USA? Hard to tell anymore..', \"'merica\", 'United State', 'United Sates', 'California',\n",
    "'Unites States', 'USa', 'I pretend to be from Canada, but I am really from the United States.', 'Usa ', 'United Stated', 'New Jersey', \n",
    "'United ststes', 'America', 'United Statss', 'murrika', 'USA! USA! USA!', 'USAA', 'united States ', 'N. America', 'USSA', 'U.S. ', 'u s a', \n",
    "'United Statea', 'united ststes', 'USA USA USA!!!!'], 'USA', inplace=True)\n"
   ]
  },
  {
   "attachments": {},
   "cell_type": "markdown",
   "metadata": {},
   "source": [
    "I will combine the Canadian entries (both upper and lower case) and label them as `CA`."
   ]
  },
  {
   "cell_type": "code",
   "execution_count": 30,
   "metadata": {},
   "outputs": [],
   "source": [
    "#candy['Q4: COUNTRY'].replace('canada', 'CA')\n",
    "#candy['Q4: COUNTRY'].replace('Canada', 'CA')\n",
    "#candy['Q4: COUNTRY'].replace('canada ', 'CA')\n",
    "#candy['Q4: COUNTRY'].replace('Canada ', 'CA')\n",
    "#candy['Q4: COUNTRY'].replace('Can', 'CA')\n",
    "#candy['Q4: COUNTRY'].replace('Canae', 'CA')\n",
    "#candy['Q4: COUNTRY'].replace('Canada`', 'CA')\n",
    "#candy['Q4: COUNTRY'].replace('CANADA', 'CA')\n",
    "\n",
    "candy['Q4: COUNTRY'].replace(['canada','Canada','canada ','Canada ','Can','Canae','Canada`','CANADA'], 'CA', inplace=True)"
   ]
  },
  {
   "attachments": {},
   "cell_type": "markdown",
   "metadata": {},
   "source": [
    "Next, I will combine the European entries and label them as `EU`."
   ]
  },
  {
   "cell_type": "code",
   "execution_count": 31,
   "metadata": {},
   "outputs": [],
   "source": [
    "candy['Q4: COUNTRY'].replace(['uk', 'United Kingdom', 'England', 'UK', 'france', 'finland', 'Netherlands', 'germany', 'Europe',\n",
    "                   'U.K. ', 'Greece', 'France', 'Ireland', 'Uk', 'Germany', 'Scotland', 'UK ', 'Denmark', 'France ',\n",
    "                   'Switzerland', 'Scotland ', 'The Netherlands', 'Ireland ', 'spain', 'Sweden', 'United kingdom'], 'EU', inplace=True)\n"
   ]
  },
  {
   "attachments": {},
   "cell_type": "markdown",
   "metadata": {},
   "source": [
    "Finally, I will combine the other entries and label them as `Other`."
   ]
  },
  {
   "cell_type": "code",
   "execution_count": 32,
   "metadata": {},
   "outputs": [],
   "source": [
    "#candy.loc[~candy['Q4: COUNTRY'].isin(['USA', 'CA', 'EU'],), 'Q4: COUNTRY'] = 'Other'\n",
    "candy['Q4: COUNTRY'].replace(['UAE', '35', 'Mexico', 'Costa Rica',\n",
    "       '46', '45', '32', 'Trumpistan', 'Korea', 'Unites States', 'Japan',\n",
    "       'South africa', 'UD', 'South Korea', 'Indonesia', 'endland',\n",
    "       'soviet canuckistan', 'Singapore', 'China', 'Taiwan', 'hong kong',\n",
    "       'Hong Kong', 'Narnia', \"I don't know anymore\", 'Fear and Loathing','subscribe to dm4uz3 on youtube'], 'Other', inplace=True)"
   ]
  },
  {
   "attachments": {},
   "cell_type": "markdown",
   "metadata": {},
   "source": [
    "Double check that I only have four unique values in the `Q4: COUNTRY` column: `USA`, `Other`, `CA`, and `EU`"
   ]
  },
  {
   "cell_type": "code",
   "execution_count": 33,
   "metadata": {},
   "outputs": [
    {
     "data": {
      "text/plain": [
       "4"
      ]
     },
     "execution_count": 33,
     "metadata": {},
     "output_type": "execute_result"
    }
   ],
   "source": [
    "# check values\n",
    "candy['Q4: COUNTRY'].nunique()"
   ]
  },
  {
   "attachments": {},
   "cell_type": "markdown",
   "metadata": {},
   "source": [
    "We now want to look at the `Q3: AGE` column. Let's look at all the unique values."
   ]
  },
  {
   "cell_type": "code",
   "execution_count": 34,
   "metadata": {},
   "outputs": [
    {
     "data": {
      "text/plain": [
       "array(['44', '49', '40', '23', nan, '53', '33', '43', '56', '64', '37',\n",
       "       '48', '54', '36', '45', '25', '34', '35', '38', '58', '50', '47',\n",
       "       '16', '52', '63', '65', '41', '27', '31', '59', '61', '46', '42',\n",
       "       '62', '29', '39', '32', '28', '69', '67', '30', '22', '51', '70',\n",
       "       '24', '19', 'Old enough', '57', '60', '66', '12', 'Many', '55',\n",
       "       '72', '?', '21', '11', 'no', '9', '68', '20', '6', '10', '71',\n",
       "       '13', '26', '45-55', '7', '39.4', '74', '18', 'older than dirt',\n",
       "       '17', '15', '8', '75', '5u', 'Enough', 'Over 50', '90', '76',\n",
       "       'sixty-nine', 'ancient', '77', 'OLD', 'old', '73', '70 1/2', '14',\n",
       "       'MY NAME JEFF', '4', '59 on the day after Halloween', 'old enough',\n",
       "       'your mom', 'I can remember when Java was a cool new language',\n",
       "       '60+'], dtype=object)"
      ]
     },
     "execution_count": 34,
     "metadata": {},
     "output_type": "execute_result"
    }
   ],
   "source": [
    "# check unique age values\n",
    "candy['Q3: AGE'].unique()"
   ]
  },
  {
   "attachments": {},
   "cell_type": "markdown",
   "metadata": {},
   "source": [
    "I will put these values into the following categorical bins: `unknown`, `17 and under`, `18-25`, `26-35`, `36-45`, `46-55`, and `56+`.  Missing values should be replaced with the `unknown` category"
   ]
  },
  {
   "attachments": {},
   "cell_type": "markdown",
   "metadata": {},
   "source": [
    "First, we will replace any non-numeric value (those with text as mentioned above) with a missing value.  This will allow me to turn the other values into floats so that I can bin them."
   ]
  },
  {
   "cell_type": "code",
   "execution_count": 35,
   "metadata": {},
   "outputs": [],
   "source": [
    "# create True/False index\n",
    "age_index = candy['Q3: AGE'].str.isnumeric()\n",
    "\n",
    "# for the index, fill missing values with False\n",
    "age_index = age_index.fillna(False)\n",
    "\n",
    "# select Age column for only those False values from index and code as missing\n",
    "candy.loc[~age_index, 'Q3: AGE'] = np.nan\n",
    "\n"
   ]
  },
  {
   "cell_type": "code",
   "execution_count": 36,
   "metadata": {},
   "outputs": [],
   "source": [
    "\n",
    "#change data type to float\n",
    "candy['Q3: AGE'] = candy['Q3: AGE'].astype(float)\n",
    "\n",
    "#create bins\n",
    "candy['Q3: AGE'] = pd.cut(x=candy['Q3: AGE'], bins = [-1,17,25,35,45,55,100],\n",
    "                                            labels = ['17 and under','18-25','26-35','36-45','46-55','56+'])\n",
    "\n",
    "# add category 'unknown'\n",
    "candy['Q3: AGE'] = candy['Q3: AGE'].cat.add_categories('unknown')\n",
    "\n",
    "#reorder categories\n",
    "candy['Q3: AGE'] = candy['Q3: AGE'].cat.reorder_categories(['unknown','17 and under','18-25','26-35','36-45','46-55','56+'])\n",
    "\n",
    "# code missing values as 'unknown'\n",
    "candy['Q3: AGE'] = candy['Q3: AGE'].fillna('unknown')"
   ]
  },
  {
   "attachments": {},
   "cell_type": "markdown",
   "metadata": {},
   "source": [
    "Double check the categories"
   ]
  },
  {
   "cell_type": "code",
   "execution_count": 37,
   "metadata": {},
   "outputs": [
    {
     "data": {
      "text/plain": [
       "Index(['unknown', '17 and under', '18-25', '26-35', '36-45', '46-55', '56+'], dtype='object')"
      ]
     },
     "execution_count": 37,
     "metadata": {},
     "output_type": "execute_result"
    }
   ],
   "source": [
    "# double check categories\n",
    "candy['Q3: AGE'].cat.categories"
   ]
  },
  {
   "cell_type": "code",
   "execution_count": 38,
   "metadata": {},
   "outputs": [
    {
     "data": {
      "text/plain": [
       "Q3: AGE\n",
       "36-45           768\n",
       "46-55           525\n",
       "26-35           520\n",
       "56+             298\n",
       "18-25            85\n",
       "unknown          60\n",
       "17 and under     49\n",
       "Name: count, dtype: int64"
      ]
     },
     "execution_count": 38,
     "metadata": {},
     "output_type": "execute_result"
    }
   ],
   "source": [
    "# look at the value counts of each category\n",
    "candy['Q3: AGE'].value_counts()"
   ]
  },
  {
   "attachments": {},
   "cell_type": "markdown",
   "metadata": {},
   "source": [
    "Make sure the output is 0 for null values."
   ]
  },
  {
   "cell_type": "code",
   "execution_count": 39,
   "metadata": {},
   "outputs": [
    {
     "data": {
      "text/plain": [
       "Q1: GOING OUT?             0\n",
       "Q2: GENDER                 0\n",
       "Q3: AGE                    0\n",
       "Q4: COUNTRY                0\n",
       "Q6 | 100 Grand Bar         0\n",
       "                          ..\n",
       "Q11: DAY                   0\n",
       "Q12: MEDIA [Daily Dish]    0\n",
       "Q12: MEDIA [Science]       0\n",
       "Q12: MEDIA [ESPN]          0\n",
       "Q12: MEDIA [Yahoo]         0\n",
       "Length: 113, dtype: int64"
      ]
     },
     "execution_count": 39,
     "metadata": {},
     "output_type": "execute_result"
    }
   ],
   "source": [
    "candy.isnull().sum()"
   ]
  },
  {
   "attachments": {},
   "cell_type": "markdown",
   "metadata": {},
   "source": [
    "Reset the index for `candy` ensuring that it goes from 0 to n-1.  "
   ]
  },
  {
   "cell_type": "code",
   "execution_count": 40,
   "metadata": {},
   "outputs": [],
   "source": [
    "candy = candy.reset_index(drop=True)"
   ]
  },
  {
   "attachments": {},
   "cell_type": "markdown",
   "metadata": {},
   "source": [
    "## Feature Engineering \n",
    "\n",
    "Feature engineering is the process of transforming raw data into features that better represent the underlying problem to the predictive models.  In this section, I will create a new column called \"net_feelies\" (calculated by the authors as the total joy count minus the total despair count).\n",
    "\n",
    "First, let's narrow down the data to make working with it easier.\n",
    "\n",
    "Select only the Q6 candy columns (`Q6 | 100 Grand Bar` through `Q6 | York Peppermint Patties`) in the data set and save this as a new DataFrame called `candy_reduced`."
   ]
  },
  {
   "cell_type": "code",
   "execution_count": 41,
   "metadata": {},
   "outputs": [],
   "source": [
    "candy_reduced = candy.loc[:,'Q6 | 100 Grand Bar':'Q6 | York Peppermint Patties']"
   ]
  },
  {
   "attachments": {},
   "cell_type": "markdown",
   "metadata": {},
   "source": [
    "Next, we will create two Series, one with JOY counts and one with DESPAIR counts to add to the `candy_reduced` data.\n",
    "\n",
    "Next, I will create a Series called `joy_count` that lists total counts for JOY for each column, making sure to keep it in the same order as the columns in the `candy_reduced` DataFrame."
   ]
  },
  {
   "cell_type": "code",
   "execution_count": 42,
   "metadata": {},
   "outputs": [],
   "source": [
    "joy_count = candy_reduced[candy_reduced == 'JOY'].count()\n"
   ]
  },
  {
   "attachments": {},
   "cell_type": "markdown",
   "metadata": {},
   "source": [
    "I will do the same as above except I will create a Series called `despair_count` that lists the total counts for DESPAIR for each column."
   ]
  },
  {
   "cell_type": "code",
   "execution_count": 43,
   "metadata": {},
   "outputs": [],
   "source": [
    "despair_count = candy_reduced[candy_reduced == 'DESPAIR'].count()"
   ]
  },
  {
   "attachments": {},
   "cell_type": "markdown",
   "metadata": {},
   "source": [
    "Take the transpose of the `candy_reduced` DataFrame and save this transposed data as `candy_reduced_transpose`."
   ]
  },
  {
   "cell_type": "code",
   "execution_count": 44,
   "metadata": {},
   "outputs": [],
   "source": [
    "candy_reduced_transpose = np.transpose(candy_reduced)"
   ]
  },
  {
   "attachments": {},
   "cell_type": "markdown",
   "metadata": {},
   "source": [
    "I will add a new column called \"joy_count\" using the `joy_count` Series above and a new column called 'despair_count\" using the `despair_count` Series above to the `candy_reduced_transpose` DataFrame."
   ]
  },
  {
   "cell_type": "code",
   "execution_count": 45,
   "metadata": {},
   "outputs": [],
   "source": [
    "candy_reduced_transpose['joy_count'] = joy_count\n",
    "candy_reduced_transpose['despair_count'] = despair_count"
   ]
  },
  {
   "attachments": {},
   "cell_type": "markdown",
   "metadata": {},
   "source": [
    "Adding a new column to the `candy_reduced_transpose` DataFrame called \"net_feelies\" that takes the `joy_count` column and subtracts the `despair_count` column."
   ]
  },
  {
   "cell_type": "code",
   "execution_count": 46,
   "metadata": {},
   "outputs": [],
   "source": [
    "candy_reduced_transpose['net_feelies'] = (joy_count-despair_count)"
   ]
  },
  {
   "attachments": {},
   "cell_type": "markdown",
   "metadata": {},
   "source": [
    "I will select only the `joy_count`, `despair_count`, and `net_feelies` columns from the `candy_reduced_transpose` DataFrame, and sort this DataFrame in descending order by `net_feelies` and save as `candy_net_sorted`."
   ]
  },
  {
   "cell_type": "code",
   "execution_count": 47,
   "metadata": {},
   "outputs": [],
   "source": [
    "candy_net_sorted = candy_reduced_transpose.loc[:,'joy_count':'net_feelies'].sort_values('net_feelies',ascending=False)"
   ]
  },
  {
   "attachments": {},
   "cell_type": "markdown",
   "metadata": {},
   "source": [
    "## Encoding\n",
    "\n",
    "I now want to get the `candy` DataFrame ready to run a machine learning algorthim to determine if we could predict a person's gender based on what candy they prefer."
   ]
  },
  {
   "attachments": {},
   "cell_type": "markdown",
   "metadata": {},
   "source": [
    "Make a copy of the `candy` DataFrame and save this new DataFrame as `candy_encode`."
   ]
  },
  {
   "cell_type": "code",
   "execution_count": 48,
   "metadata": {},
   "outputs": [],
   "source": [
    "candy_encode = candy.copy()"
   ]
  },
  {
   "attachments": {},
   "cell_type": "markdown",
   "metadata": {},
   "source": [
    "For the `candy_encode` DataFrame, I will replace any `Female` values with `0` and any `Male` values with `1`."
   ]
  },
  {
   "cell_type": "code",
   "execution_count": 49,
   "metadata": {},
   "outputs": [],
   "source": [
    "candy_encode = candy_encode.replace('Female','0')\n",
    "candy_encode = candy_encode.replace('Male','1')\n"
   ]
  },
  {
   "attachments": {},
   "cell_type": "markdown",
   "metadata": {},
   "source": [
    "Selecting only the `Q2: GENDER` column from `candy_encode` and save this as `candy_response` as a Series.\n",
    "Drop the following columns from the `candy_encode` DataFrame: `Q2: GENDER`,`Q1: GOING OUT?`,`Q3: AGE`,`Q4: COUNTRY`,`Q10: DRESS`,`Q11: DAY`, `Q12: MEDIA [Daily Dish]`,`Q12: MEDIA [Science]`,`Q12: MEDIA [ESPN]`,`Q12: MEDIA [Yahoo]`.  I will save the remaining columns as `candy_features`."
   ]
  },
  {
   "cell_type": "code",
   "execution_count": 50,
   "metadata": {},
   "outputs": [],
   "source": [
    "candy_response = (candy_encode['Q2: GENDER']).astype(int)\n",
    "candy_features = candy_encode.drop(['Q2: GENDER','Q1: GOING OUT?','Q3: AGE','Q4: COUNTRY','Q10: DRESS',\n",
    "'Q11: DAY','Q12: MEDIA [Daily Dish]','Q12: MEDIA [Science]','Q12: MEDIA [ESPN]','Q12: MEDIA [Yahoo]'],axis=1)\n",
    "candy_response = candy_response.reset_index(drop=True)\n",
    "candy_features = candy_features.reset_index(drop=True)"
   ]
  },
  {
   "attachments": {},
   "cell_type": "markdown",
   "metadata": {},
   "source": [
    "Using Panda's `get_dummies()` to encode the `candy_features` data, making sure to set `drop_first=True`. Saved as `candy_features_encoded`."
   ]
  },
  {
   "cell_type": "code",
   "execution_count": 51,
   "metadata": {},
   "outputs": [],
   "source": [
    "candy_features_encoded = pd.get_dummies(candy_features,drop_first=True)"
   ]
  },
  {
   "attachments": {},
   "cell_type": "markdown",
   "metadata": {},
   "source": [
    "**Code Check:** Make sure that the `candy`, `candy_features`, `candy_response` and `candy_features_encoded` have an index that goes from 0 to n-1 or your final CodeGrade tests will not pass."
   ]
  },
  {
   "attachments": {},
   "cell_type": "markdown",
   "metadata": {},
   "source": [
    "## Final Analysis\n",
    "\n",
    "I have now cleaned your data and prepared it to be passed to a machine learning model.  \n",
    "\n",
    "My instructor for this course then created models using Random Forest, Logistic Regression, and XGBoost algorithms, and they all returned around 70% accuracy rates. However, the other accuracy metrics didn't look as good. Given the metrics that were calculated, I would say that based only on this data, using candy preference is not that great of an indicator of someone's gender.\n",
    "\n"
   ]
  }
 ],
 "metadata": {
  "kernelspec": {
   "display_name": "Python 3",
   "language": "python",
   "name": "python3"
  },
  "language_info": {
   "codemirror_mode": {
    "name": "ipython",
    "version": 3
   },
   "file_extension": ".py",
   "mimetype": "text/x-python",
   "name": "python",
   "nbconvert_exporter": "python",
   "pygments_lexer": "ipython3",
   "version": "3.11.4"
  }
 },
 "nbformat": 4,
 "nbformat_minor": 4
}
